{
  "nbformat": 4,
  "nbformat_minor": 0,
  "metadata": {
    "colab": {
      "name": "LS_DS_432_TensorFlow_Assignment",
      "provenance": [],
      "collapsed_sections": []
    },
    "kernelspec": {
      "name": "python3",
      "display_name": "Python 3"
    },
    "accelerator": "GPU"
  },
  "cells": [
    {
      "cell_type": "markdown",
      "metadata": {
        "id": "ObyHCH8HvHSf"
      },
      "source": [
        "<img align=\"left\" src=\"https://lever-client-logos.s3.amazonaws.com/864372b1-534c-480e-acd5-9711f850815c-1524247202159.png\" width=200>\n",
        "<br></br>\n",
        "<br></br>\n",
        "\n",
        "# *Data Science Unit 4 Sprint 2 Assignment 1*\n",
        "\n",
        "Use TensorFlow Keras & a sample of the [Quickdraw dataset](https://github.com/googlecreativelab/quickdraw-dataset) to build a sketch classification model. The dataset has been sampled to only 10 classes and 10000 observations per class. Please build a baseline classification model then run a few experiments with different optimizers and learning rates. \n",
        "\n",
        "*Don't forgot to switch to GPU on Colab!*"
      ]
    },
    {
      "cell_type": "markdown",
      "metadata": {
        "id": "s-Tc3ovEyQ9b"
      },
      "source": [
        "## Load Your Data"
      ]
    },
    {
      "cell_type": "code",
      "metadata": {
        "id": "CkU0pAYCvU8o",
        "colab": {
          "base_uri": "https://localhost:8080/"
        },
        "outputId": "402e6335-95bd-444f-820d-9075a548bc1c"
      },
      "source": [
        "\n",
        "import numpy as np\n",
        "import tensorflow as tf \n",
        "\n",
        "data = np.load('quickdraw10.npz')\n",
        "X = data['arr_0']\n",
        "y = data['arr_1']\n",
        "\n",
        "print(X.shape)\n",
        "print(y.shape)"
      ],
      "execution_count": 1,
      "outputs": [
        {
          "output_type": "stream",
          "text": [
            "(100000, 784)\n",
            "(100000,)\n"
          ],
          "name": "stdout"
        }
      ]
    },
    {
      "cell_type": "code",
      "metadata": {
        "id": "c8qsDqdqvHDd"
      },
      "source": [
        "class_names = ['apple',\n",
        " 'anvil',\n",
        " 'airplane',\n",
        " 'banana',\n",
        " 'The Eiffel Tower',\n",
        " 'The Mona Lisa',\n",
        " 'The Great Wall of China',\n",
        " 'alarm clock',\n",
        " 'ant',\n",
        " 'asparagus']"
      ],
      "execution_count": 2,
      "outputs": []
    },
    {
      "cell_type": "code",
      "metadata": {
        "id": "Owbm1EbxvA5A",
        "colab": {
          "base_uri": "https://localhost:8080/",
          "height": 289
        },
        "outputId": "124675a1-22d5-44c4-c9aa-4875125be01a"
      },
      "source": [
        "import matplotlib.pyplot as plt\n",
        "plt.figure(figsize=(10,5))\n",
        "start = 0\n",
        "\n",
        "for num, name in enumerate(class_names):\n",
        "    plt.subplot(2,5, num+1)\n",
        "    plt.xticks([])\n",
        "    plt.yticks([])\n",
        "    plt.grid(False)\n",
        "    plt.imshow(X[start].reshape(28,28), cmap=plt.cm.binary)\n",
        "    plt.xlabel(name)\n",
        "    start += 10000\n",
        "plt.show()"
      ],
      "execution_count": 3,
      "outputs": [
        {
          "output_type": "display_data",
          "data": {
            "image/png": "[encoded data removed]",
            "text/plain": [
              "<Figure size 720x360 with 10 Axes>"
            ]
          },
          "metadata": {
            "tags": []
          }
        }
      ]
    },
    {
      "cell_type": "code",
      "metadata": {
        "id": "c97_M1WNvTNY"
      },
      "source": [
        "# Need this line to randomly shuffle both the X & y at the same time.\n",
        "\n",
        "from sklearn.utils import shuffle\n",
        "X, y = shuffle(X, y)"
      ],
      "execution_count": 4,
      "outputs": []
    },
    {
      "cell_type": "code",
      "metadata": {
        "id": "gMKsTqepu5je",
        "outputId": "9ce81def-32ee-44ab-fb42-8e3df0481e0b",
        "colab": {
          "base_uri": "https://localhost:8080/"
        }
      },
      "source": [
        "X.shape, y.shape"
      ],
      "execution_count": 5,
      "outputs": [
        {
          "output_type": "execute_result",
          "data": {
            "text/plain": [
              "((100000, 784), (100000,))"
            ]
          },
          "metadata": {
            "tags": []
          },
          "execution_count": 5
        }
      ]
    },
    {
      "cell_type": "markdown",
      "metadata": {
        "id": "jb70CbLVyK65"
      },
      "source": [
        "## Build Your Baseline Model\n",
        "Some Hints:\n",
        "\n",
        "\n",
        "*  Model should have 784 input values (like mnist)\n",
        "*  Use `sparse_categorical_crossentropy` as your loss function.\n",
        "* You need 10 neurons in your last layer for output\n",
        "* You can add as many hidden layers with as many neurons in them as you like. \n",
        "* Limit your model epochs to 30 each time you fit.\n",
        "* You can use the `validation_split` command to automatically create a training / validation dataset.  Specify a percentage such as .2 in your fit statement. \n",
        "\n"
      ]
    },
    {
      "cell_type": "code",
      "metadata": {
        "id": "RTa64HoApqvg"
      },
      "source": [
        "import tensorflow as tf\n",
        "from tensorflow.keras.models import Sequential\n",
        "from tensorflow.keras.layers import Dense"
      ],
      "execution_count": 6,
      "outputs": []
    },
    {
      "cell_type": "code",
      "metadata": {
        "id": "_1y9i--psKUh",
        "outputId": "848a33d8-8e6e-46ab-c02b-3d8a52e2b3bf",
        "colab": {
          "base_uri": "https://localhost:8080/"
        }
      },
      "source": [
        "model = Sequential() # https://keras.io/getting-started/sequential-model-guide/\n",
        "# Hidden Layer #1\n",
        "model.add(Dense(units=128, input_dim=784, activation='sigmoid', name='Input_Layer'))\n",
        "\n",
        "# Hidden Layer #2\n",
        "model.add(Dense(units=128, activation='sigmoid'))\n",
        "\n",
        "# Output Layer, specify the number of labels \n",
        "model.add(Dense(units=10, activation='softmax'))\n",
        "\n",
        "# Print summary\n",
        "model.summary()"
      ],
      "execution_count": 7,
      "outputs": [
        {
          "output_type": "stream",
          "text": [
            "Model: \"sequential\"\n",
            "_________________________________________________________________\n",
            "Layer (type)                 Output Shape              Param #   \n",
            "=================================================================\n",
            "Input_Layer (Dense)          (None, 128)               100480    \n",
            "_________________________________________________________________\n",
            "dense (Dense)                (None, 128)               16512     \n",
            "_________________________________________________________________\n",
            "dense_1 (Dense)              (None, 10)                1290      \n",
            "=================================================================\n",
            "Total params: 118,282\n",
            "Trainable params: 118,282\n",
            "Non-trainable params: 0\n",
            "_________________________________________________________________\n"
          ],
          "name": "stdout"
        }
      ]
    },
    {
      "cell_type": "code",
      "metadata": {
        "id": "QHyvBhDus-bc"
      },
      "source": [
        "model.compile(loss='sparse_categorical_crossentropy', \n",
        "              optimizer='SGD', \n",
        "              metrics=['accuracy'])"
      ],
      "execution_count": 8,
      "outputs": []
    },
    {
      "cell_type": "code",
      "metadata": {
        "id": "ow9X6I2CuCfu",
        "outputId": "532de687-8923-4276-87e0-3431f80be851",
        "colab": {
          "base_uri": "https://localhost:8080/"
        }
      },
      "source": [
        "baseline_1 = model.fit(X, \n",
        "          y, \n",
        "          batch_size=32,\n",
        "          validation_split=0.2,\n",
        "          epochs=30)"
      ],
      "execution_count": 9,
      "outputs": [
        {
          "output_type": "stream",
          "text": [
            "Epoch 1/30\n",
            "2500/2500 [==============================] - 6s 2ms/step - loss: 1.8686 - accuracy: 0.4351 - val_loss: 1.1110 - val_accuracy: 0.6942\n",
            "Epoch 2/30\n",
            "2500/2500 [==============================] - 5s 2ms/step - loss: 1.0423 - accuracy: 0.7025 - val_loss: 0.9032 - val_accuracy: 0.7290\n",
            "Epoch 3/30\n",
            "2500/2500 [==============================] - 5s 2ms/step - loss: 0.8890 - accuracy: 0.7339 - val_loss: 0.8357 - val_accuracy: 0.7496\n",
            "Epoch 4/30\n",
            "2500/2500 [==============================] - 5s 2ms/step - loss: 0.8242 - accuracy: 0.7533 - val_loss: 0.8028 - val_accuracy: 0.7569\n",
            "Epoch 5/30\n",
            "2500/2500 [==============================] - 5s 2ms/step - loss: 0.7916 - accuracy: 0.7621 - val_loss: 0.7735 - val_accuracy: 0.7653\n",
            "Epoch 6/30\n",
            "2500/2500 [==============================] - 5s 2ms/step - loss: 0.7554 - accuracy: 0.7724 - val_loss: 0.7507 - val_accuracy: 0.7764\n",
            "Epoch 7/30\n",
            "2500/2500 [==============================] - 5s 2ms/step - loss: 0.7458 - accuracy: 0.7750 - val_loss: 0.7405 - val_accuracy: 0.7732\n",
            "Epoch 8/30\n",
            "2500/2500 [==============================] - 5s 2ms/step - loss: 0.7215 - accuracy: 0.7825 - val_loss: 0.7347 - val_accuracy: 0.7794\n",
            "Epoch 9/30\n",
            "2500/2500 [==============================] - 5s 2ms/step - loss: 0.7090 - accuracy: 0.7864 - val_loss: 0.7132 - val_accuracy: 0.7854\n",
            "Epoch 10/30\n",
            "2500/2500 [==============================] - 5s 2ms/step - loss: 0.7060 - accuracy: 0.7867 - val_loss: 0.7066 - val_accuracy: 0.7854\n",
            "Epoch 11/30\n",
            "2500/2500 [==============================] - 6s 2ms/step - loss: 0.6978 - accuracy: 0.7882 - val_loss: 0.7019 - val_accuracy: 0.7869\n",
            "Epoch 12/30\n",
            "2500/2500 [==============================] - 6s 2ms/step - loss: 0.6843 - accuracy: 0.7919 - val_loss: 0.6912 - val_accuracy: 0.7893\n",
            "Epoch 13/30\n",
            "2500/2500 [==============================] - 6s 2ms/step - loss: 0.6795 - accuracy: 0.7933 - val_loss: 0.6964 - val_accuracy: 0.7863\n",
            "Epoch 14/30\n",
            "2500/2500 [==============================] - 6s 2ms/step - loss: 0.6629 - accuracy: 0.7982 - val_loss: 0.6838 - val_accuracy: 0.7901\n",
            "Epoch 15/30\n",
            "2500/2500 [==============================] - 5s 2ms/step - loss: 0.6734 - accuracy: 0.7955 - val_loss: 0.6933 - val_accuracy: 0.7903\n",
            "Epoch 16/30\n",
            "2500/2500 [==============================] - 5s 2ms/step - loss: 0.6681 - accuracy: 0.7959 - val_loss: 0.6728 - val_accuracy: 0.7926\n",
            "Epoch 17/30\n",
            "2500/2500 [==============================] - 5s 2ms/step - loss: 0.6516 - accuracy: 0.8010 - val_loss: 0.6828 - val_accuracy: 0.7911\n",
            "Epoch 18/30\n",
            "2500/2500 [==============================] - 6s 2ms/step - loss: 0.6566 - accuracy: 0.8014 - val_loss: 0.6966 - val_accuracy: 0.7862\n",
            "Epoch 19/30\n",
            "2500/2500 [==============================] - 5s 2ms/step - loss: 0.6609 - accuracy: 0.8004 - val_loss: 0.6780 - val_accuracy: 0.7934\n",
            "Epoch 20/30\n",
            "2500/2500 [==============================] - 6s 2ms/step - loss: 0.6621 - accuracy: 0.7974 - val_loss: 0.6955 - val_accuracy: 0.7853\n",
            "Epoch 21/30\n",
            "2500/2500 [==============================] - 5s 2ms/step - loss: 0.6609 - accuracy: 0.7983 - val_loss: 0.6786 - val_accuracy: 0.7930\n",
            "Epoch 22/30\n",
            "2500/2500 [==============================] - 6s 2ms/step - loss: 0.6524 - accuracy: 0.8015 - val_loss: 0.6781 - val_accuracy: 0.7931\n",
            "Epoch 23/30\n",
            "2500/2500 [==============================] - 6s 2ms/step - loss: 0.6541 - accuracy: 0.7996 - val_loss: 0.6585 - val_accuracy: 0.7991\n",
            "Epoch 24/30\n",
            "2500/2500 [==============================] - 5s 2ms/step - loss: 0.6294 - accuracy: 0.8059 - val_loss: 0.6894 - val_accuracy: 0.7897\n",
            "Epoch 25/30\n",
            "2500/2500 [==============================] - 5s 2ms/step - loss: 0.6536 - accuracy: 0.7984 - val_loss: 0.6635 - val_accuracy: 0.7954\n",
            "Epoch 26/30\n",
            "2500/2500 [==============================] - 5s 2ms/step - loss: 0.6406 - accuracy: 0.8038 - val_loss: 0.6816 - val_accuracy: 0.7898\n",
            "Epoch 27/30\n",
            "2500/2500 [==============================] - 6s 2ms/step - loss: 0.6430 - accuracy: 0.8041 - val_loss: 0.6717 - val_accuracy: 0.7925\n",
            "Epoch 28/30\n",
            "2500/2500 [==============================] - 6s 2ms/step - loss: 0.6377 - accuracy: 0.8020 - val_loss: 0.6658 - val_accuracy: 0.7923\n",
            "Epoch 29/30\n",
            "2500/2500 [==============================] - 5s 2ms/step - loss: 0.6397 - accuracy: 0.8033 - val_loss: 0.6571 - val_accuracy: 0.7982\n",
            "Epoch 30/30\n",
            "2500/2500 [==============================] - 6s 2ms/step - loss: 0.6281 - accuracy: 0.8065 - val_loss: 0.6803 - val_accuracy: 0.7863\n"
          ],
          "name": "stdout"
        }
      ]
    },
    {
      "cell_type": "code",
      "metadata": {
        "id": "fwRO9BP8px9i"
      },
      "source": [
        ""
      ],
      "execution_count": 9,
      "outputs": []
    },
    {
      "cell_type": "markdown",
      "metadata": {
        "id": "b0QJURWh-9uv"
      },
      "source": [
        "### Visualize the results\n",
        "\n",
        "Create charts for both loss and accuracy by epoch. Use line graphs for both charts. Analyze the results. \n",
        "\n",
        "At what point should we have stopped training the model and why? "
      ]
    },
    {
      "cell_type": "code",
      "metadata": {
        "id": "j8Xm0Lx7xby9"
      },
      "source": [
        "# baseline_1.history"
      ],
      "execution_count": 10,
      "outputs": []
    },
    {
      "cell_type": "code",
      "metadata": {
        "id": "ijAlzfYKAFaY",
        "colab": {
          "base_uri": "https://localhost:8080/",
          "height": 279
        },
        "outputId": "157a38f1-196f-4468-a170-f1f6a6065939"
      },
      "source": [
        "import seaborn as sns\n",
        "import pandas as pd\n",
        "\n",
        "df = pd.DataFrame.from_records(baseline_1.history)\n",
        "df['epoch'] = [i for i in range(df.shape[0])]\n",
        "\n",
        "ax = sns.lineplot(x='epoch', y='val_loss', data=df)\n",
        "ax = sns.lineplot(x='epoch', y='loss', data=df);"
      ],
      "execution_count": 11,
      "outputs": [
        {
          "output_type": "display_data",
          "data": {
            "image/png": "[encoded data removed]",
            "text/plain": [
              "<Figure size 432x288 with 1 Axes>"
            ]
          },
          "metadata": {
            "tags": [],
            "needs_background": "light"
          }
        }
      ]
    },
    {
      "cell_type": "markdown",
      "metadata": {
        "id": "MAhBrcE4yOZe"
      },
      "source": [
        "## Change Optimizers\n",
        "Try using the keras `adam` optimizer instead of `sgd` in your model. Visualize the difference in validation loss between the models with different optimizers. "
      ]
    },
    {
      "cell_type": "code",
      "metadata": {
        "id": "jIW_spOZ0cxy"
      },
      "source": [
        "# from tf.keras.optimizers import Adam\n",
        "import tensorflow as tf\n",
        "from tensorflow import keras\n",
        "from keras.optimizers import Adam\n",
        "\n",
        "adam = Adam()\n"
      ],
      "execution_count": 12,
      "outputs": []
    },
    {
      "cell_type": "code",
      "metadata": {
        "id": "SUuQ4Xb9MSDC"
      },
      "source": [
        "model.compile(loss='sparse_categorical_crossentropy', \n",
        "              optimizer=adam, \n",
        "              metrics=['accuracy'])"
      ],
      "execution_count": 13,
      "outputs": []
    },
    {
      "cell_type": "code",
      "metadata": {
        "id": "q2xyTj8-ubm7",
        "outputId": "d7379cba-2c99-4786-e3ff-eaa58c0f33e2",
        "colab": {
          "base_uri": "https://localhost:8080/"
        }
      },
      "source": [
        "baseline_2 = model.fit(X, \n",
        "          y, \n",
        "          batch_size=32,\n",
        "          validation_split=0.2,\n",
        "          epochs=30)"
      ],
      "execution_count": 14,
      "outputs": [
        {
          "output_type": "stream",
          "text": [
            "Epoch 1/30\n",
            "2500/2500 [==============================] - 7s 3ms/step - loss: 0.6812 - accuracy: 0.7884 - val_loss: 0.7208 - val_accuracy: 0.7750\n",
            "Epoch 2/30\n",
            "2500/2500 [==============================] - 6s 3ms/step - loss: 0.7048 - accuracy: 0.7824 - val_loss: 0.6998 - val_accuracy: 0.7844\n",
            "Epoch 3/30\n",
            "2500/2500 [==============================] - 6s 3ms/step - loss: 0.6812 - accuracy: 0.7888 - val_loss: 0.6893 - val_accuracy: 0.7863\n",
            "Epoch 4/30\n",
            "2500/2500 [==============================] - 6s 2ms/step - loss: 0.6715 - accuracy: 0.7876 - val_loss: 0.6798 - val_accuracy: 0.7859\n",
            "Epoch 5/30\n",
            "2500/2500 [==============================] - 6s 3ms/step - loss: 0.6767 - accuracy: 0.7868 - val_loss: 0.6932 - val_accuracy: 0.7831\n",
            "Epoch 6/30\n",
            "2500/2500 [==============================] - 6s 3ms/step - loss: 0.6663 - accuracy: 0.7893 - val_loss: 0.6791 - val_accuracy: 0.7864\n",
            "Epoch 7/30\n",
            "2500/2500 [==============================] - 6s 3ms/step - loss: 0.6553 - accuracy: 0.7931 - val_loss: 0.6570 - val_accuracy: 0.7918\n",
            "Epoch 8/30\n",
            "2500/2500 [==============================] - 6s 3ms/step - loss: 0.6419 - accuracy: 0.7956 - val_loss: 0.6585 - val_accuracy: 0.7921\n",
            "Epoch 9/30\n",
            "2500/2500 [==============================] - 6s 3ms/step - loss: 0.6352 - accuracy: 0.8023 - val_loss: 0.6386 - val_accuracy: 0.7993\n",
            "Epoch 10/30\n",
            "2500/2500 [==============================] - 6s 3ms/step - loss: 0.6314 - accuracy: 0.8016 - val_loss: 0.6310 - val_accuracy: 0.8000\n",
            "Epoch 11/30\n",
            "2500/2500 [==============================] - 6s 3ms/step - loss: 0.6163 - accuracy: 0.8054 - val_loss: 0.6367 - val_accuracy: 0.7990\n",
            "Epoch 12/30\n",
            "2500/2500 [==============================] - 6s 3ms/step - loss: 0.6072 - accuracy: 0.8068 - val_loss: 0.6212 - val_accuracy: 0.8033\n",
            "Epoch 13/30\n",
            "2500/2500 [==============================] - 6s 3ms/step - loss: 0.5970 - accuracy: 0.8128 - val_loss: 0.6164 - val_accuracy: 0.8055\n",
            "Epoch 14/30\n",
            "2500/2500 [==============================] - 6s 3ms/step - loss: 0.5853 - accuracy: 0.8146 - val_loss: 0.6174 - val_accuracy: 0.8057\n",
            "Epoch 15/30\n",
            "2500/2500 [==============================] - 6s 3ms/step - loss: 0.5912 - accuracy: 0.8129 - val_loss: 0.6043 - val_accuracy: 0.8102\n",
            "Epoch 16/30\n",
            "2500/2500 [==============================] - 6s 3ms/step - loss: 0.5782 - accuracy: 0.8173 - val_loss: 0.6117 - val_accuracy: 0.8078\n",
            "Epoch 17/30\n",
            "2500/2500 [==============================] - 6s 3ms/step - loss: 0.5814 - accuracy: 0.8158 - val_loss: 0.5979 - val_accuracy: 0.8113\n",
            "Epoch 18/30\n",
            "2500/2500 [==============================] - 6s 3ms/step - loss: 0.5759 - accuracy: 0.8159 - val_loss: 0.5876 - val_accuracy: 0.8145\n",
            "Epoch 19/30\n",
            "2500/2500 [==============================] - 6s 3ms/step - loss: 0.5635 - accuracy: 0.8219 - val_loss: 0.5854 - val_accuracy: 0.8177\n",
            "Epoch 20/30\n",
            "2500/2500 [==============================] - 6s 3ms/step - loss: 0.5592 - accuracy: 0.8232 - val_loss: 0.5955 - val_accuracy: 0.8142\n",
            "Epoch 21/30\n",
            "2500/2500 [==============================] - 7s 3ms/step - loss: 0.5659 - accuracy: 0.8208 - val_loss: 0.5886 - val_accuracy: 0.8164\n",
            "Epoch 22/30\n",
            "2500/2500 [==============================] - 7s 3ms/step - loss: 0.5577 - accuracy: 0.8233 - val_loss: 0.5828 - val_accuracy: 0.8173\n",
            "Epoch 23/30\n",
            "2500/2500 [==============================] - 6s 3ms/step - loss: 0.5526 - accuracy: 0.8251 - val_loss: 0.5724 - val_accuracy: 0.8205\n",
            "Epoch 24/30\n",
            "2500/2500 [==============================] - 6s 3ms/step - loss: 0.5555 - accuracy: 0.8239 - val_loss: 0.5766 - val_accuracy: 0.8190\n",
            "Epoch 25/30\n",
            "2500/2500 [==============================] - 6s 3ms/step - loss: 0.5403 - accuracy: 0.8300 - val_loss: 0.5652 - val_accuracy: 0.8273\n",
            "Epoch 26/30\n",
            "2500/2500 [==============================] - 6s 3ms/step - loss: 0.5324 - accuracy: 0.8348 - val_loss: 0.5608 - val_accuracy: 0.8267\n",
            "Epoch 27/30\n",
            "2500/2500 [==============================] - 6s 3ms/step - loss: 0.5339 - accuracy: 0.8313 - val_loss: 0.5641 - val_accuracy: 0.8250\n",
            "Epoch 28/30\n",
            "2500/2500 [==============================] - 6s 3ms/step - loss: 0.5356 - accuracy: 0.8325 - val_loss: 0.5616 - val_accuracy: 0.8253\n",
            "Epoch 29/30\n",
            "2500/2500 [==============================] - 7s 3ms/step - loss: 0.5395 - accuracy: 0.8306 - val_loss: 0.5667 - val_accuracy: 0.8207\n",
            "Epoch 30/30\n",
            "2500/2500 [==============================] - 6s 3ms/step - loss: 0.5365 - accuracy: 0.8306 - val_loss: 0.5639 - val_accuracy: 0.8223\n"
          ],
          "name": "stdout"
        }
      ]
    },
    {
      "cell_type": "code",
      "metadata": {
        "id": "R4LzNJcouh9S",
        "outputId": "0673660a-00a3-4abd-fa15-e91aa32ac2b9",
        "colab": {
          "base_uri": "https://localhost:8080/",
          "height": 279
        }
      },
      "source": [
        "df_atam = pd.DataFrame.from_records(baseline_2.history)\n",
        "df_atam['epoch'] = [i for i in range(df_atam.shape[0])]\n",
        "\n",
        "ax = sns.lineplot(x='epoch', y='val_loss', data=df_atam)\n",
        "ax = sns.lineplot(x='epoch', y='loss', data=df_atam);"
      ],
      "execution_count": 15,
      "outputs": [
        {
          "output_type": "display_data",
          "data": {
            "image/png": "[encoded data removed]",
            "text/plain": [
              "<Figure size 432x288 with 1 Axes>"
            ]
          },
          "metadata": {
            "tags": [],
            "needs_background": "light"
          }
        }
      ]
    },
    {
      "cell_type": "markdown",
      "metadata": {
        "id": "EJrbh3qryi4w"
      },
      "source": [
        "### Additional Written Tasks:\n",
        "In this section, you will need to search for resources: \n",
        "1. Investigate the various [loss functions](https://www.tensorflow.org/api_docs/python/tf/keras/losses). Which is best suited for the task at hand (predicting 1 / 0) and why? \n",
        "2. What is the difference between a loss function and a metric? Why might we need both in Keras? \n",
        "3. Investigate the various [optimizers](https://www.tensorflow.org/api_docs/python/tf/keras/optimizers). Stochastic[随机的] Gradient Descent (`sgd`) is not the learning algorithm dejour anyone. Why is that? What do newer optimizers such as `adam` have to offer? "
      ]
    },
    {
      "cell_type": "markdown",
      "metadata": {
        "id": "NqfH8MdGMbz9"
      },
      "source": [
        "### My answer:\n",
        "1. [tf.keras.losses.binary_crossentropy](https://https://www.tensorflow.org/api_docs/python/tf/keras/losses/binary_crossentropy) is best suited for predicting 1 / 0\n",
        "2. What is the difference between a loss function and a metric? Why might we need both in Keras?\n",
        "\n",
        "* The loss function is used to optimize your model. This is the function that will get minimized by the optimizer.\n",
        "\n",
        "* A metric is used to judge the performance of your model. This is only for you to look at and has nothing to do with the optimization process.\n",
        "\n",
        "* We need both to decide when the model is overfitting\n",
        "\n",
        "3. Adam is computationally efficient, has little memory requirement, invariant to diagonal rescaling of gradients, and is well suited for problems that are large in terms of data/parameters\n"
      ]
    },
    {
      "cell_type": "markdown",
      "metadata": {
        "id": "Gzs4fd-RynDd"
      },
      "source": [
        "## Stretch Goals: \n",
        "\n",
        "- Research convolutional neural networks and try including convolution layers in your network.\n",
        "- Pick two classes and make QuickDraw a binary classification problem, how does your model architecture change?\n",
        "- Implement Cross Validation model evaluation on your Quickdraw implementation \n",
        "\n",
        "Watch some more videos on Gradient Descent:\n",
        "- [Gradient Descent, Step-by-Step](https://www.youtube.com/watch?v=sDv4f4s2SB8)  by StatQuest w/ Josh Starmer. This will help you understand the gradient descent based optimization that happens underneath the hood of neural networks. It uses a non-neural network example, which I believe is a gentler introduction. You will hear me refer to this technique as \"vanilla\" gradient descent. \n",
        "- [Stochastic Gradient Descent, Clearly Explained!!!](https://www.youtube.com/watch?v=vMh0zPT0tLI) by StatQuest w/ Josh Starmer. This builds on the techniques in the previous video.  This technique is the one that is actually implemented inside modern 'nets. \n",
        "- [Siraj Raval the evolution of gradient descent](https://www.youtube.com/watch?v=nhqo0u1a6fw)"
      ]
    }
  ]
}