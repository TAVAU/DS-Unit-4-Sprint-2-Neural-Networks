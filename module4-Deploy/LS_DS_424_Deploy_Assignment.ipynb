{
  "nbformat": 4,
  "nbformat_minor": 0,
  "metadata": {
    "colab": {
      "name": "LS_DS_434_Deploy_Assignment.ipynb",
      "provenance": [],
      "collapsed_sections": []
    },
    "kernelspec": {
      "display_name": "py37  (Python3)",
      "language": "python",
      "name": "py37"
    },
    "language_info": {
      "codemirror_mode": {
        "name": "ipython",
        "version": 3
      },
      "file_extension": ".py",
      "mimetype": "text/x-python",
      "name": "python",
      "nbconvert_exporter": "python",
      "pygments_lexer": "ipython3",
      "version": "3.7.0"
    },
    "nteract": {
      "version": "0.22.4"
    },
    "accelerator": "GPU"
  },
  "cells": [
    {
      "cell_type": "markdown",
      "metadata": {
        "id": "NGGrt9EYlCqY"
      },
      "source": [
        "\n",
        "\n",
        "\n",
        "# *Data Science Unit 4 Sprint 2 Assignment 4*\n",
        "\n",
        "Continue to use TensorFlow Keras & a sample of the [Quickdraw dataset](https://github.com/googlecreativelab/quickdraw-dataset) to build a sketch classification model. The dataset has been sampled to only 10 classes and 10000 observations per class. Apply regularization techniques to your model. \n",
        "\n",
        "**Don't forgot to switch to GPU on Colab!**\n",
        "\n",
        "\n",
        "## Objective \n",
        "\n",
        "In lecture, you were exposed to Lp space reguarlization, Max Norn weight constraints, and dropout. \n",
        "\n",
        "In this assignment, you will run several experiments in order to perform a deeper analysis on the effects that various regularization techniques have model performance and on the learned model weights. \n",
        "\n",
        "By the end of this assignment, these regularization techniques should no longer feel like black boxes to you (i.e. completely mysterious as to how they work.) \n"
      ]
    },
    {
      "cell_type": "markdown",
      "metadata": {
        "id": "ptJ2b3wk62Ud"
      },
      "source": [
        "#### Import libraries"
      ]
    },
    {
      "cell_type": "code",
      "metadata": {
        "id": "USXjs7Hk71Hy"
      },
      "source": [
        "# native libraries \n",
        "import os\n",
        "from time import time \n",
        "\n",
        "# data analysis libraries \n",
        "import numpy as np\n",
        "import pandas as pd\n",
        "import matplotlib.pyplot as plt\n",
        "import seaborn as sns\n",
        "\n",
        "# deep learning libraries \n",
        "from keras import Sequential\n",
        "from keras.callbacks import EarlyStopping, TensorBoard\n",
        "from keras.layers import Flatten, Dense, Dropout\n",
        "from keras.layers import ReLU\n",
        "from keras.initializers import GlorotUniform\n",
        "\n",
        "import tensorflow as tf\n",
        "from tensorflow.keras.datasets import fashion_mnist\n",
        "\n",
        "# regularizers \n",
        "from keras.regularizers import l2, l1\n",
        "from keras.constraints import MaxNorm\n",
        "\n",
        "# required for compatibility between sklearn and keras\n",
        "from tensorflow.keras.wrappers.scikit_learn import KerasClassifier\n",
        "\n",
        "from sklearn.model_selection import GridSearchCV\n",
        "\n",
        "# native python unit test library\n",
        "from unittest import TestCase\n",
        "\n",
        "%matplotlib inline"
      ],
      "execution_count": 1,
      "outputs": []
    },
    {
      "cell_type": "markdown",
      "metadata": {
        "id": "tWMMpvPzPe7n"
      },
      "source": [
        "-----\n",
        "\n",
        "# $L_p$ Space Regularization \n",
        "\n",
        "## Bridging Theory and Practice \n",
        "\n",
        "Because the idea of infinitely many vector spaces, each with their very own distance metric for measuring distance differently can seem very abstract, we are going to take that distance metric general formula and look at a few special cases by writing custom regularization functions and taking note of their effect a the model's learning outcomes. \n",
        "\n",
        "Don't forget to review the theory of $L_p$ Space Regularization in the guided project. \n",
        "\n",
        "Also, watch this video if you haven't already. "
      ]
    },
    {
      "cell_type": "code",
      "metadata": {
        "colab": {
          "base_uri": "https://localhost:8080/",
          "height": 321
        },
        "id": "b0ebmduPPe7o",
        "outputId": "c26c0a06-6067-4459-d752-68e4d664efd7"
      },
      "source": [
        "# check out this video for an animated explaination of Lp Space and distance metrics \n",
        "from IPython.display import YouTubeVideo\n",
        "YouTubeVideo('FiSy6zWDfiA', width=800, height=300)"
      ],
      "execution_count": 2,
      "outputs": [
        {
          "output_type": "execute_result",
          "data": {
            "text/html": [
              "\n",
              "        <iframe\n",
              "            width=\"800\"\n",
              "            height=\"300\"\n",
              "            src=\"https://www.youtube.com/embed/FiSy6zWDfiA\"\n",
              "            frameborder=\"0\"\n",
              "            allowfullscreen\n",
              "        ></iframe>\n",
              "        "
            ],
            "text/plain": [
              "<IPython.lib.display.YouTubeVideo at 0x7fc7b9beb1d0>"
            ],
            "image/jpeg": "[encoded data removed]"
          },
          "metadata": {
            "tags": []
          },
          "execution_count": 2
        }
      ]
    },
    {
      "cell_type": "markdown",
      "metadata": {
        "id": "mbH9xUvXPe7o"
      },
      "source": [
        "### Distance Metric General Formula\n",
        "$${\\displaystyle \\left\\|x\\right\\|_{p}=\\left(|x_{1}|^{p}+|x_{2}|^{p}+\\dotsb +|x_{n}|^{p}\\right)^{1/p}.}$$\n",
        "\n",
        "Let's create a class for the distance metric general formula.\n",
        "\n",
        "\n",
        "There are 2 classes below: \n",
        "\n",
        "```python\n",
        "class Test_distance_metric_solution()\n",
        "```\n",
        "\n",
        "You don't need to change anything in this class. This class is here in order to make sure that you calculate each portion of the distance metric general formula correctly. \n",
        "\n",
        "\n",
        "```python\n",
        "class Lp_distance_metric_general_formula()\n",
        "```\n",
        "\n",
        "This is the class that you will complete. \n",
        "\n",
        "Each of the non `__call__` methods calculate one portion of the distance metric general formula. \n",
        "\n",
        "Breaking up each portion of the formula into a separate method is actually unnecessary. \n",
        "\n",
        "Including the entire calculation of the general formula into a single method is ideal, however it is more difficult to write granular unit tests that way. \n",
        "\n",
        "So, for instructional purposes, it was broken up into 3 methods. However, outside of an academic environment, we would only need the `__init__` and `__call__` methods. \n",
        "\n",
        "Having said that, it is good for you to see how a custom unit test class is used to test the calculations of another class. This is a portion of what software engineering looks like. Get used to it. You'll need good software engineering practices to make it in the world. You'll learn more about this in your CS unit. For now, consider it a bit of foreshadowing. "
      ]
    },
    {
      "cell_type": "code",
      "metadata": {
        "id": "IBg14CN9Pe7q"
      },
      "source": [
        "class Test_distance_metric_solution(TestCase):\n",
        "    \"\"\"\n",
        "    This is a unit test class desgined to make sure that the student calcualtes each component \n",
        "    of the Distance Metric General Formula correctly. Thereby getting real-time feedback and correction. \n",
        "    \"\"\"\n",
        "    \n",
        "    def test_squared_vector_comps(self, test_array):\n",
        "        \"\"\"\n",
        "        This test makes sure that student calculate the sum_of_squared_comp correctly. \n",
        "        \"\"\"\n",
        "        answer = np.array([1., 4.])\n",
        "        # error message in case if test case got failed\n",
        "        message = \"you did not calcualte sum_of_squared_comp correctly\"\n",
        "        # assert function() to check if values are almost equal\n",
        "        np.testing.assert_array_equal(answer, test_array,  err_msg=message)\n",
        "        \n",
        "        \n",
        "    def test_sum_of_squared_comp(self, test_sum):\n",
        "        \"\"\"\n",
        "        This test makes sure that student calculate the sum_of_squared_comp correctly. \n",
        "        \"\"\"\n",
        "        answer = 5\n",
        "        # error message in case if test case got failed\n",
        "        message = \"you did not calcualte sum_of_squared_comp correctly\"\n",
        "        # assert function() to check if values are almost equal\n",
        "        np.testing.assert_array_equal(answer, test_sum,  err_msg=message)\n",
        "        \n",
        "    def test_vector_norm(self, test_norm):\n",
        "        \"\"\"\n",
        "        This test makes sure that student calculate the vector_norm correctly. \n",
        "        \"\"\"\n",
        "        answer = 2.236\n",
        "        decimalPlace = 3\n",
        "        # error message in case if test case got failed\n",
        "        message = \"you did not calcualte sum_of_squared_comp correctly\"\n",
        "        # assert function() to check if values are almost equal\n",
        "        self.assertAlmostEqual(answer, test_norm,  decimalPlace, message)        "
      ],
      "execution_count": 3,
      "outputs": []
    },
    {
      "cell_type": "markdown",
      "metadata": {
        "id": "EEfirxxbPe7s"
      },
      "source": [
        "### Fill in the missing code in the class below"
      ]
    },
    {
      "cell_type": "code",
      "metadata": {
        "deletable": false,
        "nbgrader": {
          "cell_type": "code",
          "checksum": "b8830110178a58a6fe1973906f649d36",
          "grade": false,
          "grade_id": "cell-0bd59a2d10fbf254",
          "locked": false,
          "schema_version": 3,
          "solution": true,
          "task": false
        },
        "id": "vOmNjmz9Pe7t"
      },
      "source": [
        "class Lp_distance_metric_general_formula(object):\n",
        "    \"\"\"\n",
        "    This class takes the Lp distance metric general formual and sets p equal to a value provided by the user. \n",
        "    This has the effect of deriving a distance metric for a specific metric space and calcualting the distance \n",
        "    of a vector in that metric space.\n",
        "    \n",
        "    Example\n",
        "    -------\n",
        "    If the user sets p = 2, then the euclidean distance formula is derived.\n",
        "    If the user sets p = 1, then the taxicab distance formula is derived. \n",
        "    \n",
        "    Note\n",
        "    ----\n",
        "    It is possible to use p values less than 1 but those are special cases that we will ignore. \n",
        "    These special values are interesting for academic purposes but in practice you very likely won't need to know \n",
        "    about them.\n",
        "    \"\"\"\n",
        "\n",
        "    def __init__(self, p=2, reg_strength = 1.0):\n",
        "        \"\"\"\n",
        "        Parameters\n",
        "        ----------\n",
        "        \n",
        "        p: int or float\n",
        "            p value used for calculating the distance of a vector in a certain metric space\n",
        "            \n",
        "        reg_strength: int or float\n",
        "            usually set to a value less than 1.0 to decrease the strength of the distance metric when used as a model regularizer\n",
        "            keep this value at 1.0 when measureing vector norms (i.e. vector lengths)\n",
        "        \"\"\"\n",
        "        \n",
        "        assert p >=1 , \"p value must be greater than or equal to 1\"\n",
        "        \n",
        "        self.p = p\n",
        "        self.reg_strength = reg_strength\n",
        "                \n",
        "    def calc_squared_vector_comps(self):\n",
        "    \n",
        "        # raise each vector component in self.x to the power of p\n",
        "        # save result to self.squared_vector_comps\n",
        "        # YOUR CODE HERE\n",
        "        print(self.x)\n",
        "        self.squared_vector_comps = pow(self.x, self.p)\n",
        "        \n",
        "    def calc_sum_of_squared_comp(self):\n",
        "        # take the sum of the squared components in self.squared_vector_comps\n",
        "        # save to self.sum_of_squared_comp\n",
        "        # hint: use tf.reduce_sum\n",
        "        # YOUR CODE HERE\n",
        "        self.sum_of_squared_comp = tf.reduce_sum(self.squared_vector_comps)\n",
        "        \n",
        "    def calc_vector_norm(self):\n",
        "        \n",
        "        # take the 1/p root of the self.sum_of_squared_comp in order to calculate the norm, i.e. ||x||\n",
        "        # save result to self.vector_norm\n",
        "        # YOUR CODE HERE\n",
        "        self.vector_norm = self.sum_of_squared_comp ** (1/self.p)\n",
        "        \n",
        "        \n",
        "    def __call__(self, x):\n",
        "        \"\"\"\n",
        "        This method calcualtes the distance (i.e. norm) for vector x in Lp space for a value p given by the use\n",
        "        \n",
        "        ‖𝑥‖𝑝 = (|𝑥_1|^𝑝 + |𝑥_2|^𝑝 + ⋯ +|𝑥_𝑛|^𝑝 )^1/𝑝\n",
        "        \n",
        "        Parameters\n",
        "        ----------\n",
        "        x: N-dimsional numpy array or tensorflow tensor of floats \n",
        "            x is our vector, could be a weight vector but any vector is valid \n",
        "            \n",
        "            \n",
        "        HINT\n",
        "        -----\n",
        "        You must use self.p when calculating squared_vector_comps and vector_norm\n",
        "        \"\"\"\n",
        "        \n",
        "        self.x = x\n",
        "        \n",
        "        # calculate these parts |𝑥_i|^𝑝\n",
        "        self.calc_squared_vector_comps()\n",
        "        \n",
        "        # calcualte this |𝑥_1|^𝑝 + |𝑥_2|^𝑝 + ⋯ +|𝑥_𝑛|^𝑝\n",
        "        self.calc_sum_of_squared_comp()\n",
        "        \n",
        "        # calculate this (|𝑥_1|^𝑝 + |𝑥_2|^𝑝 + ⋯ +|𝑥_𝑛|^𝑝 )^1/𝑝\n",
        "        self.calc_vector_norm()\n",
        "        \n",
        "        # return the vector norm scaled by a regularization penality\n",
        "        # we say penality because the value is usually less than 1.0 thereby scaling down the norm\n",
        "        return self.reg_strength * self.vector_norm"
      ],
      "execution_count": 4,
      "outputs": []
    },
    {
      "cell_type": "markdown",
      "metadata": {
        "id": "LOyBDcUOPe7x"
      },
      "source": [
        "------\n",
        "### Unit Test your code\n",
        "\n",
        "You know you wrote your class correctly when all the unit tests pass. \n",
        "\n",
        "So the code in the following cell should run without throwing a single error. \n",
        "\n",
        "Protip: you can comment out 2nd and 3rd unit test in order to test your results for the first method and then uncomment as you go. Feel free to create a new cell and run your own testing there. "
      ]
    },
    {
      "cell_type": "code",
      "metadata": {
        "colab": {
          "base_uri": "https://localhost:8080/"
        },
        "id": "kDRWUjbrPe7y",
        "outputId": "5ba34fa8-32d1-42c5-f650-1bdfd4e11099"
      },
      "source": [
        "# instantiate the unit test class that will check the calculates of Lp_distance_metric_general_formula's methods\n",
        "tests = Test_distance_metric_solution()\n",
        "\n",
        "# instantiate Lp_distance_metric_general_formula, set p = 2 in order to derive the euclidean distance metric\n",
        "lp = Lp_distance_metric_general_formula( p=2, reg_strength = 1.0)\n",
        "\n",
        "# don't change this test_vector\n",
        "# Test_distance_metric_solution assumes that you're using ths exact test_vector\n",
        "test_vector = np.array([1., 2.])\n",
        "lp(test_vector)\n",
        "\n",
        "# test the calculations that are perform in each of the following lp class methods \n",
        "tests.test_squared_vector_comps(lp.squared_vector_comps)\n",
        "tests.test_sum_of_squared_comp(lp.sum_of_squared_comp)\n",
        "tests.test_vector_norm(lp.vector_norm.numpy())"
      ],
      "execution_count": 5,
      "outputs": [
        {
          "output_type": "stream",
          "text": [
            "[1. 2.]\n"
          ],
          "name": "stdout"
        }
      ]
    },
    {
      "cell_type": "code",
      "metadata": {
        "colab": {
          "base_uri": "https://localhost:8080/"
        },
        "id": "YdVQ7XW6Pe7y",
        "outputId": "7f9614e2-6187-4591-e732-db681c2898a4"
      },
      "source": [
        "# note: because we use tf.reduce_sum to calculate sum_of_squared_comp\n",
        "# the result is inside of a tensor and we need to use .numpy() to get the scalar out of the tensor \n",
        "print (lp.vector_norm)"
      ],
      "execution_count": 6,
      "outputs": [
        {
          "output_type": "stream",
          "text": [
            "tf.Tensor(2.2360679774997894, shape=(), dtype=float64)\n"
          ],
          "name": "stdout"
        }
      ]
    },
    {
      "cell_type": "code",
      "metadata": {
        "colab": {
          "base_uri": "https://localhost:8080/"
        },
        "id": "kLdy-A5zPe7z",
        "outputId": "3b2349c8-89bf-4c82-d506-dcb034949c99"
      },
      "source": [
        "print (lp.vector_norm.numpy())"
      ],
      "execution_count": 7,
      "outputs": [
        {
          "output_type": "stream",
          "text": [
            "2.2360679774997894\n"
          ],
          "name": "stdout"
        }
      ]
    },
    {
      "cell_type": "markdown",
      "metadata": {
        "id": "-xmROgJNPe7z"
      },
      "source": [
        "----"
      ]
    },
    {
      "cell_type": "markdown",
      "metadata": {
        "id": "ygyvvfzjPe7z"
      },
      "source": [
        "### Apply our $L_p$ Space Class\n",
        "\n",
        "Next we will use our distance metric class in order to calculate the euclidean and taxicab distance of our vector below. "
      ]
    },
    {
      "cell_type": "code",
      "metadata": {
        "colab": {
          "base_uri": "https://localhost:8080/",
          "height": 378
        },
        "id": "_xjNtq9OPe7z",
        "outputId": "ad1ff336-ecf6-4070-8584-058b471a4279"
      },
      "source": [
        "# W is a 2D vector with an x and y component, i.e. (x, y) = (4,3)\n",
        "w = np.array([4., 3.])\n",
        "\n",
        "# origin point - we need to specify the starting point for plotting\n",
        "origin = np.array([0,0])\n",
        "\n",
        "plt.figure(figsize=(10, 6))\n",
        "ax = plt.axes()\n",
        "\n",
        "ax.arrow(origin[0], origin[1], w[0], w[1], head_width=0.5, head_length=0.7, fc='lightblue', ec='black')\n",
        "\n",
        "plt.grid()\n",
        "plt.yticks(np.arange(0,5))\n",
        "plt.xticks(np.arange(0,6));"
      ],
      "execution_count": 8,
      "outputs": [
        {
          "output_type": "display_data",
          "data": {
            "image/png": "[encoded data removed]",
            "text/plain": [
              "<Figure size 720x432 with 1 Axes>"
            ]
          },
          "metadata": {
            "tags": [],
            "needs_background": "light"
          }
        }
      ]
    },
    {
      "cell_type": "markdown",
      "metadata": {
        "id": "AfCuEBxYPe70"
      },
      "source": [
        "## Derive Euclidean Distance from the General Formula \n",
        "\n",
        "This is the general formula for distance metrics. Where we have an N-dimensional weight vector **w**. Notice that the general formula has a vector component for each of the N dimensions. Hence, it is the general formula.\n",
        "\n",
        "$${\\displaystyle \\left\\|\\textbf{w}\\right\\|_{p}=\\left(|w_{1}|^{p}+|w_{2}|^{p}+\\dotsb +|w_{n}|^{p}\\right)^{1/p}.}$$\n",
        " \n",
        "\n",
        "Let N = 2 such that our weight vector now exists in 2 dimensional space. \n",
        "\n",
        "Let p = 2 such that our weight vector's distance will be calculated in $L_{p=2}$ space \n",
        "\n",
        "In which case our general formula gets reduced from N-dimensions to 2-dimensions. So now we only need to consider a distance formula for a vector with 2 components, one for each dimension.\n",
        "\n",
        "$$||\\textbf{w}||_{p=2} = ((x_2 - x_1)^2 + (y_2 - y_1)^2)^{1/2}$$\n",
        "\n",
        "Now just re-express the square root and we arrive at the familiar Euclidean Distance from high school algebra. \n",
        "\n",
        "$$||\\textbf{w}||_{p=2} = \\sqrt{(x_2 - x_1)^2 + (y_2 - y_1)^2}$$\n",
        "\n",
        "\n",
        "You might be wondering about why the general case doesn't have differences for the components but the Euclidean Distance does explicitly show the component wise differences. It is common in mathematics to suppress certain information, especially if that information is \"obvious\" - however what is obvious is highly relative. \n",
        "\n",
        "The general formula assumes that the vector starts at the origin, in which case, there's no need to show the subtraction of zero from a vector component. \n",
        "\n",
        "Assuming that our vector starts at the origin (and it does) the formula can be reduced to \n",
        "\n",
        "$$||\\textbf{w}||_{p=2} = \\sqrt{(x_2 - 0)^2 + (y_2 - 0)^2}$$\n",
        "\n",
        "$$||\\textbf{w}||_{p=2} = \\sqrt{x_2^2 + y_2^2}$$"
      ]
    },
    {
      "cell_type": "markdown",
      "metadata": {
        "id": "y8LmmjDhPe8y"
      },
      "source": [
        "### Euclidean distance of our Vector \n",
        "\n",
        "With **p=2** in our `Lp_distance_metric_general_formula` class, we can calculate the euclidean distance of our vector **w**. I encourage you to either solve the euclidean distance of our vector either in your head or on paper to prove to yourself that the above formula that we derived works and gives you `5` as an answer. "
      ]
    },
    {
      "cell_type": "code",
      "metadata": {
        "deletable": false,
        "nbgrader": {
          "cell_type": "code",
          "checksum": "bf0cdea85e37c69f73956bf851cba8d6",
          "grade": false,
          "grade_id": "cell-74dae14f4bbad1ab",
          "locked": false,
          "schema_version": 3,
          "solution": true,
          "task": false
        },
        "colab": {
          "base_uri": "https://localhost:8080/"
        },
        "id": "mgiGqoEMPe8y",
        "outputId": "3f4753bd-d262-48e1-d6d7-d3c8dc0d44fd"
      },
      "source": [
        "# YOUR CODE HERE\n",
        "lp = Lp_distance_metric_general_formula( p=2, reg_strength = 1.0)\n",
        "lp(w)\n",
        "lp.vector_norm.numpy()"
      ],
      "execution_count": 9,
      "outputs": [
        {
          "output_type": "stream",
          "text": [
            "[4. 3.]\n"
          ],
          "name": "stdout"
        },
        {
          "output_type": "execute_result",
          "data": {
            "text/plain": [
              "5.0"
            ]
          },
          "metadata": {
            "tags": []
          },
          "execution_count": 9
        }
      ]
    },
    {
      "cell_type": "markdown",
      "metadata": {
        "id": "sTZW1KrgPe8z"
      },
      "source": [
        "-----\n",
        "\n",
        "## Derive Taxicab Distance from the General Formula \n",
        "\n",
        "This is the general formula for distance metrics. Where we have an N-dimensional weight vector **w**. Notice that the general formula has a vector component for each of the N dimensions. Hence, it is the general formula.\n",
        "\n",
        "$${\\displaystyle \\left\\|\\textbf{w}\\right\\|_{p}=\\left(|w_{1}|^{p}+|w_{2}|^{p}+\\dotsb +|w_{n}|^{p}\\right)^{1/p}.}$$\n",
        " \n",
        "\n",
        "Let N = 2 such that our weight vector now exists in 2 dimensional space. \n",
        "\n",
        "Let p = 1 such that our weight vector's distance will be calculated in $L_{p=1}$ space \n",
        "\n",
        "\n",
        "In which case our general formula gets reduced from N-dimensions to 2-dimensions. So now we only need to consider a distance formula for a vector with 2 components, one for each dimension.\n",
        "\n",
        "$$||\\textbf{w}||_{p=1} = ((x_2 - x_1)^1 + (y_2 - y_1)^1)^{1/1}$$\n",
        "\n",
        "There's no need to express all those 1's\n",
        "\n",
        "$$||\\textbf{w}||_{p=1} = (x_2 - x_1) + (y_2 - y_1) $$\n",
        "\n",
        "Assuming that our vector starts at the origin (which it does)\n",
        "\n",
        "$$||\\textbf{w}||_{p=1} = (x_2 - 0) + (y_2 - 0) $$\n",
        "\n",
        "\n",
        "\n",
        "$$||\\textbf{w}||_{p=1} = x + y $$\n",
        "\n",
        "We have just derived the Taxicab distance metric from the general formula. The above equation tells us to add up all the steps in the x and y direction in order to calculate the Taxicab distance."
      ]
    },
    {
      "cell_type": "markdown",
      "metadata": {
        "id": "KRp2Q_ojPe83"
      },
      "source": [
        "### Taxicab distance of our Vector \n",
        "\n",
        "With **p=1** in our `Lp_distance_metric_general_formula` class, we can calculate the taxicab distance of our vector **w**. This distance we can easily calculate in our head. Look at the plot of the vector and simply add up all the x and y components, i.e. count up all the steps you have to take in order to \"walk\" from the origin to the head of the vector. Do this to prove to yourself that the taxicab distance of our vector is `7`. "
      ]
    },
    {
      "cell_type": "code",
      "metadata": {
        "deletable": false,
        "nbgrader": {
          "cell_type": "code",
          "checksum": "9a527c635255f30979d1759e4ecc480d",
          "grade": false,
          "grade_id": "cell-9bf41d7142ad35e9",
          "locked": false,
          "schema_version": 3,
          "solution": true,
          "task": false
        },
        "colab": {
          "base_uri": "https://localhost:8080/"
        },
        "id": "7sfg4kgAPe83",
        "outputId": "5f53355d-d809-4760-fc83-4f161b44239b"
      },
      "source": [
        "# use Lp_distance_metric_general_formula class to calculate the taxicab distance of w\n",
        "\n",
        "# YOUR CODE HERE\n",
        "lp = Lp_distance_metric_general_formula( p=1, reg_strength = 1.0)\n",
        "lp(w)\n",
        "lp.vector_norm.numpy()"
      ],
      "execution_count": 10,
      "outputs": [
        {
          "output_type": "stream",
          "text": [
            "[4. 3.]\n"
          ],
          "name": "stdout"
        },
        {
          "output_type": "execute_result",
          "data": {
            "text/plain": [
              "7.0"
            ]
          },
          "metadata": {
            "tags": []
          },
          "execution_count": 10
        }
      ]
    },
    {
      "cell_type": "markdown",
      "metadata": {
        "id": "y7svbFCkPe84"
      },
      "source": [
        "### Elastic Net Distance \n",
        "\n",
        "\n",
        "Elastic Net is a combination of L1 and L2. Compare the geometry below. \n",
        "\n",
        "![](https://ds100.org/sp17/assets/notebooks/linear_regression/norm_balls.png)\n",
        "\n",
        "The mathematical derivation of the distance metric for  $L_{p=3/2}$ space will be left to you as an optional exercise. "
      ]
    },
    {
      "cell_type": "code",
      "metadata": {
        "deletable": false,
        "nbgrader": {
          "cell_type": "code",
          "checksum": "0f19be155b2e5be75c855710eab34cdd",
          "grade": false,
          "grade_id": "cell-d657c845dbb1ab23",
          "locked": false,
          "schema_version": 3,
          "solution": true,
          "task": false
        },
        "colab": {
          "base_uri": "https://localhost:8080/"
        },
        "id": "guT1A1fiPe87",
        "outputId": "3eb3121a-4c9e-48aa-ff37-ee7f24cdf3ef"
      },
      "source": [
        "# use Lp_distance_metric_general_formula class to calculate the Elastic Net distance of w\n",
        "\n",
        "# YOUR CODE HERE\n",
        "lp = Lp_distance_metric_general_formula( p=3/2, reg_strength = 1.0)\n",
        "lp(w)\n",
        "lp.vector_norm.numpy()"
      ],
      "execution_count": 11,
      "outputs": [
        {
          "output_type": "stream",
          "text": [
            "[4. 3.]\n"
          ],
          "name": "stdout"
        },
        {
          "output_type": "execute_result",
          "data": {
            "text/plain": [
              "5.584250376480028"
            ]
          },
          "metadata": {
            "tags": []
          },
          "execution_count": 11
        }
      ]
    },
    {
      "cell_type": "markdown",
      "metadata": {
        "id": "Ls5iLZSFPe87"
      },
      "source": [
        "-----\n",
        "\n",
        "## Use Custom Lp Space class in modeling\n",
        "\n",
        "Let's create a function that returns complied keras models so that we can run an experiment in order to compare the modeling results from using a keras L2 and our custom L2 regularizer. "
      ]
    },
    {
      "cell_type": "markdown",
      "metadata": {
        "id": "ckjVZR-fPe88"
      },
      "source": [
        "-----\n",
        "### Load Data"
      ]
    },
    {
      "cell_type": "code",
      "metadata": {
        "id": "fqRPEf4VPe88"
      },
      "source": [
        "def load_data():\n",
        "    \"\"\"\n",
        "    Load in and normalize image data set\n",
        "    \"\"\"\n",
        "    \n",
        "    # load in our dataset \n",
        "    (X_train, y_train), (X_test, y_test) = fashion_mnist.load_data()\n",
        "\n",
        "    # normalize pixel values between 0 and 1 \n",
        "    max_pixel_value = X_train.max()\n",
        "    X_train, X_test = X_train /max_pixel_value , X_test / max_pixel_value\n",
        "    \n",
        "    return X_train, y_train, X_test, y_test"
      ],
      "execution_count": 12,
      "outputs": []
    },
    {
      "cell_type": "code",
      "metadata": {
        "id": "MdJxdKAAPe88"
      },
      "source": [
        "X_train, y_train, X_test, y_test = load_data()"
      ],
      "execution_count": 13,
      "outputs": []
    },
    {
      "cell_type": "code",
      "metadata": {
        "colab": {
          "base_uri": "https://localhost:8080/"
        },
        "id": "Ls6pKBYGPe89",
        "outputId": "55b499b8-6d24-4e2f-ffc4-bdbdd5c5898e"
      },
      "source": [
        "# this is equal to the number of nodes in the output layer\n",
        "N_labels = len(np.unique(y_train))\n",
        "N_labels"
      ],
      "execution_count": 14,
      "outputs": [
        {
          "output_type": "execute_result",
          "data": {
            "text/plain": [
              "10"
            ]
          },
          "metadata": {
            "tags": []
          },
          "execution_count": 14
        }
      ]
    },
    {
      "cell_type": "code",
      "metadata": {
        "id": "ozKlvTiFPe89"
      },
      "source": [
        "def create_model(reg=None):\n",
        "    # instantiate Sequential class\n",
        "    model = Sequential([\n",
        "\n",
        "    # flatten images \n",
        "        Flatten(input_shape=(28,28)), # images will be flattend out to 784 dims row vectors \n",
        "\n",
        "    # hidden layer 1\n",
        "        Dense(500, kernel_regularizer=reg),\n",
        "\n",
        "    # act func 1\n",
        "        ReLU(negative_slope=0.01),\n",
        "\n",
        "    # output layer \n",
        "        Dense(10, activation =\"softmax\")   \n",
        "    ])\n",
        "\n",
        "    # compile model \n",
        "    model.compile(loss=\"sparse_categorical_crossentropy\", \n",
        "                  optimizer= \"adam\", \n",
        "                  metrics=[\"accuracy\"])\n",
        "    \n",
        "    return model"
      ],
      "execution_count": 15,
      "outputs": []
    },
    {
      "cell_type": "markdown",
      "metadata": {
        "id": "ZaobW_t4Pe89"
      },
      "source": [
        "----\n",
        "\n",
        "## Experiment 1: Calculate vector lengths using Keras and Custom Regularizer"
      ]
    },
    {
      "cell_type": "markdown",
      "metadata": {
        "id": "YDFmtEj6Pe8-"
      },
      "source": [
        "\n",
        "\n",
        "If you read the [**Keras Documentation**](https://keras.io/api/layers/regularizers/) for their implementation of L2 regularization you'll see this:\n",
        "\n",
        "    The L2 regularization penalty is computed as: loss = l2 * reduce_sum(square(x))\n",
        "    \n",
        "Notice that Keras isn't taking the square root for L2 where as we are take the square root. \n",
        "\n",
        "Why isn't Keras taking the square root? I don't know but we will stay true to the math and take the square root for our implementation of L2 regularization. \n",
        "\n"
      ]
    },
    {
      "cell_type": "code",
      "metadata": {
        "colab": {
          "base_uri": "https://localhost:8080/"
        },
        "id": "6lJaA74lPe8-",
        "outputId": "76d92db9-2b8b-4f2e-b85f-4f2edd4b3dbe"
      },
      "source": [
        "custom_l2 = Lp_distance_metric_general_formula(p=2, reg_strength = 1.0)\n",
        "# the length of the W vector from above as calcualted by the formula that we derived \n",
        "custom_l2(w).numpy()"
      ],
      "execution_count": 16,
      "outputs": [
        {
          "output_type": "stream",
          "text": [
            "[4. 3.]\n"
          ],
          "name": "stdout"
        },
        {
          "output_type": "execute_result",
          "data": {
            "text/plain": [
              "5.0"
            ]
          },
          "metadata": {
            "tags": []
          },
          "execution_count": 16
        }
      ]
    },
    {
      "cell_type": "code",
      "metadata": {
        "colab": {
          "base_uri": "https://localhost:8080/"
        },
        "id": "XE9XP9EuPe8-",
        "outputId": "b89920e2-bb8e-4a42-9fa2-43c5100d3573"
      },
      "source": [
        "from keras.regularizers import L2\n",
        "keras_l2 = L2(l2=1.0)\n",
        "# again Keras doesn't take the square root\n",
        "keras_l2(w).numpy()"
      ],
      "execution_count": 17,
      "outputs": [
        {
          "output_type": "execute_result",
          "data": {
            "text/plain": [
              "25.0"
            ]
          },
          "metadata": {
            "tags": []
          },
          "execution_count": 17
        }
      ]
    },
    {
      "cell_type": "code",
      "metadata": {
        "colab": {
          "base_uri": "https://localhost:8080/"
        },
        "id": "Jhu_F7Y8Pe8_",
        "outputId": "7191ab4e-0031-437a-ac8b-2911ff5db119"
      },
      "source": [
        "# but if we take the square root, then we get the same answer that our custom regularizer class gives us \n",
        "np.sqrt(keras_l2(w).numpy())"
      ],
      "execution_count": 18,
      "outputs": [
        {
          "output_type": "execute_result",
          "data": {
            "text/plain": [
              "5.0"
            ]
          },
          "metadata": {
            "tags": []
          },
          "execution_count": 18
        }
      ]
    },
    {
      "cell_type": "markdown",
      "metadata": {
        "id": "rAxm7tTVPe9A"
      },
      "source": [
        "----\n",
        "## Experiment 2: Compare Keras L2 and Custom L2 regularization in a model\n",
        "\n",
        "\n",
        "### Use Keras Built-in L2 regularizer \n",
        "\n",
        "Make sure to use the same regularization strength in the Keras pre-built L2 regularizer and in our custom L2 regularizer."
      ]
    },
    {
      "cell_type": "code",
      "metadata": {
        "colab": {
          "base_uri": "https://localhost:8080/"
        },
        "id": "hiQid0ZAPe9A",
        "outputId": "64d1bbcc-40b9-43cd-b86b-b2fb01a38dfc"
      },
      "source": [
        "model_keras_l2 = create_model(reg=L2(l2=0.01))\n",
        "keras_l2_results = model_keras_l2.fit(X_train, y_train,\n",
        "                                      epochs=1,\n",
        "                                      validation_data=(X_test, y_test), \n",
        "                                      workers=10) # check! You might not be able to use 10 processors on your machine "
      ],
      "execution_count": 19,
      "outputs": [
        {
          "output_type": "stream",
          "text": [
            "1875/1875 [==============================] - 5s 2ms/step - loss: 1.6361 - accuracy: 0.7636 - val_loss: 0.7378 - val_accuracy: 0.7834\n"
          ],
          "name": "stdout"
        }
      ]
    },
    {
      "cell_type": "markdown",
      "metadata": {
        "id": "cazbqDiAPe9A"
      },
      "source": [
        "### Use Custom Regularization Class \n",
        "\n",
        "Make sure to use the same regularization strength in the Keras pre-built L2 regularizer and in our custom L2 regularizer."
      ]
    },
    {
      "cell_type": "code",
      "metadata": {
        "id": "70JvjZR0Pe9A"
      },
      "source": [
        "# set p= 2 so that we are using the same L2 regularizer as above\n",
        "lp = Lp_distance_metric_general_formula(p=2, reg_strength = 0.01)"
      ],
      "execution_count": 20,
      "outputs": []
    },
    {
      "cell_type": "code",
      "metadata": {
        "colab": {
          "base_uri": "https://localhost:8080/"
        },
        "id": "r9geUYYEPe9B",
        "outputId": "da76c480-37ea-47ea-d55d-0b25ad8a3e90"
      },
      "source": [
        "model_custom_l2 = create_model(reg=lp)\n",
        "custom_l2_results = model_custom_l2.fit(X_train, y_train,\n",
        "                                      epochs=1,\n",
        "                                      validation_data=(X_test, y_test), \n",
        "                                      workers=10) # check! You might not be able to use 10 processors on your machine "
      ],
      "execution_count": 21,
      "outputs": [
        {
          "output_type": "stream",
          "text": [
            "<tf.Variable 'dense_2/kernel:0' shape=(784, 500) dtype=float32>\n",
            "<tf.Variable 'dense_2/kernel:0' shape=(784, 500) dtype=float32>\n",
            "1859/1875 [============================>.] - ETA: 0s - loss: 0.8137 - accuracy: 0.7916<tf.Variable 'dense_2/kernel:0' shape=(784, 500) dtype=float32>\n",
            "1875/1875 [==============================] - 4s 2ms/step - loss: 0.8126 - accuracy: 0.7919 - val_loss: 0.6452 - val_accuracy: 0.8258\n"
          ],
          "name": "stdout"
        }
      ]
    },
    {
      "cell_type": "markdown",
      "metadata": {
        "id": "JAl1X15ZPe9B"
      },
      "source": [
        "----\n",
        "### Compare Model Results\n",
        "\n",
        "Let's compare the modeling results between the two models. \n",
        "\n",
        "Whatever the specific test accuracies are, it should be the case that using our custom class leads to slightly better results than using the Keras version of $L_2$ regularization.\n",
        "\n",
        "There a small difference between test accuracies, possible due to the random sampling for the initial weight values. But also possibly from the observation that we made above - Keras isn't taking the square root. "
      ]
    },
    {
      "cell_type": "code",
      "metadata": {
        "colab": {
          "base_uri": "https://localhost:8080/"
        },
        "id": "fqF27Fh4Pe9C",
        "outputId": "fd902c92-810d-41b1-e071-f018854b1ee9"
      },
      "source": [
        "_, keras_acc = model_keras_l2.evaluate(X_test, y_test)"
      ],
      "execution_count": 22,
      "outputs": [
        {
          "output_type": "stream",
          "text": [
            "313/313 [==============================] - 1s 2ms/step - loss: 0.7378 - accuracy: 0.7834\n"
          ],
          "name": "stdout"
        }
      ]
    },
    {
      "cell_type": "code",
      "metadata": {
        "colab": {
          "base_uri": "https://localhost:8080/"
        },
        "id": "kyvQhOKFPe9C",
        "outputId": "1c3aa390-a816-4395-bbdd-45a987c94580"
      },
      "source": [
        "_, custom_acc = model_custom_l2.evaluate(X_test, y_test)"
      ],
      "execution_count": 23,
      "outputs": [
        {
          "output_type": "stream",
          "text": [
            "313/313 [==============================] - 1s 2ms/step - loss: 0.6452 - accuracy: 0.8258\n"
          ],
          "name": "stdout"
        }
      ]
    },
    {
      "cell_type": "markdown",
      "metadata": {
        "id": "yHbRkjASPe9I"
      },
      "source": [
        "\n",
        "### Conclusion \n",
        "\n",
        "In this experiment, we have bridged the gap between the theory of **$L_p$ Space Regularization** and the practice of using the general formula as a starting point to derive and build our very own regularizers. \n",
        "\n",
        "This experiment (and the Perceptron that we build from scratch in Sprint 2 Module 1) are examples of **mathematical algorithms** - an algorithm in mathematics is a procedure, a description of a set of steps that can be used to solve a mathematical computation.\n",
        "\n",
        "It's one thing to use open-source pre-built mathematical algorithms like Keras regularizers and Sklearn ML models but it's quite another thing to build them from scratch. \n",
        "\n",
        "In industry, you'll need to know when you should build something from scratch and when to use an open source solution. The rule of thumb is don't build it if someone else already has because maintaining the code and fixing bugs is something that other developers (ie. the open-source community) can spend their time on and you don't have to. But if an open source solution doesn't exist for a solution that you need, then you'll need to build it or try an alternative solution.\n",
        "\n",
        "It's a good thing you're taking the time to practice building some mathematical algorithms from scratch. It's a very valuable skill to have. "
      ]
    },
    {
      "cell_type": "markdown",
      "metadata": {
        "id": "dLCJmbjEPe9J"
      },
      "source": [
        "-----\n",
        "# GridSearch Experiments \n",
        "\n",
        "The next set of experiments will all involve gridsearching regularization parameter values. \n",
        "\n",
        "The rest of the notebook will actually require very little coding on your part. Instead, the focus is for you to run those gridsearches and answer the questions at the end of each experiment. Those questions are designed to help you capture the insights that there are to learn from each of the experiments. \n",
        "\n",
        "All of the following experiments are designed to help you better understand the relationship between the various regularization techniques and how they affect model performance. \n",
        "\n",
        "\n",
        "### Build Model\n",
        "\n",
        "Let's build out the model that we'll be using all throughout our experiments. \n",
        "\n",
        "Remember that **the whole point of regularization is to prevent overfitting.**\n",
        "\n",
        "\n",
        "![](https://hackernoon.com/hn-images/1*vuZxFMi5fODz2OEcpG-S1g.png)\n",
        "\n",
        "Overfitting happens when are model's are too complex, so in order to see a benefit from the use of regularization techniques we need to build a relatively complex model. \n",
        "\n",
        "Having said that, you might not have the computational resource to be able to train a complex model in a reasonable amount of time. So if this describes you, then you might want to consider using `build_simple_model`. Otherwise, I recommend that you use `build_complex_model`. \n",
        "\n",
        "This notebook will be using  `build_complex_model` to run our experiments. \n",
        "\n",
        "**NOTE:** Whichever function you end up using to build a model, take time to read through the code and make sure you understand what is happening. "
      ]
    },
    {
      "cell_type": "code",
      "metadata": {
        "id": "zNIjC889Pe9J"
      },
      "source": [
        "def build_complex_model(Lp_reg=None, reg_penality=None, dropout_prob=0.0, maxnorm_wc=None):\n",
        "    \"\"\"\n",
        "    Build and return a regularized 3 hidden layer FCFF model \n",
        "    \n",
        "    Parameters\n",
        "    ----------\n",
        "    Lp_reg: None or object\n",
        "        If object, Lp_reg is either l1 or l2 regularization \n",
        "        If None, that means that l1 or l2 regularization will not be used.\n",
        "     \n",
        "    reg_penality: None or float\n",
        "        If float, reg_penality is a value typically between 1.0 and 0.0001\n",
        "        This is the regularization strength for l1 or l2 \n",
        "        \n",
        "        \n",
        "    dropout_prob: float\n",
        "        This is the probability that dropout regularization will exclude a node from a training iteration. \n",
        "        If this value is 0.0, that means that dropout will not be used. \n",
        "        \n",
        "    maxnorm_wc: None or float\n",
        "        If float, maxnorm_wc is the weight constraint that is used for Max Norm regularization\n",
        "        If None, that means that Max Norm regularization will not be used.\n",
        "        \n",
        "        \n",
        "    Return\n",
        "    ------\n",
        "    model: complied Keras model\n",
        "    \"\"\"\n",
        "    \n",
        "    # if reg_type is not None, then pass in the penality strength to whatever form of Lp space regularization this is \n",
        "    if Lp_reg is not None:\n",
        "        Lp_regularizer = Lp_reg(reg_penality)\n",
        "    else:\n",
        "        Lp_regularizer = None\n",
        "                \n",
        "    if maxnorm_wc is not None:\n",
        "        wc = MaxNorm(max_value=maxnorm_wc)\n",
        "    else:\n",
        "        wc = None\n",
        "\n",
        "\n",
        "    # instantiate Sequential class\n",
        "    model = Sequential([\n",
        "\n",
        "    # flatten images \n",
        "    Flatten(input_shape=(28,28)),\n",
        "\n",
        "    # hidden layer 1\n",
        "    Dense(500, kernel_regularizer=Lp_regularizer , kernel_constraint=wc), # remember that Keras refers to weight matrix as a kernel, i.e. weights = kernel\n",
        "    # act func 1\n",
        "    ReLU(negative_slope=0.01),\n",
        "    Dropout(dropout_prob),\n",
        "\n",
        "    # hidden layer 2\n",
        "    Dense(250, kernel_regularizer=Lp_regularizer, kernel_constraint=wc),\n",
        "    # act func 2\n",
        "    ReLU(negative_slope=0.01),\n",
        "    Dropout(dropout_prob),\n",
        "\n",
        "    # hidden layer 3\n",
        "    Dense(100, kernel_regularizer=Lp_regularizer, kernel_constraint=wc),\n",
        "    # act func 2\n",
        "    ReLU(negative_slope=0.01),\n",
        "    Dropout(dropout_prob),\n",
        "\n",
        "    # output layer   \n",
        "    Dense(N_labels, activation=\"softmax\")  \n",
        "\n",
        "    ])\n",
        "    # complie model \n",
        "    model.compile(loss=\"sparse_categorical_crossentropy\", \n",
        "                 optimizer=\"adam\", \n",
        "                 metrics=[\"accuracy\"])\n",
        "    \n",
        "    return model"
      ],
      "execution_count": 24,
      "outputs": []
    },
    {
      "cell_type": "markdown",
      "metadata": {
        "id": "NVxkmHaHPe9K"
      },
      "source": [
        "Again, only use `build_simple_model` instead of `build_complex_model` if you're working on a machine with very limited computational resource. "
      ]
    },
    {
      "cell_type": "code",
      "metadata": {
        "id": "OZYJAMMnPe9L"
      },
      "source": [
        "# def build_simple_model(Lp_reg=None, reg_penality=None, dropout_prob=0, maxnorm_wc=None):\n",
        "#     \"\"\"\n",
        "#     Build and return a regularized 1 hidden layer FCFF model \n",
        "    \n",
        "#     Parameters\n",
        "#     ----------\n",
        "#     Lp_reg: None or object\n",
        "#         If object, Lp_reg is either l1 or l2 regularization \n",
        "#         If None, that means that l1 or l2 regularization will not be used.\n",
        "     \n",
        "#     reg_penality: None or float\n",
        "#         If float, reg_penality is a value typically between 1.0 and 0.0001\n",
        "#         This is the regularization strength for l1 or l2 \n",
        "        \n",
        "        \n",
        "#     dropout_prob: float\n",
        "#         This is the probability that dropout regularization will exclude a node from a training iteration. \n",
        "#         If this value is 0.0, that means that dropout will not be used. \n",
        "        \n",
        "#     maxnorm_wc: None or float\n",
        "#         If float, maxnorm_wc is the weight constraint that is used for Max Norm regularization\n",
        "#         If None, that means that Max Norm regularization will not be used.\n",
        "        \n",
        "        \n",
        "#     Return\n",
        "#     ------\n",
        "#     model: complied Keras model\n",
        "#     \"\"\"\n",
        "    \n",
        "#     if Lp_reg is not None:\n",
        "#         Lp_regularizer = Lp_reg(reg_penality)\n",
        "#     else:\n",
        "#         Lp_regularizer = None\n",
        "\n",
        "#     # instantiate Sequential class\n",
        "#     model = Sequential([\n",
        "\n",
        "#     # flatten images \n",
        "#     Flatten(input_shape=(28,28)),\n",
        "\n",
        "#     # hidden layer 1\n",
        "#     Dense(128,  kernel_regularizer=Lp_regularizer, kernel_constraint=maxnorm_wc), # remember that Keras refers to weight matrix as a kernel, i.e. weights = kernel\n",
        "#     # act func 1\n",
        "#     ReLU(negative_slope=0.01),\n",
        "#     Dropout(p_dropout),\n",
        "\n",
        "#     # output layer   \n",
        "#     Dense(N_labels, activation=\"softmax\")  \n",
        "\n",
        "#     ])\n",
        "#     # complie model \n",
        "#     model.compile(loss=\"sparse_categorical_crossentropy\", \n",
        "#                  optimizer=\"adam\", \n",
        "#                  metrics=[\"accuracy\"])\n",
        "    \n",
        "#     return model"
      ],
      "execution_count": 25,
      "outputs": []
    },
    {
      "cell_type": "markdown",
      "metadata": {
        "id": "tpNc_-RyPe9L"
      },
      "source": [
        "Since we'll be using Sklearn's GridserchCV class, we need to wrap our Keras models in `KerasClassifier`"
      ]
    },
    {
      "cell_type": "code",
      "metadata": {
        "id": "NXpGE8XDPe9M"
      },
      "source": [
        "# remember to wrap KerasClassifier around build_model for sklearn's GridsearchCV compatibility \n",
        "model = KerasClassifier(build_fn = build_complex_model)"
      ],
      "execution_count": 26,
      "outputs": []
    },
    {
      "cell_type": "markdown",
      "metadata": {
        "id": "wiVVO0WBPe9M"
      },
      "source": [
        "-------\n",
        "\n",
        "# Experiment 1: Identify the relationship between model performance and L2 penalty strength\n",
        "\n",
        "![](https://www.researchgate.net/publication/334159821/figure/fig1/AS:776025558495234@1562030319993/Ridge-regression-variable-selection.png)\n",
        "\n",
        "We are going to run a gridsearch soley on the l2 regularization penalty value and see the effect this has on model performance. \n",
        "\n",
        "By running a gridseach on only a single hyperparameter (while using the same data and model) we can isolate the effect of that hyperparameter. "
      ]
    },
    {
      "cell_type": "code",
      "metadata": {
        "id": "aMfErJnDPe9N"
      },
      "source": [
        "# build out our hyperparameter dictionary \n",
        "hyper_parameters = {\n",
        "    # take note that Lp_reg penalty/strength values are in powers of 10 \n",
        "    \"reg_penality\": [1.0, 0.1, 0.01, 0.001, 0.0001, 0.00001], \n",
        "    # Since we only want to test l2, provide l2 as the sole option \n",
        "    \"Lp_reg\": [l2],\n",
        "    # default is 1, in order to change it we must provide value here because we can't provide a parameter value for model.fit() directly when using gridsearch\n",
        "    # protip: consider chanign epochs to 1 if the gridsearche run-time are too long for you\n",
        "    \"epochs\": [1] \n",
        "}"
      ],
      "execution_count": 27,
      "outputs": []
    },
    {
      "cell_type": "code",
      "metadata": {
        "colab": {
          "base_uri": "https://localhost:8080/"
        },
        "id": "1EKA_72UPe9N",
        "outputId": "65c6e74d-ec46-4e93-c187-02528363bb5c"
      },
      "source": [
        "start=time()\n",
        "# Create and run Grid Search\n",
        "grid = GridSearchCV(estimator=model, \n",
        "                    param_grid=hyper_parameters, \n",
        "                    n_jobs=-3, \n",
        "                    verbose=1, \n",
        "                    cv=2)\n",
        "\n",
        "grid_result = grid.fit(X_train, y_train)\n",
        "end=time()"
      ],
      "execution_count": 28,
      "outputs": [
        {
          "output_type": "stream",
          "text": [
            "Fitting 2 folds for each of 6 candidates, totalling 12 fits\n"
          ],
          "name": "stdout"
        },
        {
          "output_type": "stream",
          "text": [
            "[Parallel(n_jobs=-3)]: Using backend SequentialBackend with 1 concurrent workers.\n"
          ],
          "name": "stderr"
        },
        {
          "output_type": "stream",
          "text": [
            "938/938 [==============================] - 3s 2ms/step - loss: 119.2228 - accuracy: 0.1474\n",
            "938/938 [==============================] - 2s 2ms/step - loss: 2.3033 - accuracy: 0.1007\n",
            "938/938 [==============================] - 3s 2ms/step - loss: 119.1343 - accuracy: 0.1375\n",
            "938/938 [==============================] - 2s 2ms/step - loss: 2.3030 - accuracy: 0.0994\n",
            "938/938 [==============================] - 3s 3ms/step - loss: 13.8502 - accuracy: 0.5590\n",
            "938/938 [==============================] - 2s 2ms/step - loss: 1.5066 - accuracy: 0.6455\n",
            "938/938 [==============================] - 3s 3ms/step - loss: 13.8743 - accuracy: 0.5121\n",
            "938/938 [==============================] - 2s 2ms/step - loss: 1.4536 - accuracy: 0.6408\n",
            "938/938 [==============================] - 3s 2ms/step - loss: 3.2806 - accuracy: 0.7115\n",
            "938/938 [==============================] - 2s 2ms/step - loss: 0.9809 - accuracy: 0.7642\n",
            "938/938 [==============================] - 3s 2ms/step - loss: 3.3033 - accuracy: 0.7045\n",
            "938/938 [==============================] - 2s 2ms/step - loss: 0.9404 - accuracy: 0.7772\n",
            "938/938 [==============================] - 3s 2ms/step - loss: 1.3197 - accuracy: 0.7476\n",
            "938/938 [==============================] - 2s 2ms/step - loss: 0.7271 - accuracy: 0.8289\n",
            "938/938 [==============================] - 3s 2ms/step - loss: 1.3109 - accuracy: 0.7440\n",
            "938/938 [==============================] - 2s 2ms/step - loss: 0.7143 - accuracy: 0.8324\n",
            "938/938 [==============================] - 3s 2ms/step - loss: 0.7982 - accuracy: 0.7500\n",
            "938/938 [==============================] - 2s 2ms/step - loss: 0.5906 - accuracy: 0.8170\n",
            "938/938 [==============================] - 3s 2ms/step - loss: 0.8008 - accuracy: 0.7513\n",
            "938/938 [==============================] - 2s 2ms/step - loss: 0.5403 - accuracy: 0.8380\n",
            "938/938 [==============================] - 3s 2ms/step - loss: 0.7078 - accuracy: 0.7466\n",
            "938/938 [==============================] - 2s 2ms/step - loss: 0.4334 - accuracy: 0.8464\n",
            "938/938 [==============================] - 3s 2ms/step - loss: 0.6943 - accuracy: 0.7520\n",
            "938/938 [==============================] - 2s 2ms/step - loss: 0.4158 - accuracy: 0.8555\n"
          ],
          "name": "stdout"
        },
        {
          "output_type": "stream",
          "text": [
            "[Parallel(n_jobs=-3)]: Done  12 out of  12 | elapsed:   59.3s finished\n"
          ],
          "name": "stderr"
        },
        {
          "output_type": "stream",
          "text": [
            "1875/1875 [==============================] - 4s 2ms/step - loss: 0.6119 - accuracy: 0.7837\n"
          ],
          "name": "stdout"
        }
      ]
    },
    {
      "cell_type": "code",
      "metadata": {
        "colab": {
          "base_uri": "https://localhost:8080/"
        },
        "id": "-XK8XrT8Pe9N",
        "outputId": "207e4200-acf2-4abb-f71f-7306ca8f5e43"
      },
      "source": [
        "print(\"Gridsearch runtime {0:.3} mins\".format( (end-start)/60 ))"
      ],
      "execution_count": 29,
      "outputs": [
        {
          "output_type": "stream",
          "text": [
            "Gridsearch runtime 1.07 mins\n"
          ],
          "name": "stdout"
        }
      ]
    },
    {
      "cell_type": "code",
      "metadata": {
        "colab": {
          "base_uri": "https://localhost:8080/",
          "height": 408
        },
        "id": "QsWEm11LPe9N",
        "outputId": "fbb84a08-2794-412e-f27e-b0027f1cdb72"
      },
      "source": [
        "# use the mean accuracy from the CV splits for determining best model score \n",
        "means = grid_result.cv_results_['mean_test_score']\n",
        "stds = grid_result.cv_results_['std_test_score']\n",
        "params = grid_result.cv_results_['params']\n",
        "\n",
        "# move l2 penalty values outside of dictionary and into a list\n",
        "param_values = [dic[\"reg_penality\"] for dic in params]\n",
        "\n",
        "# plot accuracy vs l2_reg_penalty\n",
        "plt.figure(figsize=(20,6))\n",
        "plt.grid()\n",
        "\n",
        "# this plot is using the std of the CV splits to plot error bars however those values are so small that they aren't visable\n",
        "plt.errorbar(param_values, means, yerr=stds, ecolor=\"orange\")\n",
        "plt.xscale(\"log\") # use a log scale for ease of reading, recall that l2_reg_penalty were in powers of 10 \n",
        "plt.title(\"L2 Regularization: Model Accuracy vs L2 Penalty Strength\")\n",
        "plt.ylabel(\"Validation Accuracy\", )\n",
        "plt.xlabel(\"L2 Penalty Strength usng a Log Scale\");"
      ],
      "execution_count": 30,
      "outputs": [
        {
          "output_type": "display_data",
          "data": {
            "image/png": "[encoded data removed]",
            "text/plain": [
              "<Figure size 1440x432 with 1 Axes>"
            ]
          },
          "metadata": {
            "tags": [],
            "needs_background": "light"
          }
        }
      ]
    },
    {
      "cell_type": "markdown",
      "metadata": {
        "id": "tEBBsdG9Pe9O"
      },
      "source": [
        "### Observations\n",
        "\n",
        "Write down some observations. What do you notice from the plot?"
      ]
    },
    {
      "cell_type": "markdown",
      "metadata": {
        "deletable": false,
        "nbgrader": {
          "cell_type": "markdown",
          "checksum": "089b55b5a84d9c96c51fd341d9e6c74f",
          "grade": true,
          "grade_id": "cell-010212fc0915b976",
          "locked": false,
          "points": 0,
          "schema_version": 3,
          "solution": true,
          "task": false
        },
        "id": "HE-LNVtpPe9O"
      },
      "source": [
        "\n",
        "\n",
        "```\n",
        "# This is formatted as code\n",
        "```\n",
        "\n",
        "0.00001 penalty has the best accuracy, 1 penalty has the worst"
      ]
    },
    {
      "cell_type": "markdown",
      "metadata": {
        "id": "EqL8rKFRPe9P"
      },
      "source": [
        "\n",
        "## Compare Weights between Best and Worse Model \n",
        "\n",
        "Next, we are going to compare the hidden layer weights between the best and worse performing model while taking note of the respective l2 penalty strengths."
      ]
    },
    {
      "cell_type": "code",
      "metadata": {
        "id": "JTcp-pz_Pe9P"
      },
      "source": [
        "# get the best l2 penalty term \n",
        "best_lr_penalty = grid_result.best_params_[\"reg_penality\"]\n",
        "\n",
        "# get the best trained model \n",
        "best_model = grid_result.best_estimator_.build_fn(Lp_reg=l2, reg_penality=best_lr_penalty)\n",
        "\n",
        "# get the weights from the best trained model \n",
        "best_weights = best_model.get_weights()"
      ],
      "execution_count": 31,
      "outputs": []
    },
    {
      "cell_type": "code",
      "metadata": {
        "colab": {
          "base_uri": "https://localhost:8080/"
        },
        "id": "bUWYCq5HPe9R",
        "outputId": "eea5ed8c-40c9-4d52-f0f0-ef8d9a25c94a"
      },
      "source": [
        "# train a model using the l2_reg_penalty value at scored the lowest \n",
        "worse_l2_reg_penalty = 1.0\n",
        "\n",
        "worse_model = build_complex_model(Lp_reg=l2, reg_penality=worse_l2_reg_penalty)\n",
        "\n",
        "# fit model \n",
        "worse_model.fit(X_train, y_train, epochs=1)\n",
        "\n",
        "# get weights from worse performing model \n",
        "worse_weights = worse_model.get_weights()"
      ],
      "execution_count": 32,
      "outputs": [
        {
          "output_type": "stream",
          "text": [
            "1875/1875 [==============================] - 4s 2ms/step - loss: 70.4156 - accuracy: 0.1398\n"
          ],
          "name": "stdout"
        }
      ]
    },
    {
      "cell_type": "markdown",
      "metadata": {
        "id": "qeDcyyJdPe9S"
      },
      "source": [
        "-----\n",
        "## Understanding how Weights and Biases are stored"
      ]
    },
    {
      "cell_type": "markdown",
      "metadata": {
        "id": "CNTjO9CMPe9S"
      },
      "source": [
        "Let's take a minute to understand that`.get_weights()` returns a list with 8 elements (if you're using `build_complex_model`)."
      ]
    },
    {
      "cell_type": "code",
      "metadata": {
        "colab": {
          "base_uri": "https://localhost:8080/"
        },
        "id": "fMJclOzePe9S",
        "outputId": "2592416e-3832-4bee-8f57-b21d7b28fafd"
      },
      "source": [
        "len(best_weights)"
      ],
      "execution_count": 33,
      "outputs": [
        {
          "output_type": "execute_result",
          "data": {
            "text/plain": [
              "8"
            ]
          },
          "metadata": {
            "tags": []
          },
          "execution_count": 33
        }
      ]
    },
    {
      "cell_type": "markdown",
      "metadata": {
        "id": "jlpsJyESPe9S"
      },
      "source": [
        "There are **weights matrices and bias vectors between each layer** and we have 5 layers. \n",
        "\n",
        "- Input\n",
        "- Hidden 1\n",
        "- Hidden 2\n",
        "- Hidden 3\n",
        "- Output \n",
        "\n",
        "So that means we should have 4 weight matrices, but we see 8. **There are also 4 weight vectors for the biases between each layer.** So that accounts for the 8. \n",
        "\n",
        "\n",
        "#### Index for Weight Matrices \n",
        "If you index for a weight matrix, you can see its shape and that they are indeed matrices. \n",
        "\n",
        "Notice how you can see the dims of the layers that the matrices are sandwiched between?\n",
        "\n",
        "Input layer has 784 dims and hidden layer 1 has 500 dims. Given this understanding, the numbers you see in the shapes should make sense. "
      ]
    },
    {
      "cell_type": "code",
      "metadata": {
        "colab": {
          "base_uri": "https://localhost:8080/"
        },
        "id": "uj5oxAG4Pe9T",
        "outputId": "36d46145-82ae-44f9-9dfd-715292139474"
      },
      "source": [
        "# bewteen input and 1st hidden layer\n",
        "best_weights[0].shape"
      ],
      "execution_count": 34,
      "outputs": [
        {
          "output_type": "execute_result",
          "data": {
            "text/plain": [
              "(784, 500)"
            ]
          },
          "metadata": {
            "tags": []
          },
          "execution_count": 34
        }
      ]
    },
    {
      "cell_type": "code",
      "metadata": {
        "colab": {
          "base_uri": "https://localhost:8080/"
        },
        "id": "T4D4-EkKPe9T",
        "outputId": "4c002457-803d-47a4-dffb-66affcc9b5da"
      },
      "source": [
        "# bewteen 1st and 2nd hidden layer\n",
        "best_weights[2].shape"
      ],
      "execution_count": 35,
      "outputs": [
        {
          "output_type": "execute_result",
          "data": {
            "text/plain": [
              "(500, 250)"
            ]
          },
          "metadata": {
            "tags": []
          },
          "execution_count": 35
        }
      ]
    },
    {
      "cell_type": "code",
      "metadata": {
        "colab": {
          "base_uri": "https://localhost:8080/"
        },
        "id": "0m81k_U4Pe9T",
        "outputId": "52953cfd-0986-4fae-9fd6-c8e1aced41ba"
      },
      "source": [
        "# bewteen 2st and 3nd hidden layer\n",
        "best_weights[4].shape"
      ],
      "execution_count": 36,
      "outputs": [
        {
          "output_type": "execute_result",
          "data": {
            "text/plain": [
              "(250, 100)"
            ]
          },
          "metadata": {
            "tags": []
          },
          "execution_count": 36
        }
      ]
    },
    {
      "cell_type": "code",
      "metadata": {
        "colab": {
          "base_uri": "https://localhost:8080/"
        },
        "id": "vlOuVrp1Pe9U",
        "outputId": "2b4ba917-c316-425e-d104-247fb6e1098e"
      },
      "source": [
        "# bewteen 3rd hidden layer and output layer\n",
        "best_weights[6].shape"
      ],
      "execution_count": 37,
      "outputs": [
        {
          "output_type": "execute_result",
          "data": {
            "text/plain": [
              "(100, 10)"
            ]
          },
          "metadata": {
            "tags": []
          },
          "execution_count": 37
        }
      ]
    },
    {
      "cell_type": "markdown",
      "metadata": {
        "id": "Xq6DCShJPe9U"
      },
      "source": [
        "#### Index for the bias vectors\n",
        "\n",
        "The shapes of the bias vectors should exactly match up the dims/nodes of each layer (excluding the input layer). "
      ]
    },
    {
      "cell_type": "code",
      "metadata": {
        "colab": {
          "base_uri": "https://localhost:8080/"
        },
        "id": "etlidD0zPe9U",
        "outputId": "4a3343b5-8733-4aed-90f8-a3b64d45296d"
      },
      "source": [
        "# for hidden layer 1 \n",
        "best_weights[1].shape"
      ],
      "execution_count": 38,
      "outputs": [
        {
          "output_type": "execute_result",
          "data": {
            "text/plain": [
              "(500,)"
            ]
          },
          "metadata": {
            "tags": []
          },
          "execution_count": 38
        }
      ]
    },
    {
      "cell_type": "code",
      "metadata": {
        "colab": {
          "base_uri": "https://localhost:8080/"
        },
        "id": "clE6hftbPe9U",
        "outputId": "427cb9c2-00f3-44a6-a620-40a20b52e398"
      },
      "source": [
        "# for hidden layer 2 \n",
        "best_weights[3].shape"
      ],
      "execution_count": 39,
      "outputs": [
        {
          "output_type": "execute_result",
          "data": {
            "text/plain": [
              "(250,)"
            ]
          },
          "metadata": {
            "tags": []
          },
          "execution_count": 39
        }
      ]
    },
    {
      "cell_type": "code",
      "metadata": {
        "colab": {
          "base_uri": "https://localhost:8080/"
        },
        "id": "iAOzIj2FPe9V",
        "outputId": "5d69a92f-51e4-4fab-ab6b-13812fd55d48"
      },
      "source": [
        "# for hidden layer 3\n",
        "best_weights[5].shape"
      ],
      "execution_count": 40,
      "outputs": [
        {
          "output_type": "execute_result",
          "data": {
            "text/plain": [
              "(100,)"
            ]
          },
          "metadata": {
            "tags": []
          },
          "execution_count": 40
        }
      ]
    },
    {
      "cell_type": "code",
      "metadata": {
        "colab": {
          "base_uri": "https://localhost:8080/"
        },
        "id": "HrgLXZDnPe9X",
        "outputId": "cf427562-dd65-48ca-baae-3488cda82d19"
      },
      "source": [
        "# for output layer\n",
        "best_weights[7].shape"
      ],
      "execution_count": 41,
      "outputs": [
        {
          "output_type": "execute_result",
          "data": {
            "text/plain": [
              "(10,)"
            ]
          },
          "metadata": {
            "tags": []
          },
          "execution_count": 41
        }
      ]
    },
    {
      "cell_type": "markdown",
      "metadata": {
        "id": "qTUVsL67Pe9X"
      },
      "source": [
        "-----\n",
        "\n",
        "### Back to our Analysis of L2 space regularization (also known as Ridge)\n",
        "\n",
        "Let's do a comparison of the first weight matrix (between the input and 1st hidden layer) for the best and worse performing model as well as with the initial weight values that are randomly sampled from the GlorotUniform distribution.\n",
        "\n",
        "[**Check out the Keras docs for the Dense layer**](https://keras.io/api/layers/core_layers/dense/), you'll see that GlorotUniform is the default weight initializer. "
      ]
    },
    {
      "cell_type": "markdown",
      "metadata": {
        "id": "tB6jYdV6Pe9a"
      },
      "source": [
        "Before we compare weights, let's take note of the following. \n",
        "\n",
        "Both `best_weights[0]` or `worse_weights[0]` are matrices with shape `(784, 500)`. \n",
        "\n",
        "If we flatten them, then we get `784 * 500 = 392000` weights. What does this mean exactly?\n",
        "\n",
        "Remember that we are working with the Fully Connected Forward Feeding model which looks something like this. \n",
        "\n",
        "![](https://pyimagesearch.com/wp-content/uploads/2016/08/simple_neural_network_header.jpg)\n",
        "\n",
        "The important thing to notice is that in `Fully Connected` models, each component in the input vectors gets passed to all the nodes in next layer. This means for our input vector with 784 dims, there are 784 **$w_1$** weights, each with a slightly different value, one for each of the 784 components in the input vector. \n",
        "\n",
        "So to keep our analysis simple, we are going to just analyze one column of the weight matrix. You could index for whatever column you want, but this notebook will assume that you have indexed for the weights in column one. This means that we will compare the affect that regularization had on all of the 784 **$w_1$** weights that exist in 500 dimensional space of hidden layer 1. \n",
        "\n",
        "In other words, by looking at just one column, we are narrowing our analysis to the distribution of values for w_1 oppose to mixing together the distributions of all the weights w_1, w_2, ..., w_500. This is done for simplicity of analysis, the goal being to empirically observe the affect of regularization on the weights. "
      ]
    },
    {
      "cell_type": "code",
      "metadata": {
        "colab": {
          "base_uri": "https://localhost:8080/"
        },
        "id": "eztXciBHAw11",
        "outputId": "07128ad2-228e-4de6-d003-15126257801e"
      },
      "source": [
        "best_hidden_weights = best_weights[0][0]\n",
        "best_hidden_weights.shape"
      ],
      "execution_count": 42,
      "outputs": [
        {
          "output_type": "execute_result",
          "data": {
            "text/plain": [
              "(500,)"
            ]
          },
          "metadata": {
            "tags": []
          },
          "execution_count": 42
        }
      ]
    },
    {
      "cell_type": "code",
      "metadata": {
        "colab": {
          "base_uri": "https://localhost:8080/"
        },
        "id": "OAoeffqwA5TN",
        "outputId": "a59139c7-b4c8-4942-e88e-0fa11b37b1a7"
      },
      "source": [
        "best_hidden_weights_1 = best_weights[0].T[0]\n",
        "best_hidden_weights_1.shape"
      ],
      "execution_count": 43,
      "outputs": [
        {
          "output_type": "execute_result",
          "data": {
            "text/plain": [
              "(784,)"
            ]
          },
          "metadata": {
            "tags": []
          },
          "execution_count": 43
        }
      ]
    },
    {
      "cell_type": "code",
      "metadata": {
        "colab": {
          "base_uri": "https://localhost:8080/"
        },
        "id": "DQDkMSJxBDtc",
        "outputId": "14f40873-00dd-4084-b3af-489a0ffd64da"
      },
      "source": [
        "best_weights[0].shape"
      ],
      "execution_count": 44,
      "outputs": [
        {
          "output_type": "execute_result",
          "data": {
            "text/plain": [
              "(784, 500)"
            ]
          },
          "metadata": {
            "tags": []
          },
          "execution_count": 44
        }
      ]
    },
    {
      "cell_type": "code",
      "metadata": {
        "deletable": false,
        "nbgrader": {
          "cell_type": "code",
          "checksum": "a3f75126a80a74dd71fb0a9ab2b8b89f",
          "grade": false,
          "grade_id": "cell-7882876b8973bc7b",
          "locked": false,
          "schema_version": 3,
          "solution": true,
          "task": false
        },
        "id": "EDCsF4AwPe9b"
      },
      "source": [
        "# index for the 1st column in the 1st hidden layer weights in best_weights and save to best_hidden_weights\n",
        "\n",
        "# index for the 1st column in the 1st hidden layer weights in worse_weights and save to worse_hidden_weights\n",
        "\n",
        "# Keras models randomly samples from the GlorotUniform distribution for the initial values of model weights \n",
        "# instantiate GlorotUniform and sample 500 weights and save to initial_weight_values\n",
        "# hint: use shape=(500,1)\n",
        "\n",
        "# lastly, flatten all of the above 3 variables so that you go from a matrix to a vector \n",
        "# otherwise, pandas will not like you and throw a fit \n",
        "\n",
        "# YOUR CODE HERE\n",
        "best_hidden_weights = best_weights[0][0]\n",
        "worse_hidden_weights = worse_weights[0][0]\n",
        "# best_hidden_weights.shape\n",
        "initializer = tf.keras.initializers.GlorotUniform(seed=1234)\n",
        "initial_weight_values = initializer(shape=(1,500))[0].numpy()"
      ],
      "execution_count": 45,
      "outputs": []
    },
    {
      "cell_type": "code",
      "metadata": {
        "colab": {
          "base_uri": "https://localhost:8080/"
        },
        "id": "1BkOPo3pBtAV",
        "outputId": "c9a6d4b7-79c2-4efa-d9b2-57bd2f97fb57"
      },
      "source": [
        "best_hidden_weights.shape, worse_hidden_weights.shape, initial_weight_values.shape"
      ],
      "execution_count": 46,
      "outputs": [
        {
          "output_type": "execute_result",
          "data": {
            "text/plain": [
              "((500,), (500,), (500,))"
            ]
          },
          "metadata": {
            "tags": []
          },
          "execution_count": 46
        }
      ]
    },
    {
      "cell_type": "code",
      "metadata": {
        "id": "h74iDr-NPe9c"
      },
      "source": [
        "# move all weights to a dataframe for ease of analysis \n",
        "cols = [\"best_hidden_weights\", \"worse_hidden_weights\", \"initial_weight_values\"]\n",
        "data = [best_hidden_weights, worse_hidden_weights, initial_weight_values]\n",
        "df = pd.DataFrame(data=data).T\n",
        "df.columns = cols"
      ],
      "execution_count": 47,
      "outputs": []
    },
    {
      "cell_type": "code",
      "metadata": {
        "colab": {
          "base_uri": "https://localhost:8080/",
          "height": 297
        },
        "id": "S7UpzzraPe9c",
        "outputId": "521bc936-e004-4159-8e00-65f6dae48692"
      },
      "source": [
        "# check out the statistics for each weight column \n",
        "df.describe()"
      ],
      "execution_count": 48,
      "outputs": [
        {
          "output_type": "execute_result",
          "data": {
            "text/html": [
              "<div>\n",
              "<style scoped>\n",
              "    .dataframe tbody tr th:only-of-type {\n",
              "        vertical-align: middle;\n",
              "    }\n",
              "\n",
              "    .dataframe tbody tr th {\n",
              "        vertical-align: top;\n",
              "    }\n",
              "\n",
              "    .dataframe thead th {\n",
              "        text-align: right;\n",
              "    }\n",
              "</style>\n",
              "<table border=\"1\" class=\"dataframe\">\n",
              "  <thead>\n",
              "    <tr style=\"text-align: right;\">\n",
              "      <th></th>\n",
              "      <th>best_hidden_weights</th>\n",
              "      <th>worse_hidden_weights</th>\n",
              "      <th>initial_weight_values</th>\n",
              "    </tr>\n",
              "  </thead>\n",
              "  <tbody>\n",
              "    <tr>\n",
              "      <th>count</th>\n",
              "      <td>500.000000</td>\n",
              "      <td>5.000000e+02</td>\n",
              "      <td>500.000000</td>\n",
              "    </tr>\n",
              "    <tr>\n",
              "      <th>mean</th>\n",
              "      <td>-0.000224</td>\n",
              "      <td>-3.454167e-07</td>\n",
              "      <td>0.002079</td>\n",
              "    </tr>\n",
              "    <tr>\n",
              "      <th>std</th>\n",
              "      <td>0.040489</td>\n",
              "      <td>8.128835e-06</td>\n",
              "      <td>0.061731</td>\n",
              "    </tr>\n",
              "    <tr>\n",
              "      <th>min</th>\n",
              "      <td>-0.068343</td>\n",
              "      <td>-1.779628e-04</td>\n",
              "      <td>-0.109263</td>\n",
              "    </tr>\n",
              "    <tr>\n",
              "      <th>25%</th>\n",
              "      <td>-0.036126</td>\n",
              "      <td>-2.570986e-19</td>\n",
              "      <td>-0.047005</td>\n",
              "    </tr>\n",
              "    <tr>\n",
              "      <th>50%</th>\n",
              "      <td>0.000240</td>\n",
              "      <td>-1.029992e-23</td>\n",
              "      <td>0.001182</td>\n",
              "    </tr>\n",
              "    <tr>\n",
              "      <th>75%</th>\n",
              "      <td>0.036475</td>\n",
              "      <td>3.705051e-19</td>\n",
              "      <td>0.055509</td>\n",
              "    </tr>\n",
              "    <tr>\n",
              "      <th>max</th>\n",
              "      <td>0.067872</td>\n",
              "      <td>2.937300e-05</td>\n",
              "      <td>0.109095</td>\n",
              "    </tr>\n",
              "  </tbody>\n",
              "</table>\n",
              "</div>"
            ],
            "text/plain": [
              "       best_hidden_weights  worse_hidden_weights  initial_weight_values\n",
              "count           500.000000          5.000000e+02             500.000000\n",
              "mean             -0.000224         -3.454167e-07               0.002079\n",
              "std               0.040489          8.128835e-06               0.061731\n",
              "min              -0.068343         -1.779628e-04              -0.109263\n",
              "25%              -0.036126         -2.570986e-19              -0.047005\n",
              "50%               0.000240         -1.029992e-23               0.001182\n",
              "75%               0.036475          3.705051e-19               0.055509\n",
              "max               0.067872          2.937300e-05               0.109095"
            ]
          },
          "metadata": {
            "tags": []
          },
          "execution_count": 48
        }
      ]
    },
    {
      "cell_type": "code",
      "metadata": {
        "colab": {
          "base_uri": "https://localhost:8080/",
          "height": 716
        },
        "id": "3iMQTaV0Pe9c",
        "outputId": "0d72ca15-8f6a-4867-ba90-30cb2cefc603"
      },
      "source": [
        "# plot the distributions for each weight column \n",
        "df.hist(figsize=(20,12));"
      ],
      "execution_count": 49,
      "outputs": [
        {
          "output_type": "display_data",
          "data": {
            "image/png": "[encoded data removed]",
            "text/plain": [
              "<Figure size 1440x864 with 4 Axes>"
            ]
          },
          "metadata": {
            "tags": [],
            "needs_background": "light"
          }
        }
      ]
    },
    {
      "cell_type": "markdown",
      "metadata": {
        "id": "OJoQ95OZPe9c"
      },
      "source": [
        "## Observations \n",
        "\n",
        "Take a look at the statistical table and the plots. Then answer the following questions. \n",
        "\n",
        "**How do the hidden layer weights from the best performing model compare to the initial weight values?**"
      ]
    },
    {
      "cell_type": "markdown",
      "metadata": {
        "deletable": false,
        "nbgrader": {
          "cell_type": "markdown",
          "checksum": "5eacb66f89b216ae3b4bb3c4b7bd6d38",
          "grade": true,
          "grade_id": "cell-6add7cc400c4c716",
          "locked": false,
          "points": 0,
          "schema_version": 3,
          "solution": true,
          "task": false
        },
        "id": "iFwoGHB_Pe9e"
      },
      "source": [
        "They actually have different orders, order matters"
      ]
    },
    {
      "cell_type": "markdown",
      "metadata": {
        "id": "KUloeEJ6Pe9f"
      },
      "source": [
        "**What was the effect of using a small l2 penalty value?**"
      ]
    },
    {
      "cell_type": "markdown",
      "metadata": {
        "deletable": false,
        "nbgrader": {
          "cell_type": "markdown",
          "checksum": "92ac1689b72d727ab7f4d261c5e76daa",
          "grade": true,
          "grade_id": "cell-5b4f11bba2d49639",
          "locked": false,
          "points": 0,
          "schema_version": 3,
          "solution": true,
          "task": false
        },
        "id": "iTEpp0K0Pe9f"
      },
      "source": [
        "Intuitively: if you have two ways of fitting your data, such as 𝑦=2 * 𝑥1+0*𝑥2 or 𝑦=𝑥1+𝑥2, you prefer the latter because the penalty is 2^2+0^2=4 in the former and 1^2+1^2=2 in the latter. In general the effect of each weight on the prediction will be linear but its penalty will be quadratic. Thus it will pay off to put lots of small values instead of just a few big ones."
      ]
    },
    {
      "cell_type": "markdown",
      "metadata": {
        "id": "4jVL1YlsPe9f"
      },
      "source": [
        "**What was the effect of using a large l2 penalty value?**"
      ]
    },
    {
      "cell_type": "markdown",
      "metadata": {
        "deletable": false,
        "nbgrader": {
          "cell_type": "markdown",
          "checksum": "3048a6d2805f61d6fb58372c42c3ac54",
          "grade": true,
          "grade_id": "cell-0a30b62e5e119555",
          "locked": false,
          "points": 0,
          "schema_version": 3,
          "solution": true,
          "task": false
        },
        "id": "v2gjh5gnPe9f"
      },
      "source": [
        "see above"
      ]
    },
    {
      "cell_type": "markdown",
      "metadata": {
        "id": "cF7iNKc4Pe9g"
      },
      "source": [
        "**Given what you know about L2 regularization, are you surprised by these results?**"
      ]
    },
    {
      "cell_type": "markdown",
      "metadata": {
        "deletable": false,
        "nbgrader": {
          "cell_type": "markdown",
          "checksum": "d8a2034f67badfe53f601873f7026dc0",
          "grade": true,
          "grade_id": "cell-c04d067161064011",
          "locked": false,
          "points": 0,
          "schema_version": 3,
          "solution": true,
          "task": false
        },
        "id": "GpotSvq3Pe9g"
      },
      "source": [
        "YOUR ANSWER HERE"
      ]
    },
    {
      "cell_type": "markdown",
      "metadata": {
        "id": "ic7Pzn7VPe9g"
      },
      "source": [
        "----\n",
        "\n",
        "# Experiment 2: Identify the relationship between model performance and Max Norm Weight Constraint\n",
        "\n",
        "![](https://qph.fs.quoracdn.net/main-qimg-9d0dbf8074761b541ba80543ddfc9f73.webp)\n",
        "\n",
        "Recall from lecture that the **Norm** of a vector is just another word for the **length** of a vector.\n",
        "\n",
        "MaxNorm weight constraint puts a limit on the length of a weight vector.\n",
        "\n",
        "$$ \\text{Max_value_of_norm} >= {\\displaystyle \\left\\|x\\right\\|_{p}=\\left(|x_{1}|^{p}+|x_{2}|^{p}+\\dotsb +|x_{n}|^{p}\\right)^{1/p}.}$$  \n",
        "\n",
        "The effect that Lp regularization and Max Norm Weight Constraint have on the weights should be the same, but they go about it in different ways. \n",
        "\n",
        "Lp regularization (l1/Lasso and l2/Ridge) shrink the value of the weights. Where as Max Norm Weight Constraint puts a limit on how big the weight vector can be which, in effect, keeps the individual weight values small enough to keep the norm below that limit. \n",
        "\n",
        "In this experiment, we are going to run another gridseach but instead of using Lp space regularization as we did in the previous experiment, we are going to use MaxNorm and see what kind of effect that this type of regularization has on model performance and the learned weights. "
      ]
    },
    {
      "cell_type": "markdown",
      "metadata": {
        "id": "6dAeJ6DUPe9h"
      },
      "source": [
        "Since we already built our model, we just need to update the `hyper_parameters` dictionary. "
      ]
    },
    {
      "cell_type": "code",
      "metadata": {
        "colab": {
          "base_uri": "https://localhost:8080/"
        },
        "id": "gIizfcQVPe9h",
        "outputId": "93ef0773-f10f-4807-ff8e-dc947db92005"
      },
      "source": [
        "# build out our hyperparameter dictionary \n",
        "hyper_parameters = {\n",
        "    \n",
        "    \"maxnorm_wc\": np.linspace(0.5, 10.0, num=20), \n",
        "    # default is 1, in order to change it we must provide value here because we can't provide a parameter value for model.fit() directly when using gridsearch\n",
        "    # protip: consider changing epochs to 1 if the gridsearche run-time are too long for you    \n",
        "    \"epochs\": [1] \n",
        "}\n",
        "\n",
        "hyper_parameters"
      ],
      "execution_count": 50,
      "outputs": [
        {
          "output_type": "execute_result",
          "data": {
            "text/plain": [
              "{'epochs': [1],\n",
              " 'maxnorm_wc': array([ 0.5,  1. ,  1.5,  2. ,  2.5,  3. ,  3.5,  4. ,  4.5,  5. ,  5.5,\n",
              "         6. ,  6.5,  7. ,  7.5,  8. ,  8.5,  9. ,  9.5, 10. ])}"
            ]
          },
          "metadata": {
            "tags": []
          },
          "execution_count": 50
        }
      ]
    },
    {
      "cell_type": "code",
      "metadata": {
        "colab": {
          "base_uri": "https://localhost:8080/"
        },
        "id": "c1CFftnDo85I",
        "outputId": "3d191b6b-7e50-4f71-ce10-3cb409f3d61d"
      },
      "source": [
        "!pip install scikit-learn==0.21.2"
      ],
      "execution_count": 51,
      "outputs": [
        {
          "output_type": "stream",
          "text": [
            "Requirement already satisfied: scikit-learn==0.21.2 in /usr/local/lib/python3.7/dist-packages (0.21.2)\n",
            "Requirement already satisfied: scipy>=0.17.0 in /usr/local/lib/python3.7/dist-packages (from scikit-learn==0.21.2) (1.4.1)\n",
            "Requirement already satisfied: joblib>=0.11 in /usr/local/lib/python3.7/dist-packages (from scikit-learn==0.21.2) (1.0.1)\n",
            "Requirement already satisfied: numpy>=1.11.0 in /usr/local/lib/python3.7/dist-packages (from scikit-learn==0.21.2) (1.19.5)\n"
          ],
          "name": "stdout"
        }
      ]
    },
    {
      "cell_type": "code",
      "metadata": {
        "colab": {
          "base_uri": "https://localhost:8080/"
        },
        "id": "kNUFj21JPe9i",
        "outputId": "e28cdeb9-5d1d-4db8-aff4-01bbf6bb2f80"
      },
      "source": [
        "start=time()\n",
        "# Create and run Grid Search\n",
        "grid = GridSearchCV(estimator=model, \n",
        "                    param_grid=hyper_parameters, \n",
        "                    n_jobs=-2, \n",
        "                    verbose=1, \n",
        "                    cv=2)\n",
        "\n",
        "grid_result = grid.fit(X_train, y_train)\n",
        "end=time()"
      ],
      "execution_count": 52,
      "outputs": [
        {
          "output_type": "stream",
          "text": [
            "Fitting 2 folds for each of 20 candidates, totalling 40 fits\n"
          ],
          "name": "stdout"
        },
        {
          "output_type": "stream",
          "text": [
            "[Parallel(n_jobs=-2)]: Using backend SequentialBackend with 1 concurrent workers.\n"
          ],
          "name": "stderr"
        },
        {
          "output_type": "stream",
          "text": [
            "938/938 [==============================] - 3s 3ms/step - loss: 0.8095 - accuracy: 0.7043\n",
            "938/938 [==============================] - 2s 2ms/step - loss: 0.5170 - accuracy: 0.8093\n",
            "938/938 [==============================] - 3s 3ms/step - loss: 0.8312 - accuracy: 0.6906\n",
            "938/938 [==============================] - 2s 2ms/step - loss: 0.4980 - accuracy: 0.8152\n",
            "938/938 [==============================] - 3s 3ms/step - loss: 0.7062 - accuracy: 0.7434\n",
            "938/938 [==============================] - 2s 2ms/step - loss: 0.4410 - accuracy: 0.8385\n",
            "938/938 [==============================] - 3s 3ms/step - loss: 0.7089 - accuracy: 0.7416\n",
            "938/938 [==============================] - 2s 2ms/step - loss: 0.4316 - accuracy: 0.8484\n",
            "938/938 [==============================] - 3s 3ms/step - loss: 0.6900 - accuracy: 0.7513\n",
            "938/938 [==============================] - 2s 2ms/step - loss: 0.4316 - accuracy: 0.8456\n",
            "938/938 [==============================] - 3s 3ms/step - loss: 0.6927 - accuracy: 0.7474\n",
            "938/938 [==============================] - 2s 2ms/step - loss: 0.4271 - accuracy: 0.8470\n",
            "938/938 [==============================] - 3s 2ms/step - loss: 0.6788 - accuracy: 0.7584\n",
            "938/938 [==============================] - 2s 2ms/step - loss: 0.4491 - accuracy: 0.8363\n",
            "938/938 [==============================] - 3s 3ms/step - loss: 0.6983 - accuracy: 0.7486\n",
            "938/938 [==============================] - 2s 2ms/step - loss: 0.4226 - accuracy: 0.8525\n",
            "938/938 [==============================] - 3s 3ms/step - loss: 0.6735 - accuracy: 0.7590\n",
            "938/938 [==============================] - 2s 2ms/step - loss: 0.4481 - accuracy: 0.8363\n",
            "938/938 [==============================] - 3s 3ms/step - loss: 0.6966 - accuracy: 0.7479\n",
            "938/938 [==============================] - 2s 2ms/step - loss: 0.4245 - accuracy: 0.8495\n",
            "938/938 [==============================] - 3s 2ms/step - loss: 0.7027 - accuracy: 0.7485\n",
            "938/938 [==============================] - 2s 2ms/step - loss: 0.4870 - accuracy: 0.8183\n",
            "938/938 [==============================] - 3s 3ms/step - loss: 0.6888 - accuracy: 0.7478\n",
            "938/938 [==============================] - 2s 2ms/step - loss: 0.4439 - accuracy: 0.8382\n",
            "938/938 [==============================] - 3s 3ms/step - loss: 0.6882 - accuracy: 0.7561\n",
            "938/938 [==============================] - 2s 2ms/step - loss: 0.4413 - accuracy: 0.8400\n",
            "938/938 [==============================] - 3s 3ms/step - loss: 0.7016 - accuracy: 0.7446\n",
            "938/938 [==============================] - 2s 2ms/step - loss: 0.4361 - accuracy: 0.8435\n",
            "938/938 [==============================] - 3s 3ms/step - loss: 0.6805 - accuracy: 0.7579\n",
            "938/938 [==============================] - 2s 2ms/step - loss: 0.4198 - accuracy: 0.8447\n",
            "938/938 [==============================] - 3s 3ms/step - loss: 0.7013 - accuracy: 0.7504\n",
            "938/938 [==============================] - 2s 2ms/step - loss: 0.4591 - accuracy: 0.8298\n",
            "938/938 [==============================] - 3s 3ms/step - loss: 0.6723 - accuracy: 0.7575\n",
            "938/938 [==============================] - 2s 2ms/step - loss: 0.5549 - accuracy: 0.8025\n",
            "938/938 [==============================] - 3s 3ms/step - loss: 0.6966 - accuracy: 0.7516\n",
            "938/938 [==============================] - 2s 2ms/step - loss: 0.4620 - accuracy: 0.8289\n",
            "938/938 [==============================] - 3s 3ms/step - loss: 0.6889 - accuracy: 0.7564\n",
            "938/938 [==============================] - 2s 2ms/step - loss: 0.4135 - accuracy: 0.8464\n",
            "938/938 [==============================] - 3s 3ms/step - loss: 0.6927 - accuracy: 0.7482\n",
            "938/938 [==============================] - 2s 2ms/step - loss: 0.4839 - accuracy: 0.8179\n",
            "938/938 [==============================] - 3s 3ms/step - loss: 0.6794 - accuracy: 0.7512\n",
            "938/938 [==============================] - 2s 2ms/step - loss: 0.4235 - accuracy: 0.8459\n",
            "938/938 [==============================] - 3s 3ms/step - loss: 0.7039 - accuracy: 0.7504\n",
            "938/938 [==============================] - 2s 2ms/step - loss: 0.4756 - accuracy: 0.8281\n",
            "938/938 [==============================] - 3s 3ms/step - loss: 0.6980 - accuracy: 0.7519\n",
            "938/938 [==============================] - 2s 2ms/step - loss: 0.6355 - accuracy: 0.7734\n",
            "938/938 [==============================] - 3s 3ms/step - loss: 0.6796 - accuracy: 0.7571\n",
            "938/938 [==============================] - 2s 2ms/step - loss: 0.4159 - accuracy: 0.8504\n",
            "938/938 [==============================] - 3s 3ms/step - loss: 0.6886 - accuracy: 0.7553\n",
            "938/938 [==============================] - 2s 2ms/step - loss: 0.4488 - accuracy: 0.8330\n",
            "938/938 [==============================] - 3s 3ms/step - loss: 0.6760 - accuracy: 0.7599\n",
            "938/938 [==============================] - 2s 2ms/step - loss: 0.4145 - accuracy: 0.8466\n",
            "938/938 [==============================] - 3s 3ms/step - loss: 0.6866 - accuracy: 0.7582\n",
            "938/938 [==============================] - 2s 2ms/step - loss: 0.4552 - accuracy: 0.8246\n",
            "938/938 [==============================] - 3s 3ms/step - loss: 0.6980 - accuracy: 0.7501\n",
            "938/938 [==============================] - 2s 2ms/step - loss: 0.4151 - accuracy: 0.8497\n",
            "938/938 [==============================] - 3s 3ms/step - loss: 0.6815 - accuracy: 0.7560\n",
            "938/938 [==============================] - 2s 2ms/step - loss: 0.4250 - accuracy: 0.8428\n",
            "938/938 [==============================] - 3s 3ms/step - loss: 0.6726 - accuracy: 0.7575\n",
            "938/938 [==============================] - 2s 2ms/step - loss: 0.3992 - accuracy: 0.8557\n",
            "938/938 [==============================] - 3s 3ms/step - loss: 0.7026 - accuracy: 0.7505\n",
            "938/938 [==============================] - 2s 2ms/step - loss: 0.4653 - accuracy: 0.8316\n",
            "938/938 [==============================] - 3s 3ms/step - loss: 0.6871 - accuracy: 0.7463\n",
            "938/938 [==============================] - 2s 2ms/step - loss: 0.4510 - accuracy: 0.8375\n",
            "938/938 [==============================] - 3s 3ms/step - loss: 0.6862 - accuracy: 0.7602\n",
            "938/938 [==============================] - 2s 2ms/step - loss: 0.4594 - accuracy: 0.8320\n",
            "938/938 [==============================] - 3s 3ms/step - loss: 0.6959 - accuracy: 0.7459\n",
            "938/938 [==============================] - 2s 2ms/step - loss: 0.4561 - accuracy: 0.8341\n",
            "938/938 [==============================] - 3s 3ms/step - loss: 0.6983 - accuracy: 0.7501\n",
            "938/938 [==============================] - 2s 2ms/step - loss: 0.4225 - accuracy: 0.8451\n",
            "938/938 [==============================] - 3s 3ms/step - loss: 0.6991 - accuracy: 0.7472\n",
            "938/938 [==============================] - 2s 2ms/step - loss: 0.4412 - accuracy: 0.8340\n",
            "938/938 [==============================] - 3s 3ms/step - loss: 0.7062 - accuracy: 0.7445\n",
            "938/938 [==============================] - 2s 2ms/step - loss: 0.4120 - accuracy: 0.8534\n",
            "938/938 [==============================] - 3s 3ms/step - loss: 0.6947 - accuracy: 0.7480\n",
            "938/938 [==============================] - 2s 2ms/step - loss: 0.4285 - accuracy: 0.8458\n",
            "938/938 [==============================] - 3s 2ms/step - loss: 0.6971 - accuracy: 0.7503\n",
            "938/938 [==============================] - 2s 2ms/step - loss: 0.4254 - accuracy: 0.8454\n",
            "938/938 [==============================] - 3s 3ms/step - loss: 0.6814 - accuracy: 0.7521\n",
            "938/938 [==============================] - 2s 2ms/step - loss: 0.4528 - accuracy: 0.8345\n"
          ],
          "name": "stdout"
        },
        {
          "output_type": "stream",
          "text": [
            "[Parallel(n_jobs=-2)]: Done  40 out of  40 | elapsed:  3.3min finished\n"
          ],
          "name": "stderr"
        },
        {
          "output_type": "stream",
          "text": [
            "1875/1875 [==============================] - 5s 2ms/step - loss: 0.6003 - accuracy: 0.7823\n"
          ],
          "name": "stdout"
        }
      ]
    },
    {
      "cell_type": "code",
      "metadata": {
        "colab": {
          "base_uri": "https://localhost:8080/"
        },
        "id": "KYxrBJMgPe9i",
        "outputId": "3e0a7139-fd8c-4320-9d6e-0bee70ad9333"
      },
      "source": [
        "print(\"Gridsearch runtime {0:.3} mins\".format( (end-start)/60 ))"
      ],
      "execution_count": 53,
      "outputs": [
        {
          "output_type": "stream",
          "text": [
            "Gridsearch runtime 3.36 mins\n"
          ],
          "name": "stdout"
        }
      ]
    },
    {
      "cell_type": "code",
      "metadata": {
        "colab": {
          "base_uri": "https://localhost:8080/",
          "height": 404
        },
        "id": "twrqDzo5Pe9i",
        "outputId": "5d559aae-e6ba-4d59-bc72-fb6375200784"
      },
      "source": [
        "# use the mean accuracy from the CV splits for determining best model score \n",
        "means = grid.cv_results_['mean_test_score']\n",
        "stds = grid.cv_results_['std_test_score']\n",
        "params = grid.cv_results_['params']\n",
        "\n",
        "# move l2 penalty values outside of dictionary and into a list\n",
        "param_values = [dic[\"maxnorm_wc\"] for dic in params]\n",
        "\n",
        "# plot accuracy vs l2_reg_penalty\n",
        "plt.figure(figsize=(20,6))\n",
        "plt.grid()\n",
        "plt.errorbar(param_values, means, yerr=stds, ecolor=\"orange\")\n",
        "plt.title(\"L1 Regularization: Model Accuracy vs L1 Penalty Strength\")\n",
        "plt.ylabel(\"Validation Accuracy\", )\n",
        "plt.xlabel(\"Max Norm for Weight Vector \");"
      ],
      "execution_count": 54,
      "outputs": [
        {
          "output_type": "display_data",
          "data": {
            "image/png": "[encoded data removed]",
            "text/plain": [
              "<Figure size 1440x432 with 1 Axes>"
            ]
          },
          "metadata": {
            "tags": [],
            "needs_background": "light"
          }
        }
      ]
    },
    {
      "cell_type": "code",
      "metadata": {
        "colab": {
          "base_uri": "https://localhost:8080/"
        },
        "id": "ojWn3cqcgihx",
        "outputId": "594fbaeb-abe6-4643-e5ab-27f00bbd8027"
      },
      "source": [
        "means"
      ],
      "execution_count": 56,
      "outputs": [
        {
          "output_type": "execute_result",
          "data": {
            "text/plain": [
              "array([0.81224999, 0.84345001, 0.84633332, 0.84436667, 0.84286669,\n",
              "       0.82826665, 0.84173331, 0.83724999, 0.81568334, 0.83216667,\n",
              "       0.83701667, 0.81190002, 0.83978334, 0.83713332, 0.84921664,\n",
              "       0.83453333, 0.83301666, 0.83956665, 0.84958333, 0.83995   ])"
            ]
          },
          "metadata": {
            "tags": []
          },
          "execution_count": 56
        }
      ]
    },
    {
      "cell_type": "code",
      "metadata": {
        "colab": {
          "base_uri": "https://localhost:8080/"
        },
        "id": "MZej9w3ggljF",
        "outputId": "bfb17649-5564-4548-d984-316d7d48dd56"
      },
      "source": [
        "stds"
      ],
      "execution_count": 57,
      "outputs": [
        {
          "output_type": "execute_result",
          "data": {
            "text/plain": [
              "array([0.00294998, 0.00494999, 0.0007    , 0.00809997, 0.00659999,\n",
              "       0.00993332, 0.00173333, 0.00741667, 0.01318333, 0.01426667,\n",
              "       0.00891665, 0.03853333, 0.00681666, 0.01253334, 0.00645   ,\n",
              "       0.00293332, 0.00105003, 0.00556666, 0.00378335, 0.00541666])"
            ]
          },
          "metadata": {
            "tags": []
          },
          "execution_count": 57
        }
      ]
    },
    {
      "cell_type": "code",
      "metadata": {
        "colab": {
          "base_uri": "https://localhost:8080/"
        },
        "id": "EbMwCurqgmdy",
        "outputId": "06782bea-611f-4010-dd79-d0e941c029af"
      },
      "source": [
        "params"
      ],
      "execution_count": 58,
      "outputs": [
        {
          "output_type": "execute_result",
          "data": {
            "text/plain": [
              "[{'epochs': 1, 'maxnorm_wc': 0.5},\n",
              " {'epochs': 1, 'maxnorm_wc': 1.0},\n",
              " {'epochs': 1, 'maxnorm_wc': 1.5},\n",
              " {'epochs': 1, 'maxnorm_wc': 2.0},\n",
              " {'epochs': 1, 'maxnorm_wc': 2.5},\n",
              " {'epochs': 1, 'maxnorm_wc': 3.0},\n",
              " {'epochs': 1, 'maxnorm_wc': 3.5},\n",
              " {'epochs': 1, 'maxnorm_wc': 4.0},\n",
              " {'epochs': 1, 'maxnorm_wc': 4.5},\n",
              " {'epochs': 1, 'maxnorm_wc': 5.0},\n",
              " {'epochs': 1, 'maxnorm_wc': 5.5},\n",
              " {'epochs': 1, 'maxnorm_wc': 6.0},\n",
              " {'epochs': 1, 'maxnorm_wc': 6.5},\n",
              " {'epochs': 1, 'maxnorm_wc': 7.0},\n",
              " {'epochs': 1, 'maxnorm_wc': 7.5},\n",
              " {'epochs': 1, 'maxnorm_wc': 8.0},\n",
              " {'epochs': 1, 'maxnorm_wc': 8.5},\n",
              " {'epochs': 1, 'maxnorm_wc': 9.0},\n",
              " {'epochs': 1, 'maxnorm_wc': 9.5},\n",
              " {'epochs': 1, 'maxnorm_wc': 10.0}]"
            ]
          },
          "metadata": {
            "tags": []
          },
          "execution_count": 58
        }
      ]
    },
    {
      "cell_type": "code",
      "metadata": {
        "colab": {
          "base_uri": "https://localhost:8080/"
        },
        "id": "iuRSMfA6hjrB",
        "outputId": "d2a19a2c-59cd-4a43-a5d9-ef0295ff33eb"
      },
      "source": [
        "grid.cv_results_"
      ],
      "execution_count": 59,
      "outputs": [
        {
          "output_type": "execute_result",
          "data": {
            "text/plain": [
              "{'mean_fit_time': array([3.12793541, 3.11414897, 3.07445025, 3.01525271, 3.06297708,\n",
              "        3.02098215, 3.0369848 , 3.07391262, 3.0626049 , 3.15766227,\n",
              "        3.07515633, 3.21939409, 3.0275737 , 3.04400492, 3.05589616,\n",
              "        3.20471013, 3.04658782, 3.0757575 , 3.04445815, 3.17647707]),\n",
              " 'mean_score_time': array([1.88527405, 1.77919054, 1.80331528, 1.94329417, 1.82684004,\n",
              "        1.80618834, 1.81438529, 1.97780085, 1.86701334, 1.86454058,\n",
              "        1.84045959, 1.79805923, 1.80693734, 1.83654773, 1.81949639,\n",
              "        1.83055353, 1.82250714, 1.83358765, 1.7933954 , 1.85258043]),\n",
              " 'mean_test_score': array([0.81224999, 0.84345001, 0.84633332, 0.84436667, 0.84286669,\n",
              "        0.82826665, 0.84173331, 0.83724999, 0.81568334, 0.83216667,\n",
              "        0.83701667, 0.81190002, 0.83978334, 0.83713332, 0.84921664,\n",
              "        0.83453333, 0.83301666, 0.83956665, 0.84958333, 0.83995   ]),\n",
              " 'param_epochs': masked_array(data=[1, 1, 1, 1, 1, 1, 1, 1, 1, 1, 1, 1, 1, 1, 1, 1, 1, 1,\n",
              "                    1, 1],\n",
              "              mask=[False, False, False, False, False, False, False, False,\n",
              "                    False, False, False, False, False, False, False, False,\n",
              "                    False, False, False, False],\n",
              "        fill_value='?',\n",
              "             dtype=object),\n",
              " 'param_maxnorm_wc': masked_array(data=[0.5, 1.0, 1.5, 2.0, 2.5, 3.0, 3.5, 4.0, 4.5, 5.0, 5.5,\n",
              "                    6.0, 6.5, 7.0, 7.5, 8.0, 8.5, 9.0, 9.5, 10.0],\n",
              "              mask=[False, False, False, False, False, False, False, False,\n",
              "                    False, False, False, False, False, False, False, False,\n",
              "                    False, False, False, False],\n",
              "        fill_value='?',\n",
              "             dtype=object),\n",
              " 'params': [{'epochs': 1, 'maxnorm_wc': 0.5},\n",
              "  {'epochs': 1, 'maxnorm_wc': 1.0},\n",
              "  {'epochs': 1, 'maxnorm_wc': 1.5},\n",
              "  {'epochs': 1, 'maxnorm_wc': 2.0},\n",
              "  {'epochs': 1, 'maxnorm_wc': 2.5},\n",
              "  {'epochs': 1, 'maxnorm_wc': 3.0},\n",
              "  {'epochs': 1, 'maxnorm_wc': 3.5},\n",
              "  {'epochs': 1, 'maxnorm_wc': 4.0},\n",
              "  {'epochs': 1, 'maxnorm_wc': 4.5},\n",
              "  {'epochs': 1, 'maxnorm_wc': 5.0},\n",
              "  {'epochs': 1, 'maxnorm_wc': 5.5},\n",
              "  {'epochs': 1, 'maxnorm_wc': 6.0},\n",
              "  {'epochs': 1, 'maxnorm_wc': 6.5},\n",
              "  {'epochs': 1, 'maxnorm_wc': 7.0},\n",
              "  {'epochs': 1, 'maxnorm_wc': 7.5},\n",
              "  {'epochs': 1, 'maxnorm_wc': 8.0},\n",
              "  {'epochs': 1, 'maxnorm_wc': 8.5},\n",
              "  {'epochs': 1, 'maxnorm_wc': 9.0},\n",
              "  {'epochs': 1, 'maxnorm_wc': 9.5},\n",
              "  {'epochs': 1, 'maxnorm_wc': 10.0}],\n",
              " 'rank_test_score': array([19,  5,  3,  4,  6, 17,  7, 11, 18, 16, 13, 20,  9, 12,  2, 14, 15,\n",
              "        10,  1,  8], dtype=int32),\n",
              " 'split0_test_score': array([0.80930001, 0.83850002, 0.84563333, 0.8362667 , 0.8362667 ,\n",
              "        0.81833333, 0.83999997, 0.84466666, 0.80250001, 0.84643334,\n",
              "        0.84593332, 0.77336669, 0.83296669, 0.82459998, 0.84276664,\n",
              "        0.83160001, 0.83196664, 0.8451333 , 0.85336667, 0.84536666]),\n",
              " 'split1_test_score': array([0.81519997, 0.8484    , 0.84703332, 0.85246664, 0.84946668,\n",
              "        0.83819997, 0.84346664, 0.82983333, 0.82886666, 0.8179    ,\n",
              "        0.82810003, 0.85043335, 0.8466    , 0.84966666, 0.85566664,\n",
              "        0.83746666, 0.83406669, 0.83399999, 0.84579998, 0.83453333]),\n",
              " 'std_fit_time': array([0.0165782 , 0.06974971, 0.00688696, 0.01177347, 0.00132155,\n",
              "        0.01803839, 0.01673901, 0.0285809 , 0.03763771, 0.04100955,\n",
              "        0.00589359, 0.15264285, 0.01132405, 0.00278807, 0.02872074,\n",
              "        0.14206231, 0.02949178, 0.01432395, 0.01815319, 0.17353022]),\n",
              " 'std_score_time': array([0.01551163, 0.0079999 , 0.0100621 , 0.13431156, 0.00993669,\n",
              "        0.00068998, 0.02152693, 0.12283683, 0.02031338, 0.0097785 ,\n",
              "        0.01585102, 0.0240798 , 0.0114671 , 0.00652468, 0.00651455,\n",
              "        0.00578117, 0.01316428, 0.01160407, 0.00893652, 0.0073601 ]),\n",
              " 'std_test_score': array([0.00294998, 0.00494999, 0.0007    , 0.00809997, 0.00659999,\n",
              "        0.00993332, 0.00173333, 0.00741667, 0.01318333, 0.01426667,\n",
              "        0.00891665, 0.03853333, 0.00681666, 0.01253334, 0.00645   ,\n",
              "        0.00293332, 0.00105003, 0.00556666, 0.00378335, 0.00541666])}"
            ]
          },
          "metadata": {
            "tags": []
          },
          "execution_count": 59
        }
      ]
    },
    {
      "cell_type": "code",
      "metadata": {
        "id": "Sd7M6hyXjWaM"
      },
      "source": [
        "# get the best l2 penalty term from grid and save to best_max_norm_val\n",
        "\n",
        "# get the best trained model from grid and save to best_model\n",
        "\n",
        "# get the weights from the best trained model and save to best_weights\n",
        "\n",
        "best_max_norm_val = grid_result.best_params_[\"maxnorm_wc\"]\n",
        "\n",
        "# get the best trained model \n",
        "best_model = grid_result.best_estimator_.build_fn(maxnorm_wc=best_mn_penalty)\n",
        "\n",
        "# get the weights from the best trained model \n",
        "best_weights = best_model.get_weights()\n"
      ],
      "execution_count": 63,
      "outputs": []
    },
    {
      "cell_type": "code",
      "metadata": {
        "colab": {
          "base_uri": "https://localhost:8080/"
        },
        "id": "vO1CB5WHkXeB",
        "outputId": "edb7d954-c045-4a25-9269-e6be36a48229"
      },
      "source": [
        "best_weights"
      ],
      "execution_count": 62,
      "outputs": [
        {
          "output_type": "execute_result",
          "data": {
            "text/plain": [
              "[array([[ 0.06736662, -0.05934119, -0.01175101, ..., -0.05735703,\n",
              "         -0.03407228,  0.00449438],\n",
              "        [-0.06198236, -0.02770044, -0.01545165, ..., -0.009558  ,\n",
              "          0.03911075,  0.0005791 ],\n",
              "        [-0.0607663 , -0.06674761,  0.01843252, ..., -0.05016575,\n",
              "          0.0070648 , -0.05362019],\n",
              "        ...,\n",
              "        [ 0.03992288, -0.00056486,  0.0123442 , ...,  0.06803472,\n",
              "         -0.04356925,  0.03661713],\n",
              "        [ 0.04506697, -0.03051651,  0.02241655, ...,  0.03767131,\n",
              "          0.02097637, -0.03906257],\n",
              "        [-0.0574983 ,  0.03674671,  0.00254732, ...,  0.04555695,\n",
              "          0.06286936,  0.06728212]], dtype=float32),\n",
              " array([0., 0., 0., 0., 0., 0., 0., 0., 0., 0., 0., 0., 0., 0., 0., 0., 0.,\n",
              "        0., 0., 0., 0., 0., 0., 0., 0., 0., 0., 0., 0., 0., 0., 0., 0., 0.,\n",
              "        0., 0., 0., 0., 0., 0., 0., 0., 0., 0., 0., 0., 0., 0., 0., 0., 0.,\n",
              "        0., 0., 0., 0., 0., 0., 0., 0., 0., 0., 0., 0., 0., 0., 0., 0., 0.,\n",
              "        0., 0., 0., 0., 0., 0., 0., 0., 0., 0., 0., 0., 0., 0., 0., 0., 0.,\n",
              "        0., 0., 0., 0., 0., 0., 0., 0., 0., 0., 0., 0., 0., 0., 0., 0., 0.,\n",
              "        0., 0., 0., 0., 0., 0., 0., 0., 0., 0., 0., 0., 0., 0., 0., 0., 0.,\n",
              "        0., 0., 0., 0., 0., 0., 0., 0., 0., 0., 0., 0., 0., 0., 0., 0., 0.,\n",
              "        0., 0., 0., 0., 0., 0., 0., 0., 0., 0., 0., 0., 0., 0., 0., 0., 0.,\n",
              "        0., 0., 0., 0., 0., 0., 0., 0., 0., 0., 0., 0., 0., 0., 0., 0., 0.,\n",
              "        0., 0., 0., 0., 0., 0., 0., 0., 0., 0., 0., 0., 0., 0., 0., 0., 0.,\n",
              "        0., 0., 0., 0., 0., 0., 0., 0., 0., 0., 0., 0., 0., 0., 0., 0., 0.,\n",
              "        0., 0., 0., 0., 0., 0., 0., 0., 0., 0., 0., 0., 0., 0., 0., 0., 0.,\n",
              "        0., 0., 0., 0., 0., 0., 0., 0., 0., 0., 0., 0., 0., 0., 0., 0., 0.,\n",
              "        0., 0., 0., 0., 0., 0., 0., 0., 0., 0., 0., 0., 0., 0., 0., 0., 0.,\n",
              "        0., 0., 0., 0., 0., 0., 0., 0., 0., 0., 0., 0., 0., 0., 0., 0., 0.,\n",
              "        0., 0., 0., 0., 0., 0., 0., 0., 0., 0., 0., 0., 0., 0., 0., 0., 0.,\n",
              "        0., 0., 0., 0., 0., 0., 0., 0., 0., 0., 0., 0., 0., 0., 0., 0., 0.,\n",
              "        0., 0., 0., 0., 0., 0., 0., 0., 0., 0., 0., 0., 0., 0., 0., 0., 0.,\n",
              "        0., 0., 0., 0., 0., 0., 0., 0., 0., 0., 0., 0., 0., 0., 0., 0., 0.,\n",
              "        0., 0., 0., 0., 0., 0., 0., 0., 0., 0., 0., 0., 0., 0., 0., 0., 0.,\n",
              "        0., 0., 0., 0., 0., 0., 0., 0., 0., 0., 0., 0., 0., 0., 0., 0., 0.,\n",
              "        0., 0., 0., 0., 0., 0., 0., 0., 0., 0., 0., 0., 0., 0., 0., 0., 0.,\n",
              "        0., 0., 0., 0., 0., 0., 0., 0., 0., 0., 0., 0., 0., 0., 0., 0., 0.,\n",
              "        0., 0., 0., 0., 0., 0., 0., 0., 0., 0., 0., 0., 0., 0., 0., 0., 0.,\n",
              "        0., 0., 0., 0., 0., 0., 0., 0., 0., 0., 0., 0., 0., 0., 0., 0., 0.,\n",
              "        0., 0., 0., 0., 0., 0., 0., 0., 0., 0., 0., 0., 0., 0., 0., 0., 0.,\n",
              "        0., 0., 0., 0., 0., 0., 0., 0., 0., 0., 0., 0., 0., 0., 0., 0., 0.,\n",
              "        0., 0., 0., 0., 0., 0., 0., 0., 0., 0., 0., 0., 0., 0., 0., 0., 0.,\n",
              "        0., 0., 0., 0., 0., 0., 0.], dtype=float32),\n",
              " array([[ 0.01655103,  0.00900982,  0.06111421, ...,  0.03876569,\n",
              "          0.00339397, -0.07257827],\n",
              "        [-0.01732244,  0.06259113, -0.08459105, ..., -0.06336474,\n",
              "          0.07008315, -0.04387826],\n",
              "        [ 0.03913518, -0.00980841, -0.06367519, ...,  0.02877484,\n",
              "          0.02691918, -0.01157425],\n",
              "        ...,\n",
              "        [-0.08909125,  0.05945087,  0.02963477, ...,  0.04642447,\n",
              "          0.07749885,  0.00894422],\n",
              "        [-0.05080185,  0.02739926,  0.00173642, ..., -0.04471769,\n",
              "         -0.07501551, -0.04966946],\n",
              "        [ 0.08284537, -0.02328579, -0.04639457, ...,  0.04200087,\n",
              "          0.08790676,  0.02895303]], dtype=float32),\n",
              " array([0., 0., 0., 0., 0., 0., 0., 0., 0., 0., 0., 0., 0., 0., 0., 0., 0.,\n",
              "        0., 0., 0., 0., 0., 0., 0., 0., 0., 0., 0., 0., 0., 0., 0., 0., 0.,\n",
              "        0., 0., 0., 0., 0., 0., 0., 0., 0., 0., 0., 0., 0., 0., 0., 0., 0.,\n",
              "        0., 0., 0., 0., 0., 0., 0., 0., 0., 0., 0., 0., 0., 0., 0., 0., 0.,\n",
              "        0., 0., 0., 0., 0., 0., 0., 0., 0., 0., 0., 0., 0., 0., 0., 0., 0.,\n",
              "        0., 0., 0., 0., 0., 0., 0., 0., 0., 0., 0., 0., 0., 0., 0., 0., 0.,\n",
              "        0., 0., 0., 0., 0., 0., 0., 0., 0., 0., 0., 0., 0., 0., 0., 0., 0.,\n",
              "        0., 0., 0., 0., 0., 0., 0., 0., 0., 0., 0., 0., 0., 0., 0., 0., 0.,\n",
              "        0., 0., 0., 0., 0., 0., 0., 0., 0., 0., 0., 0., 0., 0., 0., 0., 0.,\n",
              "        0., 0., 0., 0., 0., 0., 0., 0., 0., 0., 0., 0., 0., 0., 0., 0., 0.,\n",
              "        0., 0., 0., 0., 0., 0., 0., 0., 0., 0., 0., 0., 0., 0., 0., 0., 0.,\n",
              "        0., 0., 0., 0., 0., 0., 0., 0., 0., 0., 0., 0., 0., 0., 0., 0., 0.,\n",
              "        0., 0., 0., 0., 0., 0., 0., 0., 0., 0., 0., 0., 0., 0., 0., 0., 0.,\n",
              "        0., 0., 0., 0., 0., 0., 0., 0., 0., 0., 0., 0., 0., 0., 0., 0., 0.,\n",
              "        0., 0., 0., 0., 0., 0., 0., 0., 0., 0., 0., 0.], dtype=float32),\n",
              " array([[-0.12272783, -0.00880197, -0.02922116, ...,  0.08938403,\n",
              "         -0.09369057, -0.05901121],\n",
              "        [-0.12893932,  0.13029899,  0.10930136, ...,  0.0480997 ,\n",
              "         -0.09202503, -0.10895573],\n",
              "        [ 0.01575956,  0.05670491, -0.09096386, ..., -0.0760295 ,\n",
              "         -0.08519992,  0.10396904],\n",
              "        ...,\n",
              "        [-0.01156246, -0.01389791,  0.07045093, ..., -0.05036931,\n",
              "         -0.13032979,  0.11357243],\n",
              "        [-0.08394602, -0.02110904,  0.11248682, ...,  0.11418778,\n",
              "          0.02091943,  0.10975362],\n",
              "        [-0.04990076, -0.03352445, -0.11595654, ..., -0.09597541,\n",
              "          0.05610225, -0.04721465]], dtype=float32),\n",
              " array([0., 0., 0., 0., 0., 0., 0., 0., 0., 0., 0., 0., 0., 0., 0., 0., 0.,\n",
              "        0., 0., 0., 0., 0., 0., 0., 0., 0., 0., 0., 0., 0., 0., 0., 0., 0.,\n",
              "        0., 0., 0., 0., 0., 0., 0., 0., 0., 0., 0., 0., 0., 0., 0., 0., 0.,\n",
              "        0., 0., 0., 0., 0., 0., 0., 0., 0., 0., 0., 0., 0., 0., 0., 0., 0.,\n",
              "        0., 0., 0., 0., 0., 0., 0., 0., 0., 0., 0., 0., 0., 0., 0., 0., 0.,\n",
              "        0., 0., 0., 0., 0., 0., 0., 0., 0., 0., 0., 0., 0., 0., 0.],\n",
              "       dtype=float32),\n",
              " array([[-0.00525008, -0.15295343,  0.1476731 ,  0.02204943, -0.1356577 ,\n",
              "          0.2024078 ,  0.03491458, -0.00915383,  0.0554859 ,  0.03358284],\n",
              "        [-0.18156287, -0.00788154,  0.1830163 ,  0.17625666, -0.19507219,\n",
              "         -0.07594587,  0.14649665, -0.12047684, -0.05203047, -0.00086598],\n",
              "        [ 0.00490113,  0.09961036, -0.01251666, -0.20502523, -0.11257688,\n",
              "         -0.17354852, -0.14154702,  0.00647181, -0.07663922,  0.18485776],\n",
              "        [ 0.09462002, -0.2270512 ,  0.10770509,  0.00746442, -0.08450668,\n",
              "          0.13323641,  0.07180107,  0.21231124, -0.0730869 , -0.19260824],\n",
              "        [ 0.2313078 , -0.07567936, -0.13239068,  0.14778095, -0.13190636,\n",
              "         -0.02531631,  0.06147242, -0.02463932, -0.20565538,  0.15069416],\n",
              "        [-0.05202262,  0.14684772, -0.021698  , -0.07777309, -0.16484222,\n",
              "         -0.19079939,  0.20793062,  0.11551195, -0.22768001,  0.14438164],\n",
              "        [ 0.17095134, -0.07207209, -0.08093336,  0.05326974,  0.18609291,\n",
              "         -0.09133035,  0.03510353, -0.14587829, -0.02221853, -0.17590791],\n",
              "        [ 0.18442523, -0.02489279,  0.0823153 ,  0.05800727, -0.1947883 ,\n",
              "         -0.11788677, -0.06868012,  0.1576212 , -0.16155232,  0.08033043],\n",
              "        [ 0.07489887,  0.10139939,  0.14481136,  0.15157959, -0.00767094,\n",
              "         -0.09846295, -0.00851871,  0.07632396,  0.14097217,  0.09999511],\n",
              "        [-0.20498875, -0.10548587, -0.00116745,  0.11346239, -0.13208422,\n",
              "         -0.12224209,  0.19078478,  0.2122761 ,  0.21907204, -0.01319382],\n",
              "        [ 0.14789355, -0.00215903, -0.16373363,  0.18873078, -0.19873364,\n",
              "         -0.16660702,  0.20315227,  0.01847956, -0.04215473,  0.19183359],\n",
              "        [ 0.0744006 , -0.03239073,  0.19504318,  0.10206556,  0.13092044,\n",
              "         -0.13954413,  0.23293167, -0.08399929,  0.10828626,  0.02885532],\n",
              "        [ 0.12852219, -0.1251005 ,  0.04442737, -0.13883305, -0.15416875,\n",
              "          0.09926945, -0.02544415, -0.09265031,  0.14717153, -0.2271286 ],\n",
              "        [ 0.22394177,  0.07781804, -0.20724133,  0.22989345, -0.00203732,\n",
              "         -0.03782858, -0.11906189, -0.02175185, -0.04907741, -0.09736389],\n",
              "        [ 0.11403248,  0.14639485, -0.0679249 ,  0.04912424, -0.09467137,\n",
              "          0.07376811, -0.11146963,  0.07059911, -0.11472478, -0.14142275],\n",
              "        [-0.04137005,  0.1806666 ,  0.06842121, -0.10678655,  0.03848907,\n",
              "          0.22616294,  0.08538601, -0.05157109,  0.19170791, -0.14549023],\n",
              "        [-0.12413363,  0.18597004,  0.20007622, -0.01990007, -0.08751275,\n",
              "         -0.0470559 , -0.12127978,  0.12383801, -0.13133657, -0.07676569],\n",
              "        [ 0.09347364, -0.07786563, -0.09863496, -0.04212649,  0.04761344,\n",
              "          0.04037789, -0.2173671 ,  0.17054746, -0.09808147,  0.18064281],\n",
              "        [-0.1676758 , -0.0696426 , -0.05694792, -0.04452959, -0.08744599,\n",
              "          0.00860412,  0.09119377, -0.04259562, -0.07462157,  0.16868287],\n",
              "        [ 0.02343172, -0.02869335, -0.03421851,  0.08374545, -0.19281837,\n",
              "         -0.10413077, -0.03994378, -0.01146388,  0.19227642, -0.14193612],\n",
              "        [ 0.14992002,  0.18341938, -0.09511288,  0.02240327,  0.05526814,\n",
              "          0.13559929,  0.01504733,  0.05897567,  0.15528953,  0.21916598],\n",
              "        [ 0.1141881 , -0.08617225,  0.14235738, -0.1024157 , -0.13895099,\n",
              "          0.0042537 , -0.229713  , -0.08935151,  0.12655166, -0.22037068],\n",
              "        [ 0.00500074, -0.14356512,  0.00274487,  0.22444063, -0.02737434,\n",
              "         -0.09475784,  0.08762121, -0.15037233, -0.14214505,  0.07511565],\n",
              "        [ 0.16430026, -0.09703119,  0.1158419 , -0.21119547,  0.04174501,\n",
              "         -0.09992763, -0.00445795, -0.03129433, -0.13282067, -0.16193241],\n",
              "        [-0.20010778,  0.0357866 ,  0.14559576,  0.05754763,  0.14909813,\n",
              "          0.01384854,  0.01551573, -0.22907548, -0.10514726, -0.12474352],\n",
              "        [-0.16222063, -0.23248364,  0.18594849,  0.20203745, -0.00639749,\n",
              "         -0.04996148, -0.22276403,  0.02883396, -0.05995305,  0.13558781],\n",
              "        [ 0.07155484, -0.00682235, -0.215256  , -0.09342764, -0.21252388,\n",
              "          0.22907385,  0.01068053,  0.15223908, -0.09473445, -0.11287801],\n",
              "        [-0.00519401, -0.03881282,  0.16236168, -0.13292691, -0.12078388,\n",
              "          0.06659564,  0.13744494, -0.02024569,  0.2056242 ,  0.12939167],\n",
              "        [ 0.21512994,  0.04714015, -0.12211731, -0.17250904, -0.08637276,\n",
              "         -0.04148659,  0.19786334,  0.0615935 , -0.22253913,  0.02032331],\n",
              "        [ 0.13354394, -0.10110499,  0.01993898,  0.05684403,  0.16983867,\n",
              "          0.11887553, -0.08842434, -0.03516862,  0.1308735 ,  0.01154712],\n",
              "        [-0.22255689,  0.16892385,  0.11230269,  0.21359777, -0.08120264,\n",
              "          0.14456591, -0.16303015, -0.04068688,  0.10064059, -0.09751964],\n",
              "        [-0.06660132, -0.14166096, -0.14903884,  0.02590689,  0.09387705,\n",
              "         -0.02240679, -0.22382194, -0.06891416, -0.06661876,  0.03870022],\n",
              "        [ 0.13385102,  0.15838581, -0.22764884,  0.21048924, -0.1337029 ,\n",
              "          0.19815281,  0.07555458,  0.0523167 , -0.18233001, -0.04707634],\n",
              "        [ 0.2304034 , -0.10249326,  0.0964224 , -0.06237791, -0.005356  ,\n",
              "          0.13801736, -0.21734805, -0.20251411,  0.0200386 ,  0.009011  ],\n",
              "        [ 0.16185924,  0.03236488, -0.19413455, -0.17748334, -0.14932093,\n",
              "         -0.18296473,  0.01550993,  0.106594  , -0.00790492,  0.22681487],\n",
              "        [-0.1397978 , -0.21796519, -0.13721581,  0.08013052, -0.23179351,\n",
              "          0.12431404,  0.14458093, -0.1130504 ,  0.0239217 , -0.12386607],\n",
              "        [ 0.08107302,  0.02541402,  0.06785721,  0.02976295,  0.1458475 ,\n",
              "         -0.16412804,  0.06076851,  0.20678657,  0.05680358, -0.07036442],\n",
              "        [ 0.03367984,  0.08971551,  0.08831492,  0.13808545,  0.01854312,\n",
              "         -0.02339882,  0.10789454, -0.13441992,  0.08063886,  0.12891647],\n",
              "        [ 0.22327468,  0.05569261, -0.19645311, -0.14651118,  0.16557094,\n",
              "         -0.05167739,  0.17682049, -0.1335848 ,  0.09445977,  0.00147331],\n",
              "        [ 0.00814074,  0.13068146, -0.20640554,  0.01663724,  0.08171034,\n",
              "          0.07229939,  0.14028242, -0.0529082 ,  0.02795467,  0.16385925],\n",
              "        [-0.03526127, -0.02572708,  0.01048809, -0.14628187,  0.15218523,\n",
              "          0.09870005, -0.02837501,  0.19964656,  0.14460328,  0.01255369],\n",
              "        [ 0.01528493,  0.11752945,  0.14373285, -0.18967025,  0.1897496 ,\n",
              "          0.20472142,  0.14214161, -0.08220743,  0.15699872, -0.17606878],\n",
              "        [-0.22941558, -0.13471983,  0.01372108,  0.20452836, -0.11868765,\n",
              "          0.17203954, -0.17942181,  0.02716753,  0.12013969,  0.05282193],\n",
              "        [ 0.13247159, -0.20614395, -0.18318228,  0.08310336, -0.11276458,\n",
              "          0.17904902,  0.18851027,  0.03640738, -0.11450071, -0.03805403],\n",
              "        [ 0.01556195,  0.06025425,  0.07184947,  0.11666292, -0.22141239,\n",
              "         -0.03320119,  0.12821344,  0.20733678,  0.05018544,  0.10486084],\n",
              "        [ 0.20706132,  0.16165802,  0.07363003, -0.03763591,  0.05119935,\n",
              "          0.04071477, -0.03278619,  0.17272437,  0.08613104, -0.15653482],\n",
              "        [ 0.08160138, -0.19022028,  0.12116435, -0.06778391, -0.1627788 ,\n",
              "          0.10578066,  0.04478154,  0.22268534, -0.22827694, -0.00275178],\n",
              "        [ 0.12011322,  0.21226501,  0.1467591 ,  0.08942479, -0.18654463,\n",
              "         -0.03041789,  0.04669681, -0.12737274,  0.12567118,  0.15913454],\n",
              "        [-0.13334057, -0.1861961 ,  0.11942884, -0.17905186,  0.19746143,\n",
              "         -0.22933725,  0.10684058, -0.1470102 ,  0.19706076, -0.22974461],\n",
              "        [ 0.11203018,  0.16860604, -0.05974241,  0.0407919 ,  0.2019952 ,\n",
              "          0.06680936, -0.03073205, -0.00698438, -0.00655673,  0.03571931],\n",
              "        [ 0.15557703,  0.19838798, -0.11663703, -0.19669577, -0.23053747,\n",
              "         -0.03649648,  0.14545417, -0.15490678, -0.19665919, -0.22808304],\n",
              "        [-0.00801969, -0.0170974 ,  0.21601123, -0.00849816,  0.20645443,\n",
              "          0.14036855, -0.08425415, -0.04346745,  0.03856382, -0.21212831],\n",
              "        [-0.23158236, -0.02516223, -0.01967216,  0.14258778, -0.10922033,\n",
              "          0.15896654, -0.12977356,  0.2306518 ,  0.09459475, -0.03159608],\n",
              "        [ 0.07329059, -0.11735344, -0.08438367,  0.01028001, -0.16813974,\n",
              "         -0.08501634,  0.13346887, -0.11022885,  0.21596608, -0.03984044],\n",
              "        [-0.17784578,  0.06953156,  0.01893809,  0.15832904,  0.06506044,\n",
              "          0.03857312,  0.15916559, -0.0844482 , -0.01967533, -0.22755902],\n",
              "        [ 0.04000276,  0.05179539,  0.10449523, -0.08829303,  0.21022731,\n",
              "         -0.09243576, -0.10558638,  0.00565919,  0.2330108 , -0.05621646],\n",
              "        [-0.15488434,  0.22287038, -0.11627342, -0.19845785, -0.10047922,\n",
              "         -0.05829187, -0.14263539, -0.06088011, -0.10790077, -0.19406694],\n",
              "        [-0.19032948, -0.0232922 , -0.0248287 , -0.17242117,  0.10083175,\n",
              "         -0.21328813, -0.03792535,  0.09764075, -0.06925082,  0.22227848],\n",
              "        [-0.06265599,  0.03728962, -0.19330594, -0.0142822 ,  0.20103356,\n",
              "         -0.21331576,  0.19902453,  0.21182355, -0.00948921, -0.0730546 ],\n",
              "        [-0.11158066,  0.11243412,  0.20494834,  0.2085247 , -0.19199054,\n",
              "          0.2098724 ,  0.22047558, -0.15126179, -0.050991  , -0.13056453],\n",
              "        [ 0.22867835, -0.2311134 , -0.05122943, -0.22383323,  0.05698127,\n",
              "          0.19902861, -0.1328395 ,  0.02954224, -0.16155232, -0.04320829],\n",
              "        [-0.19712788,  0.21945137,  0.07697311, -0.14289176,  0.20847437,\n",
              "          0.13798273,  0.15145105,  0.06778118, -0.17980118,  0.21493623],\n",
              "        [-0.18592788, -0.17168416,  0.22567767, -0.07983719,  0.12843022,\n",
              "         -0.07724616, -0.12315   ,  0.21859929, -0.21848075, -0.00870754],\n",
              "        [ 0.18036675, -0.07986669,  0.0585219 , -0.00126344,  0.20088679,\n",
              "         -0.1490159 ,  0.11375511, -0.00413533, -0.19553787,  0.14977702],\n",
              "        [ 0.10449472, -0.03881282, -0.15789086,  0.07560086,  0.22707257,\n",
              "          0.21531764, -0.13100052, -0.00811602, -0.00545444,  0.03749594],\n",
              "        [ 0.07648844,  0.23018807,  0.17568123,  0.14533612, -0.16103192,\n",
              "          0.03999951,  0.03026488,  0.07295561,  0.11996034, -0.19761232],\n",
              "        [-0.06380451,  0.06255269,  0.08403197, -0.01249066,  0.18680671,\n",
              "         -0.12149712, -0.08263268,  0.20491365,  0.20611715, -0.19853964],\n",
              "        [-0.16309495,  0.2039608 , -0.2038252 , -0.01189987,  0.1882591 ,\n",
              "          0.15276718,  0.03322557, -0.01643923,  0.18998507,  0.2224493 ],\n",
              "        [ 0.03686467, -0.00814018,  0.22994062, -0.13827217, -0.15846851,\n",
              "          0.16278815, -0.06719986,  0.12679073,  0.06053871,  0.04248196],\n",
              "        [ 0.15944079, -0.15411925,  0.22795135,  0.21460557,  0.06641474,\n",
              "          0.13200125, -0.18568064, -0.06523316, -0.0769442 ,  0.14962417],\n",
              "        [ 0.04747921,  0.1307809 ,  0.18050435, -0.19117501,  0.02872509,\n",
              "          0.00307229, -0.05040404,  0.06077954, -0.03405775,  0.06363377],\n",
              "        [ 0.20658305,  0.15613842,  0.02183542,  0.22221693,  0.09529194,\n",
              "          0.16723144, -0.08500308, -0.00934026, -0.09338777, -0.21488605],\n",
              "        [ 0.09703591,  0.1749847 ,  0.18415645,  0.1399099 , -0.0101638 ,\n",
              "          0.02987862, -0.17223208, -0.06406793,  0.11343306,  0.14691967],\n",
              "        [-0.06040101,  0.02561355,  0.1748451 , -0.11639876,  0.11192444,\n",
              "         -0.18516508,  0.19912314,  0.23043603, -0.03464264,  0.21882275],\n",
              "        [ 0.20017132, -0.06113519, -0.13422388,  0.19389689,  0.12495017,\n",
              "          0.12177131, -0.17872116, -0.20208992, -0.04868723,  0.04641411],\n",
              "        [ 0.11291954,  0.05242071,  0.03362316, -0.12213875,  0.22354603,\n",
              "         -0.20122132, -0.01384163,  0.07684836, -0.10312805,  0.03796139],\n",
              "        [-0.06317763, -0.06378323,  0.09414482, -0.10276593,  0.22629786,\n",
              "          0.18531185, -0.13768037,  0.00871021,  0.11657032, -0.07065217],\n",
              "        [ 0.17367643, -0.15247445,  0.04649502,  0.02153045,  0.09522212,\n",
              "         -0.05062471, -0.2328189 ,  0.07153174, -0.02681395, -0.15564919],\n",
              "        [-0.09623125, -0.15805602, -0.0950034 ,  0.11545584, -0.14859292,\n",
              "         -0.04444902,  0.08296832,  0.20873168, -0.0705303 , -0.0473126 ],\n",
              "        [-0.15201691, -0.20480478, -0.17960757,  0.09675691,  0.2317479 ,\n",
              "          0.20862743, -0.16288537,  0.05830351, -0.15603018,  0.12586814],\n",
              "        [ 0.14172086, -0.01448242,  0.07557312, -0.21670637,  0.18760839,\n",
              "          0.22191536,  0.02993518, -0.01686108,  0.00681309,  0.21881703],\n",
              "        [-0.13834098, -0.23093918,  0.09359819,  0.19334525,  0.09544235,\n",
              "          0.05112675,  0.11988494,  0.11427408, -0.12020428,  0.14673308],\n",
              "        [-0.15937698,  0.2293683 ,  0.18334621, -0.05409703, -0.04013422,\n",
              "          0.1936276 , -0.18122075,  0.06304505,  0.10555312, -0.12431777],\n",
              "        [ 0.07598996, -0.11100975, -0.2091282 , -0.0378911 , -0.07911605,\n",
              "          0.03803626,  0.066091  , -0.1596922 ,  0.12653974, -0.05646637],\n",
              "        [-0.05205809, -0.01424655, -0.17743143, -0.11606801, -0.21534388,\n",
              "         -0.18772732, -0.02416502, -0.1498999 , -0.16384684, -0.05790415],\n",
              "        [ 0.18669742,  0.10634348,  0.13531184,  0.12021986,  0.05060184,\n",
              "         -0.16814664,  0.04628459,  0.09730899, -0.20252992, -0.00990237],\n",
              "        [-0.0588526 , -0.07007876,  0.00194088, -0.12095454, -0.09296364,\n",
              "          0.1706546 , -0.00364292,  0.07473093,  0.18019551,  0.09381953],\n",
              "        [ 0.10948804,  0.13287279, -0.05886312,  0.23107263, -0.08257109,\n",
              "         -0.03041661,  0.03468734,  0.13806975, -0.12843238,  0.12611815],\n",
              "        [-0.06249468,  0.03196332,  0.1375044 , -0.07353804,  0.20108667,\n",
              "         -0.04146928,  0.23251599,  0.05293787, -0.11249229, -0.13881975],\n",
              "        [ 0.01903883,  0.07430029,  0.13031948,  0.0779652 , -0.17294225,\n",
              "         -0.04193974, -0.17710671, -0.12007532, -0.17210078,  0.15216786],\n",
              "        [ 0.06565794,  0.19433099,  0.18627232,  0.15831956,  0.13217959,\n",
              "         -0.08702342, -0.07510562,  0.22937861, -0.15847759,  0.16862267],\n",
              "        [-0.03772701,  0.10435572, -0.20070699,  0.19854328,  0.02276108,\n",
              "         -0.16296934,  0.12158012, -0.07496324,  0.08853826,  0.12777427],\n",
              "        [-0.01277949, -0.07701135,  0.10087118,  0.21678299,  0.21999976,\n",
              "         -0.0943165 , -0.0140211 ,  0.21866924,  0.224123  ,  0.12003595],\n",
              "        [-0.17885229, -0.03604801,  0.11861765,  0.08169213, -0.03738663,\n",
              "          0.09877923,  0.05875397, -0.09385689,  0.02543274,  0.0202007 ],\n",
              "        [ 0.1016151 , -0.03170143, -0.12415268, -0.10045907, -0.2170413 ,\n",
              "         -0.06418744,  0.09556669,  0.08306509, -0.1611072 ,  0.10821471],\n",
              "        [ 0.09276623, -0.0262872 , -0.1158675 , -0.23287804, -0.09004447,\n",
              "         -0.17292377, -0.22611   ,  0.2256976 ,  0.23263559,  0.0056681 ],\n",
              "        [-0.18678606,  0.13267824,  0.01155125, -0.21983947,  0.22863653,\n",
              "          0.1808396 ,  0.15001974,  0.15165141,  0.07801354, -0.19248846],\n",
              "        [ 0.06881449, -0.09656195,  0.09997562,  0.07850164, -0.15489686,\n",
              "          0.16365829,  0.19545868, -0.00967702,  0.17826095, -0.2138572 ],\n",
              "        [-0.14657027, -0.08345705,  0.02607074, -0.21624514,  0.18676162,\n",
              "         -0.0256836 ,  0.1936745 , -0.10810539,  0.03001553, -0.0309535 ],\n",
              "        [ 0.21441838,  0.07705405, -0.1610944 , -0.0719106 , -0.19991373,\n",
              "         -0.13275112, -0.13080072,  0.06512675,  0.2259602 , -0.11460367]],\n",
              "       dtype=float32),\n",
              " array([0., 0., 0., 0., 0., 0., 0., 0., 0., 0.], dtype=float32)]"
            ]
          },
          "metadata": {
            "tags": []
          },
          "execution_count": 62
        }
      ]
    },
    {
      "cell_type": "code",
      "metadata": {
        "colab": {
          "base_uri": "https://localhost:8080/"
        },
        "id": "SSpWmWlUPe9j",
        "outputId": "e38ee237-2a25-437e-ee88-d08279ceead8"
      },
      "source": [
        "best_max_norm_val"
      ],
      "execution_count": 64,
      "outputs": [
        {
          "output_type": "execute_result",
          "data": {
            "text/plain": [
              "9.5"
            ]
          },
          "metadata": {
            "tags": []
          },
          "execution_count": 64
        }
      ]
    },
    {
      "cell_type": "code",
      "metadata": {
        "colab": {
          "base_uri": "https://localhost:8080/"
        },
        "id": "3KFRzD_aPe9j",
        "outputId": "9db2142e-29fc-45dd-947a-bff79f9b069e"
      },
      "source": [
        "# we see that the norm of our weights are indeed below the maximum allowed value \n",
        "np.linalg.norm(best_weights[0][0])"
      ],
      "execution_count": 65,
      "outputs": [
        {
          "output_type": "execute_result",
          "data": {
            "text/plain": [
              "0.91237545"
            ]
          },
          "metadata": {
            "tags": []
          },
          "execution_count": 65
        }
      ]
    },
    {
      "cell_type": "code",
      "metadata": {
        "colab": {
          "base_uri": "https://localhost:8080/"
        },
        "id": "j8y0p_oUlP_-",
        "outputId": "11dc7994-fa63-4d5b-f91b-f36757364ae7"
      },
      "source": [
        "dir(grid_result)"
      ],
      "execution_count": 67,
      "outputs": [
        {
          "output_type": "execute_result",
          "data": {
            "text/plain": [
              "['__abstractmethods__',\n",
              " '__class__',\n",
              " '__delattr__',\n",
              " '__dict__',\n",
              " '__dir__',\n",
              " '__doc__',\n",
              " '__eq__',\n",
              " '__format__',\n",
              " '__ge__',\n",
              " '__getattribute__',\n",
              " '__getstate__',\n",
              " '__gt__',\n",
              " '__hash__',\n",
              " '__init__',\n",
              " '__init_subclass__',\n",
              " '__le__',\n",
              " '__lt__',\n",
              " '__module__',\n",
              " '__ne__',\n",
              " '__new__',\n",
              " '__reduce__',\n",
              " '__reduce_ex__',\n",
              " '__repr__',\n",
              " '__setattr__',\n",
              " '__setstate__',\n",
              " '__sizeof__',\n",
              " '__str__',\n",
              " '__subclasshook__',\n",
              " '__weakref__',\n",
              " '_abc_impl',\n",
              " '_check_is_fitted',\n",
              " '_estimator_type',\n",
              " '_format_results',\n",
              " '_get_param_names',\n",
              " '_get_tags',\n",
              " '_required_parameters',\n",
              " '_run_search',\n",
              " 'best_estimator_',\n",
              " 'best_index_',\n",
              " 'best_params_',\n",
              " 'best_score_',\n",
              " 'classes_',\n",
              " 'cv',\n",
              " 'cv_results_',\n",
              " 'decision_function',\n",
              " 'error_score',\n",
              " 'estimator',\n",
              " 'fit',\n",
              " 'get_params',\n",
              " 'iid',\n",
              " 'inverse_transform',\n",
              " 'multimetric_',\n",
              " 'n_jobs',\n",
              " 'n_splits_',\n",
              " 'param_grid',\n",
              " 'pre_dispatch',\n",
              " 'predict',\n",
              " 'predict_log_proba',\n",
              " 'predict_proba',\n",
              " 'refit',\n",
              " 'refit_time_',\n",
              " 'return_train_score',\n",
              " 'score',\n",
              " 'scorer_',\n",
              " 'scoring',\n",
              " 'set_params',\n",
              " 'transform',\n",
              " 'verbose']"
            ]
          },
          "metadata": {
            "tags": []
          },
          "execution_count": 67
        }
      ]
    },
    {
      "cell_type": "code",
      "metadata": {
        "colab": {
          "base_uri": "https://localhost:8080/"
        },
        "id": "OIk96axwliii",
        "outputId": "f545a599-8c2a-42f9-e48a-79f192267673"
      },
      "source": [
        "grid_result.score"
      ],
      "execution_count": 68,
      "outputs": [
        {
          "output_type": "execute_result",
          "data": {
            "text/plain": [
              "<bound method BaseSearchCV.score of GridSearchCV(cv=2, error_score='raise-deprecating',\n",
              "             estimator=<tensorflow.python.keras.wrappers.scikit_learn.KerasClassifier object at 0x7fc75670aad0>,\n",
              "             iid='warn', n_jobs=-2,\n",
              "             param_grid={'epochs': [1],\n",
              "                         'maxnorm_wc': array([ 0.5,  1. ,  1.5,  2. ,  2.5,  3. ,  3.5,  4. ,  4.5,  5. ,  5.5,\n",
              "        6. ,  6.5,  7. ,  7.5,  8. ,  8.5,  9. ,  9.5, 10. ])},\n",
              "             pre_dispatch='2*n_jobs', refit=True, return_train_score=False,\n",
              "             scoring=None, verbose=1)>"
            ]
          },
          "metadata": {
            "tags": []
          },
          "execution_count": 68
        }
      ]
    },
    {
      "cell_type": "code",
      "metadata": {
        "deletable": false,
        "nbgrader": {
          "cell_type": "code",
          "checksum": "67f65bd636e3b3b3bc7d20c02ba6b666",
          "grade": false,
          "grade_id": "cell-e752c1a8c853985d",
          "locked": false,
          "schema_version": 3,
          "solution": true,
          "task": false
        },
        "colab": {
          "base_uri": "https://localhost:8080/"
        },
        "id": "Mwd6mwX_Pe9j",
        "outputId": "df9b32c8-a501-4f94-af25-d9a2ddd4caef"
      },
      "source": [
        "# train a model using the max_norm_val value that scored the lowest \n",
        "max_norm_val = 0.5\n",
        "\n",
        "# build a model using build_complex_model and worse_max_norm_val and save it to worse_model\n",
        "worse_model = build_complex_model(maxnorm_wc=max_norm_val)\n",
        "\n",
        "# fit model \n",
        "worse_model.fit(X_train, y_train, epochs=1)\n",
        "\n",
        "# get weights from worse performing model \n",
        "worse_weights = worse_model.get_weights()"
      ],
      "execution_count": 69,
      "outputs": [
        {
          "output_type": "stream",
          "text": [
            "1875/1875 [==============================] - 5s 2ms/step - loss: 0.7070 - accuracy: 0.7419\n"
          ],
          "name": "stdout"
        }
      ]
    },
    {
      "cell_type": "code",
      "metadata": {
        "colab": {
          "base_uri": "https://localhost:8080/"
        },
        "id": "boijh-q2nFfd",
        "outputId": "a1aefe33-ca9a-4654-8f74-b4f7a9844ac7"
      },
      "source": [
        "best_hidden_weights = best_weights[0][0]\n",
        "best_hidden_weights.shape"
      ],
      "execution_count": 72,
      "outputs": [
        {
          "output_type": "execute_result",
          "data": {
            "text/plain": [
              "(500,)"
            ]
          },
          "metadata": {
            "tags": []
          },
          "execution_count": 72
        }
      ]
    },
    {
      "cell_type": "code",
      "metadata": {
        "id": "VQkV-qKAnSMU"
      },
      "source": [
        "worse_hidden_weights = worse_weights[0][0]\n",
        "# best_hidden_weights.shape\n",
        "initializer = tf.keras.initializers.GlorotUniform(seed=1234)\n",
        "initial_weight_values = initializer(shape=(1,500))[0].numpy()"
      ],
      "execution_count": 73,
      "outputs": []
    },
    {
      "cell_type": "code",
      "metadata": {
        "id": "xvlnJ4aNPe9k"
      },
      "source": [
        "# move all weights to a dataframe for ease of analysis \n",
        "cols = [\"best_hidden_weights\", \"worse_hidden_weights\", \"initial_weight_values\"]\n",
        "data = [best_hidden_weights, worse_hidden_weights, initial_weight_values]\n",
        "df_maxnorm= pd.DataFrame(data=data).T\n",
        "df_maxnorm.columns = cols"
      ],
      "execution_count": 75,
      "outputs": []
    },
    {
      "cell_type": "code",
      "metadata": {
        "colab": {
          "base_uri": "https://localhost:8080/",
          "height": 297
        },
        "id": "P7ZQEfziPe9k",
        "outputId": "45daee4c-dde1-4aa9-ecdd-1dd68dab0db5"
      },
      "source": [
        "df_maxnorm.describe()"
      ],
      "execution_count": 76,
      "outputs": [
        {
          "output_type": "execute_result",
          "data": {
            "text/html": [
              "<div>\n",
              "<style scoped>\n",
              "    .dataframe tbody tr th:only-of-type {\n",
              "        vertical-align: middle;\n",
              "    }\n",
              "\n",
              "    .dataframe tbody tr th {\n",
              "        vertical-align: top;\n",
              "    }\n",
              "\n",
              "    .dataframe thead th {\n",
              "        text-align: right;\n",
              "    }\n",
              "</style>\n",
              "<table border=\"1\" class=\"dataframe\">\n",
              "  <thead>\n",
              "    <tr style=\"text-align: right;\">\n",
              "      <th></th>\n",
              "      <th>best_hidden_weights</th>\n",
              "      <th>worse_hidden_weights</th>\n",
              "      <th>initial_weight_values</th>\n",
              "    </tr>\n",
              "  </thead>\n",
              "  <tbody>\n",
              "    <tr>\n",
              "      <th>count</th>\n",
              "      <td>500.000000</td>\n",
              "      <td>500.000000</td>\n",
              "      <td>500.000000</td>\n",
              "    </tr>\n",
              "    <tr>\n",
              "      <th>mean</th>\n",
              "      <td>-0.000387</td>\n",
              "      <td>-0.000722</td>\n",
              "      <td>0.002079</td>\n",
              "    </tr>\n",
              "    <tr>\n",
              "      <th>std</th>\n",
              "      <td>0.040842</td>\n",
              "      <td>0.013650</td>\n",
              "      <td>0.061731</td>\n",
              "    </tr>\n",
              "    <tr>\n",
              "      <th>min</th>\n",
              "      <td>-0.068224</td>\n",
              "      <td>-0.033430</td>\n",
              "      <td>-0.109263</td>\n",
              "    </tr>\n",
              "    <tr>\n",
              "      <th>25%</th>\n",
              "      <td>-0.035671</td>\n",
              "      <td>-0.007154</td>\n",
              "      <td>-0.047005</td>\n",
              "    </tr>\n",
              "    <tr>\n",
              "      <th>50%</th>\n",
              "      <td>-0.004045</td>\n",
              "      <td>-0.000134</td>\n",
              "      <td>0.001182</td>\n",
              "    </tr>\n",
              "    <tr>\n",
              "      <th>75%</th>\n",
              "      <td>0.038735</td>\n",
              "      <td>0.006355</td>\n",
              "      <td>0.055509</td>\n",
              "    </tr>\n",
              "    <tr>\n",
              "      <th>max</th>\n",
              "      <td>0.068172</td>\n",
              "      <td>0.043057</td>\n",
              "      <td>0.109095</td>\n",
              "    </tr>\n",
              "  </tbody>\n",
              "</table>\n",
              "</div>"
            ],
            "text/plain": [
              "       best_hidden_weights  worse_hidden_weights  initial_weight_values\n",
              "count           500.000000            500.000000             500.000000\n",
              "mean             -0.000387             -0.000722               0.002079\n",
              "std               0.040842              0.013650               0.061731\n",
              "min              -0.068224             -0.033430              -0.109263\n",
              "25%              -0.035671             -0.007154              -0.047005\n",
              "50%              -0.004045             -0.000134               0.001182\n",
              "75%               0.038735              0.006355               0.055509\n",
              "max               0.068172              0.043057               0.109095"
            ]
          },
          "metadata": {
            "tags": []
          },
          "execution_count": 76
        }
      ]
    },
    {
      "cell_type": "code",
      "metadata": {
        "colab": {
          "base_uri": "https://localhost:8080/",
          "height": 716
        },
        "id": "wD1QXGu8Pe9k",
        "outputId": "dbcad7e6-f6f3-463f-c6aa-dc1b8949dbb0"
      },
      "source": [
        "# plot the distributions for each weight column \n",
        "df_maxnorm.hist(figsize=(20,12));"
      ],
      "execution_count": 77,
      "outputs": [
        {
          "output_type": "display_data",
          "data": {
            "image/png": "[encoded data removed]",
            "text/plain": [
              "<Figure size 1440x864 with 4 Axes>"
            ]
          },
          "metadata": {
            "tags": [],
            "needs_background": "light"
          }
        }
      ]
    },
    {
      "cell_type": "markdown",
      "metadata": {
        "id": "LXI8SehKPe9l"
      },
      "source": [
        "## Observations \n",
        "\n",
        "Take a look at the statistical table and the plots. Then answer the following questions. \n",
        "\n",
        "**How do the hidden layer weights from the best performing model compare to the initial weight values?**"
      ]
    },
    {
      "cell_type": "markdown",
      "metadata": {
        "deletable": false,
        "nbgrader": {
          "cell_type": "markdown",
          "checksum": "f43fe1110cdcea8d1e4b432fe78d4e49",
          "grade": true,
          "grade_id": "cell-40a44d19694941b8",
          "locked": false,
          "points": 0,
          "schema_version": 3,
          "solution": true,
          "task": false
        },
        "id": "tcy7wG7WPe9l"
      },
      "source": [
        "YOUR ANSWER HERE"
      ]
    },
    {
      "cell_type": "markdown",
      "metadata": {
        "id": "ZyoKY88UPe9l"
      },
      "source": [
        "**What was the effect of using the weight constraint value in MaxNorm in the best performing model?**"
      ]
    },
    {
      "cell_type": "markdown",
      "metadata": {
        "deletable": false,
        "nbgrader": {
          "cell_type": "markdown",
          "checksum": "b1c59c58a5abdbc0b509983821198dba",
          "grade": true,
          "grade_id": "cell-4f9e1e134124e512",
          "locked": false,
          "points": 0,
          "schema_version": 3,
          "solution": true,
          "task": false
        },
        "id": "cVJXyE4ePe9m"
      },
      "source": [
        "YOUR ANSWER HERE"
      ]
    },
    {
      "cell_type": "markdown",
      "metadata": {
        "id": "I6z_Sr6BPe9n"
      },
      "source": [
        "**What was the effect of using the weight constraint value in MaxNorm in the worse performing model?**"
      ]
    },
    {
      "cell_type": "markdown",
      "metadata": {
        "deletable": false,
        "nbgrader": {
          "cell_type": "markdown",
          "checksum": "0062b4ddfad487c39633c37f4710b752",
          "grade": true,
          "grade_id": "cell-4c289ce70c34048a",
          "locked": false,
          "points": 0,
          "schema_version": 3,
          "solution": true,
          "task": false
        },
        "id": "VhBTVpb5Pe9n"
      },
      "source": [
        "YOUR ANSWER HERE"
      ]
    },
    {
      "cell_type": "markdown",
      "metadata": {
        "id": "qtHLKg7XPe9n"
      },
      "source": [
        "**Given what you know about MaxNorm regularization, are you surprised by these results?**"
      ]
    },
    {
      "cell_type": "markdown",
      "metadata": {
        "deletable": false,
        "nbgrader": {
          "cell_type": "markdown",
          "checksum": "3c36931d3532a8cbcb4ea0c956378728",
          "grade": true,
          "grade_id": "cell-77366a912217da5d",
          "locked": false,
          "points": 0,
          "schema_version": 3,
          "solution": true,
          "task": false
        },
        "id": "idmmuqS7Pe9n"
      },
      "source": [
        "YOUR ANSWER HERE"
      ]
    },
    {
      "cell_type": "markdown",
      "metadata": {
        "id": "t3FmdXsBPe9n"
      },
      "source": [
        "-----\n",
        "# Experiment 3: Identify the relationship between model performance and Dropout\n",
        "\n",
        "\n",
        "![](https://miro.medium.com/max/981/1*EinUlWw1n8vbcLyT0zx4gw.png)\n",
        "\n",
        "In the 3rd and final experiment, we will use gridsearch to see how model performance is affect by varying the value of the the dropout probability. \n",
        "\n",
        "Recall from lecture that dropout tends to perform best when used with weight constraint. Since this is the case, we will gridsearch both dropout probability and the weight constraint for MaxNorm. \n",
        "\n",
        "If interested, feel free to read through the original publication on [**Drop Out**](https://jmlr.org/papers/volume15/srivastava14a.old/srivastava14a.pdf). \n",
        "\n",
        "**Key Take aways:** \n",
        "\n",
        "1. During training, dropout will probabilistically \"turn off\" some neurons in the layer that dropout is implemented in. \n",
        "2. During inference (ie. making predictions on the test set) all neurons are used (i.e. no dropout is applied).\n",
        "3. Dropout works best when used with MaxNorm\n"
      ]
    },
    {
      "cell_type": "code",
      "metadata": {
        "colab": {
          "base_uri": "https://localhost:8080/"
        },
        "id": "Pe41eSRyPe9o",
        "outputId": "e9cf14a2-5c35-476c-996b-a4d42ab030ad"
      },
      "source": [
        "# build out our hyperparameter dictionary \n",
        "hyper_parameters = {\n",
        "    # for the sake of runtime, let's vary maxnorm_wc between 0.5 and 5.0\n",
        "    \"maxnorm_wc\": np.linspace(0.5, 5, num=10),\n",
        "    # take note that l1_reg_penalty values are in powers of 10 \n",
        "    \"dropout_prob\": np.linspace(0.0, 0.6, num=7), \n",
        "    \"epochs\": [1] # default is 1, in order to change it we must provide value here because we can provide a parameter value for model.fit() directly when using gridsearch\n",
        "}\n",
        "\n",
        "hyper_parameters"
      ],
      "execution_count": 78,
      "outputs": [
        {
          "output_type": "execute_result",
          "data": {
            "text/plain": [
              "{'dropout_prob': array([0. , 0.1, 0.2, 0.3, 0.4, 0.5, 0.6]),\n",
              " 'epochs': [1],\n",
              " 'maxnorm_wc': array([0.5, 1. , 1.5, 2. , 2.5, 3. , 3.5, 4. , 4.5, 5. ])}"
            ]
          },
          "metadata": {
            "tags": []
          },
          "execution_count": 78
        }
      ]
    },
    {
      "cell_type": "code",
      "metadata": {
        "colab": {
          "base_uri": "https://localhost:8080/"
        },
        "id": "yUPsRfavPe9p",
        "outputId": "a90e0ed2-658c-4cf0-dc09-0d57ad660afc"
      },
      "source": [
        "start=time()\n",
        "# Create and run Grid Search\n",
        "grid = GridSearchCV(estimator=model, \n",
        "                    param_grid=hyper_parameters, \n",
        "                    n_jobs=-2, \n",
        "                    verbose=1, \n",
        "                    cv=3)\n",
        "\n",
        "grid_result = grid.fit(X_train, y_train)\n",
        "end=time()"
      ],
      "execution_count": 79,
      "outputs": [
        {
          "output_type": "stream",
          "text": [
            "Fitting 3 folds for each of 70 candidates, totalling 210 fits\n"
          ],
          "name": "stdout"
        },
        {
          "output_type": "stream",
          "text": [
            "[Parallel(n_jobs=-2)]: Using backend SequentialBackend with 1 concurrent workers.\n"
          ],
          "name": "stderr"
        },
        {
          "output_type": "stream",
          "text": [
            "1250/1250 [==============================] - 3s 2ms/step - loss: 0.7636 - accuracy: 0.7196\n",
            "625/625 [==============================] - 1s 2ms/step - loss: 0.5166 - accuracy: 0.8091\n",
            "1250/1250 [==============================] - 3s 2ms/step - loss: 0.7454 - accuracy: 0.7261\n",
            "625/625 [==============================] - 1s 2ms/step - loss: 0.4704 - accuracy: 0.8292\n",
            "1250/1250 [==============================] - 3s 2ms/step - loss: 0.7517 - accuracy: 0.7227\n",
            "625/625 [==============================] - 1s 2ms/step - loss: 0.5650 - accuracy: 0.7846\n",
            "1250/1250 [==============================] - 3s 2ms/step - loss: 0.6630 - accuracy: 0.7617\n",
            "625/625 [==============================] - 1s 2ms/step - loss: 0.4050 - accuracy: 0.8562\n",
            "1250/1250 [==============================] - 4s 2ms/step - loss: 0.6763 - accuracy: 0.7557\n",
            "625/625 [==============================] - 1s 2ms/step - loss: 0.4301 - accuracy: 0.8453\n",
            "1250/1250 [==============================] - 3s 2ms/step - loss: 0.6685 - accuracy: 0.7590\n",
            "625/625 [==============================] - 1s 2ms/step - loss: 0.4678 - accuracy: 0.8325\n",
            "1250/1250 [==============================] - 3s 2ms/step - loss: 0.6394 - accuracy: 0.7735\n",
            "625/625 [==============================] - 1s 2ms/step - loss: 0.4066 - accuracy: 0.8507\n",
            "1250/1250 [==============================] - 3s 2ms/step - loss: 0.6592 - accuracy: 0.7619\n",
            "625/625 [==============================] - 1s 2ms/step - loss: 0.3969 - accuracy: 0.8537\n",
            "1250/1250 [==============================] - 3s 2ms/step - loss: 0.6386 - accuracy: 0.7708\n",
            "625/625 [==============================] - 1s 2ms/step - loss: 0.4139 - accuracy: 0.8437\n",
            "1250/1250 [==============================] - 3s 2ms/step - loss: 0.6693 - accuracy: 0.7550\n",
            "625/625 [==============================] - 1s 2ms/step - loss: 0.4457 - accuracy: 0.8372\n",
            "1250/1250 [==============================] - 3s 2ms/step - loss: 0.6546 - accuracy: 0.7652\n",
            "625/625 [==============================] - 1s 2ms/step - loss: 0.3986 - accuracy: 0.8588\n",
            "1250/1250 [==============================] - 3s 2ms/step - loss: 0.6534 - accuracy: 0.7665\n",
            "625/625 [==============================] - 1s 2ms/step - loss: 0.3982 - accuracy: 0.8574\n",
            "1250/1250 [==============================] - 4s 2ms/step - loss: 0.6428 - accuracy: 0.7681\n",
            "625/625 [==============================] - 1s 2ms/step - loss: 0.4263 - accuracy: 0.8373\n",
            "1250/1250 [==============================] - 3s 2ms/step - loss: 0.6554 - accuracy: 0.7676\n",
            "625/625 [==============================] - 1s 2ms/step - loss: 0.3922 - accuracy: 0.8569\n",
            "1250/1250 [==============================] - 3s 2ms/step - loss: 0.6566 - accuracy: 0.7616\n",
            "625/625 [==============================] - 1s 2ms/step - loss: 0.4100 - accuracy: 0.8503\n",
            "1250/1250 [==============================] - 3s 2ms/step - loss: 0.6582 - accuracy: 0.7597\n",
            "625/625 [==============================] - 1s 2ms/step - loss: 0.4657 - accuracy: 0.8256\n",
            "1250/1250 [==============================] - 3s 2ms/step - loss: 0.6488 - accuracy: 0.7656\n",
            "625/625 [==============================] - 1s 2ms/step - loss: 0.3930 - accuracy: 0.8580\n",
            "1250/1250 [==============================] - 3s 2ms/step - loss: 0.6527 - accuracy: 0.7675\n",
            "625/625 [==============================] - 1s 2ms/step - loss: 0.4242 - accuracy: 0.8476\n",
            "1250/1250 [==============================] - 4s 2ms/step - loss: 0.6568 - accuracy: 0.7657\n",
            "625/625 [==============================] - 1s 2ms/step - loss: 0.4173 - accuracy: 0.8437\n",
            "1250/1250 [==============================] - 3s 2ms/step - loss: 0.6479 - accuracy: 0.7648\n",
            "625/625 [==============================] - 1s 2ms/step - loss: 0.4349 - accuracy: 0.8418\n",
            "1250/1250 [==============================] - 3s 2ms/step - loss: 0.6472 - accuracy: 0.7669\n",
            "625/625 [==============================] - 1s 2ms/step - loss: 0.4306 - accuracy: 0.8421\n",
            "1250/1250 [==============================] - 3s 2ms/step - loss: 0.6531 - accuracy: 0.7665\n",
            "625/625 [==============================] - 1s 2ms/step - loss: 0.4065 - accuracy: 0.8521\n",
            "1250/1250 [==============================] - 4s 2ms/step - loss: 0.6461 - accuracy: 0.7668\n",
            "625/625 [==============================] - 1s 2ms/step - loss: 0.4132 - accuracy: 0.8525\n",
            "1250/1250 [==============================] - 4s 2ms/step - loss: 0.6390 - accuracy: 0.7637\n",
            "625/625 [==============================] - 1s 2ms/step - loss: 0.4208 - accuracy: 0.8480\n",
            "1250/1250 [==============================] - 3s 2ms/step - loss: 0.6621 - accuracy: 0.7589\n",
            "625/625 [==============================] - 1s 2ms/step - loss: 0.4097 - accuracy: 0.8547\n",
            "1250/1250 [==============================] - 3s 2ms/step - loss: 0.6445 - accuracy: 0.7650\n",
            "625/625 [==============================] - 1s 2ms/step - loss: 0.4060 - accuracy: 0.8492\n",
            "1250/1250 [==============================] - 3s 2ms/step - loss: 0.6558 - accuracy: 0.7658\n",
            "625/625 [==============================] - 1s 2ms/step - loss: 0.4001 - accuracy: 0.8558\n",
            "1250/1250 [==============================] - 3s 2ms/step - loss: 0.6458 - accuracy: 0.7670\n",
            "625/625 [==============================] - 1s 2ms/step - loss: 0.3853 - accuracy: 0.8597\n",
            "1250/1250 [==============================] - 3s 2ms/step - loss: 0.6545 - accuracy: 0.7665\n",
            "625/625 [==============================] - 1s 2ms/step - loss: 0.4085 - accuracy: 0.8496\n",
            "1250/1250 [==============================] - 3s 2ms/step - loss: 0.6464 - accuracy: 0.7692\n",
            "625/625 [==============================] - 1s 2ms/step - loss: 0.4110 - accuracy: 0.8474\n",
            "1250/1250 [==============================] - 3s 2ms/step - loss: 0.8009 - accuracy: 0.7039\n",
            "625/625 [==============================] - 1s 2ms/step - loss: 0.4673 - accuracy: 0.8268\n",
            "1250/1250 [==============================] - 3s 2ms/step - loss: 0.8183 - accuracy: 0.6928\n",
            "625/625 [==============================] - 1s 2ms/step - loss: 0.4981 - accuracy: 0.8159\n",
            "1250/1250 [==============================] - 3s 2ms/step - loss: 0.7821 - accuracy: 0.7145\n",
            "625/625 [==============================] - 1s 2ms/step - loss: 0.4789 - accuracy: 0.8126\n",
            "1250/1250 [==============================] - 3s 2ms/step - loss: 0.7386 - accuracy: 0.7337\n",
            "625/625 [==============================] - 1s 2ms/step - loss: 0.4426 - accuracy: 0.8314\n",
            "1250/1250 [==============================] - 3s 2ms/step - loss: 0.7192 - accuracy: 0.7362\n",
            "625/625 [==============================] - 1s 2ms/step - loss: 0.4148 - accuracy: 0.8522\n",
            "1250/1250 [==============================] - 3s 2ms/step - loss: 0.7185 - accuracy: 0.7425\n",
            "625/625 [==============================] - 1s 2ms/step - loss: 0.4685 - accuracy: 0.8281\n",
            "1250/1250 [==============================] - 3s 2ms/step - loss: 0.7094 - accuracy: 0.7432\n",
            "625/625 [==============================] - 1s 2ms/step - loss: 0.4422 - accuracy: 0.8285\n",
            "1250/1250 [==============================] - 4s 2ms/step - loss: 0.6966 - accuracy: 0.7475\n",
            "625/625 [==============================] - 1s 2ms/step - loss: 0.4187 - accuracy: 0.8396\n",
            "1250/1250 [==============================] - 3s 2ms/step - loss: 0.6966 - accuracy: 0.7441\n",
            "625/625 [==============================] - 1s 2ms/step - loss: 0.4348 - accuracy: 0.8446\n",
            "1250/1250 [==============================] - 3s 2ms/step - loss: 0.7047 - accuracy: 0.7448\n",
            "625/625 [==============================] - 1s 2ms/step - loss: 0.4244 - accuracy: 0.8426\n",
            "1250/1250 [==============================] - 3s 2ms/step - loss: 0.7067 - accuracy: 0.7435\n",
            "625/625 [==============================] - 1s 2ms/step - loss: 0.4217 - accuracy: 0.8475\n",
            "1250/1250 [==============================] - 3s 2ms/step - loss: 0.7181 - accuracy: 0.7385\n",
            "625/625 [==============================] - 1s 2ms/step - loss: 0.4296 - accuracy: 0.8431\n",
            "1250/1250 [==============================] - 3s 2ms/step - loss: 0.7148 - accuracy: 0.7439\n",
            "625/625 [==============================] - 1s 2ms/step - loss: 0.4495 - accuracy: 0.8359\n",
            "1250/1250 [==============================] - 3s 2ms/step - loss: 0.7002 - accuracy: 0.7478\n",
            "625/625 [==============================] - 1s 2ms/step - loss: 0.4303 - accuracy: 0.8421\n",
            "1250/1250 [==============================] - 3s 2ms/step - loss: 0.7202 - accuracy: 0.7417\n",
            "625/625 [==============================] - 1s 2ms/step - loss: 0.4422 - accuracy: 0.8393\n",
            "1250/1250 [==============================] - 4s 2ms/step - loss: 0.7098 - accuracy: 0.7442\n",
            "625/625 [==============================] - 1s 2ms/step - loss: 0.4233 - accuracy: 0.8419\n",
            "1250/1250 [==============================] - 3s 2ms/step - loss: 0.7057 - accuracy: 0.7442\n",
            "625/625 [==============================] - 1s 2ms/step - loss: 0.4313 - accuracy: 0.8382\n",
            "1250/1250 [==============================] - 3s 2ms/step - loss: 0.7154 - accuracy: 0.7384\n",
            "625/625 [==============================] - 1s 2ms/step - loss: 0.4139 - accuracy: 0.8514\n",
            "1250/1250 [==============================] - 3s 2ms/step - loss: 0.7213 - accuracy: 0.7436\n",
            "625/625 [==============================] - 1s 2ms/step - loss: 0.4059 - accuracy: 0.8526\n",
            "1250/1250 [==============================] - 3s 2ms/step - loss: 0.7158 - accuracy: 0.7419\n",
            "625/625 [==============================] - 1s 2ms/step - loss: 0.4319 - accuracy: 0.8434\n",
            "1250/1250 [==============================] - 3s 2ms/step - loss: 0.7111 - accuracy: 0.7424\n",
            "625/625 [==============================] - 1s 2ms/step - loss: 0.3959 - accuracy: 0.8580\n",
            "1250/1250 [==============================] - 3s 2ms/step - loss: 0.7151 - accuracy: 0.7430\n",
            "625/625 [==============================] - 1s 1ms/step - loss: 0.4384 - accuracy: 0.8329\n",
            "1250/1250 [==============================] - 3s 2ms/step - loss: 0.7069 - accuracy: 0.7442\n",
            "625/625 [==============================] - 1s 2ms/step - loss: 0.4029 - accuracy: 0.8523\n",
            "1250/1250 [==============================] - 4s 2ms/step - loss: 0.7123 - accuracy: 0.7468\n",
            "625/625 [==============================] - 1s 2ms/step - loss: 0.4268 - accuracy: 0.8476\n",
            "1250/1250 [==============================] - 3s 2ms/step - loss: 0.7052 - accuracy: 0.7438\n",
            "625/625 [==============================] - 1s 2ms/step - loss: 0.4747 - accuracy: 0.8219\n",
            "1250/1250 [==============================] - 3s 2ms/step - loss: 0.6996 - accuracy: 0.7430\n",
            "625/625 [==============================] - 1s 2ms/step - loss: 0.4500 - accuracy: 0.8433\n",
            "1250/1250 [==============================] - 3s 2ms/step - loss: 0.7120 - accuracy: 0.7402\n",
            "625/625 [==============================] - 1s 2ms/step - loss: 0.4194 - accuracy: 0.8457\n",
            "1250/1250 [==============================] - 3s 2ms/step - loss: 0.7050 - accuracy: 0.7452\n",
            "625/625 [==============================] - 1s 2ms/step - loss: 0.4345 - accuracy: 0.8422\n",
            "1250/1250 [==============================] - 3s 2ms/step - loss: 0.7186 - accuracy: 0.7430\n",
            "625/625 [==============================] - 1s 2ms/step - loss: 0.4246 - accuracy: 0.8410\n",
            "1250/1250 [==============================] - 3s 2ms/step - loss: 0.7065 - accuracy: 0.7440\n",
            "625/625 [==============================] - 1s 2ms/step - loss: 0.4197 - accuracy: 0.8436\n",
            "1250/1250 [==============================] - 3s 2ms/step - loss: 0.8428 - accuracy: 0.6880\n",
            "625/625 [==============================] - 1s 2ms/step - loss: 0.5480 - accuracy: 0.7914\n",
            "1250/1250 [==============================] - 3s 2ms/step - loss: 0.8507 - accuracy: 0.6899\n",
            "625/625 [==============================] - 1s 2ms/step - loss: 0.4826 - accuracy: 0.8259\n",
            "1250/1250 [==============================] - 3s 2ms/step - loss: 0.8415 - accuracy: 0.6899\n",
            "625/625 [==============================] - 1s 2ms/step - loss: 0.4663 - accuracy: 0.8314\n",
            "1250/1250 [==============================] - 3s 2ms/step - loss: 0.7776 - accuracy: 0.7202\n",
            "625/625 [==============================] - 1s 2ms/step - loss: 0.4448 - accuracy: 0.8373\n",
            "1250/1250 [==============================] - 3s 2ms/step - loss: 0.7725 - accuracy: 0.7123\n",
            "625/625 [==============================] - 1s 2ms/step - loss: 0.4449 - accuracy: 0.8338\n",
            "1250/1250 [==============================] - 3s 2ms/step - loss: 0.7720 - accuracy: 0.7240\n",
            "625/625 [==============================] - 1s 2ms/step - loss: 0.4562 - accuracy: 0.8322\n",
            "1250/1250 [==============================] - 3s 2ms/step - loss: 0.7759 - accuracy: 0.7235\n",
            "625/625 [==============================] - 1s 2ms/step - loss: 0.4309 - accuracy: 0.8379\n",
            "1250/1250 [==============================] - 3s 2ms/step - loss: 0.7694 - accuracy: 0.7225\n",
            "625/625 [==============================] - 1s 2ms/step - loss: 0.4783 - accuracy: 0.8206\n",
            "1250/1250 [==============================] - 3s 2ms/step - loss: 0.7862 - accuracy: 0.7155\n",
            "625/625 [==============================] - 1s 2ms/step - loss: 0.4806 - accuracy: 0.8281\n",
            "1250/1250 [==============================] - 3s 2ms/step - loss: 0.7877 - accuracy: 0.7184\n",
            "625/625 [==============================] - 1s 2ms/step - loss: 0.4336 - accuracy: 0.8400\n",
            "1250/1250 [==============================] - 3s 2ms/step - loss: 0.7799 - accuracy: 0.7144\n",
            "625/625 [==============================] - 1s 2ms/step - loss: 0.4236 - accuracy: 0.8424\n",
            "1250/1250 [==============================] - 4s 2ms/step - loss: 0.7812 - accuracy: 0.7225\n",
            "625/625 [==============================] - 1s 2ms/step - loss: 0.4395 - accuracy: 0.8402\n",
            "1250/1250 [==============================] - 3s 2ms/step - loss: 0.7754 - accuracy: 0.7246\n",
            "625/625 [==============================] - 1s 2ms/step - loss: 0.4312 - accuracy: 0.8419\n",
            "1250/1250 [==============================] - 3s 2ms/step - loss: 0.7846 - accuracy: 0.7208\n",
            "625/625 [==============================] - 1s 2ms/step - loss: 0.4484 - accuracy: 0.8377\n",
            "1250/1250 [==============================] - 3s 2ms/step - loss: 0.7937 - accuracy: 0.7168\n",
            "625/625 [==============================] - 1s 2ms/step - loss: 0.4319 - accuracy: 0.8408\n",
            "1250/1250 [==============================] - 3s 2ms/step - loss: 0.7664 - accuracy: 0.7262\n",
            "625/625 [==============================] - 1s 2ms/step - loss: 0.4604 - accuracy: 0.8255\n",
            "1250/1250 [==============================] - 3s 2ms/step - loss: 0.7891 - accuracy: 0.7130\n",
            "625/625 [==============================] - 1s 2ms/step - loss: 0.4307 - accuracy: 0.8382\n",
            "1250/1250 [==============================] - 3s 2ms/step - loss: 0.7766 - accuracy: 0.7168\n",
            "625/625 [==============================] - 1s 2ms/step - loss: 0.4333 - accuracy: 0.8446\n",
            "1250/1250 [==============================] - 4s 2ms/step - loss: 0.7853 - accuracy: 0.7118\n",
            "625/625 [==============================] - 1s 2ms/step - loss: 0.4360 - accuracy: 0.8427\n",
            "1250/1250 [==============================] - 3s 2ms/step - loss: 0.7795 - accuracy: 0.7183\n",
            "625/625 [==============================] - 1s 2ms/step - loss: 0.4126 - accuracy: 0.8508\n",
            "1250/1250 [==============================] - 3s 2ms/step - loss: 0.7795 - accuracy: 0.7171\n",
            "625/625 [==============================] - 1s 2ms/step - loss: 0.4858 - accuracy: 0.8177\n",
            "1250/1250 [==============================] - 4s 2ms/step - loss: 0.7500 - accuracy: 0.7328\n",
            "625/625 [==============================] - 1s 2ms/step - loss: 0.4498 - accuracy: 0.8374\n",
            "1250/1250 [==============================] - 3s 2ms/step - loss: 0.7759 - accuracy: 0.7170\n",
            "625/625 [==============================] - 1s 2ms/step - loss: 0.4594 - accuracy: 0.8324\n",
            "1250/1250 [==============================] - 4s 2ms/step - loss: 0.7687 - accuracy: 0.7249\n",
            "625/625 [==============================] - 1s 2ms/step - loss: 0.4345 - accuracy: 0.8389\n",
            "1250/1250 [==============================] - 3s 2ms/step - loss: 0.7997 - accuracy: 0.7151\n",
            "625/625 [==============================] - 1s 2ms/step - loss: 0.4426 - accuracy: 0.8401\n",
            "1250/1250 [==============================] - 3s 2ms/step - loss: 0.7918 - accuracy: 0.7144\n",
            "625/625 [==============================] - 1s 2ms/step - loss: 0.4694 - accuracy: 0.8310\n",
            "1250/1250 [==============================] - 4s 2ms/step - loss: 0.7875 - accuracy: 0.7166\n",
            "625/625 [==============================] - 1s 2ms/step - loss: 0.4541 - accuracy: 0.8421\n",
            "1250/1250 [==============================] - 3s 2ms/step - loss: 0.7883 - accuracy: 0.7136\n",
            "625/625 [==============================] - 1s 2ms/step - loss: 0.4157 - accuracy: 0.8429\n",
            "1250/1250 [==============================] - 4s 2ms/step - loss: 0.7794 - accuracy: 0.7173\n",
            "625/625 [==============================] - 1s 2ms/step - loss: 0.4357 - accuracy: 0.8390\n",
            "1250/1250 [==============================] - 3s 2ms/step - loss: 0.7786 - accuracy: 0.7190\n",
            "625/625 [==============================] - 1s 2ms/step - loss: 0.4180 - accuracy: 0.8485\n",
            "1250/1250 [==============================] - 3s 2ms/step - loss: 0.9297 - accuracy: 0.6557\n",
            "625/625 [==============================] - 1s 2ms/step - loss: 0.4895 - accuracy: 0.8167\n",
            "1250/1250 [==============================] - 3s 2ms/step - loss: 0.9098 - accuracy: 0.6622\n",
            "625/625 [==============================] - 1s 2ms/step - loss: 0.5105 - accuracy: 0.8099\n",
            "1250/1250 [==============================] - 3s 2ms/step - loss: 0.9179 - accuracy: 0.6530\n",
            "625/625 [==============================] - 1s 2ms/step - loss: 0.5589 - accuracy: 0.7912\n",
            "1250/1250 [==============================] - 3s 2ms/step - loss: 0.8547 - accuracy: 0.6912\n",
            "625/625 [==============================] - 1s 2ms/step - loss: 0.4615 - accuracy: 0.8318\n",
            "1250/1250 [==============================] - 4s 2ms/step - loss: 0.8540 - accuracy: 0.6940\n",
            "625/625 [==============================] - 1s 2ms/step - loss: 0.4578 - accuracy: 0.8371\n",
            "1250/1250 [==============================] - 3s 2ms/step - loss: 0.8572 - accuracy: 0.6886\n",
            "625/625 [==============================] - 1s 2ms/step - loss: 0.4762 - accuracy: 0.8235\n",
            "1250/1250 [==============================] - 3s 2ms/step - loss: 0.8803 - accuracy: 0.6762\n",
            "625/625 [==============================] - 1s 2ms/step - loss: 0.4582 - accuracy: 0.8342\n",
            "1250/1250 [==============================] - 3s 2ms/step - loss: 0.8579 - accuracy: 0.6855\n",
            "625/625 [==============================] - 1s 2ms/step - loss: 0.4807 - accuracy: 0.8208\n",
            "1250/1250 [==============================] - 3s 2ms/step - loss: 0.8584 - accuracy: 0.6839\n",
            "625/625 [==============================] - 1s 2ms/step - loss: 0.4544 - accuracy: 0.8291\n",
            "1250/1250 [==============================] - 4s 2ms/step - loss: 0.8488 - accuracy: 0.6945\n",
            "625/625 [==============================] - 1s 2ms/step - loss: 0.4592 - accuracy: 0.8299\n",
            "1250/1250 [==============================] - 4s 2ms/step - loss: 0.8657 - accuracy: 0.6832\n",
            "625/625 [==============================] - 1s 2ms/step - loss: 0.4278 - accuracy: 0.8420\n",
            "1250/1250 [==============================] - 4s 2ms/step - loss: 0.8550 - accuracy: 0.6902\n",
            "625/625 [==============================] - 1s 2ms/step - loss: 0.4273 - accuracy: 0.8483\n",
            "1250/1250 [==============================] - 4s 2ms/step - loss: 0.8740 - accuracy: 0.6765\n",
            "625/625 [==============================] - 1s 2ms/step - loss: 0.4616 - accuracy: 0.8309\n",
            "1250/1250 [==============================] - 3s 2ms/step - loss: 0.8702 - accuracy: 0.6855\n",
            "625/625 [==============================] - 1s 2ms/step - loss: 0.4666 - accuracy: 0.8199\n",
            "1250/1250 [==============================] - 3s 2ms/step - loss: 0.8604 - accuracy: 0.6838\n",
            "625/625 [==============================] - 1s 2ms/step - loss: 0.4365 - accuracy: 0.8421\n",
            "1250/1250 [==============================] - 3s 2ms/step - loss: 0.8506 - accuracy: 0.6935\n",
            "625/625 [==============================] - 1s 2ms/step - loss: 0.4818 - accuracy: 0.8184\n",
            "1250/1250 [==============================] - 3s 2ms/step - loss: 0.8814 - accuracy: 0.6822\n",
            "625/625 [==============================] - 1s 2ms/step - loss: 0.4455 - accuracy: 0.8433\n",
            "1250/1250 [==============================] - 3s 2ms/step - loss: 0.8809 - accuracy: 0.6821\n",
            "625/625 [==============================] - 1s 2ms/step - loss: 0.4648 - accuracy: 0.8276\n",
            "1250/1250 [==============================] - 3s 2ms/step - loss: 0.8678 - accuracy: 0.6904\n",
            "625/625 [==============================] - 1s 2ms/step - loss: 0.4481 - accuracy: 0.8370\n",
            "1250/1250 [==============================] - 3s 2ms/step - loss: 0.8563 - accuracy: 0.6905\n",
            "625/625 [==============================] - 1s 2ms/step - loss: 0.4576 - accuracy: 0.8342\n",
            "1250/1250 [==============================] - 3s 2ms/step - loss: 0.8779 - accuracy: 0.6822\n",
            "625/625 [==============================] - 1s 2ms/step - loss: 0.4374 - accuracy: 0.8414\n",
            "1250/1250 [==============================] - 3s 2ms/step - loss: 0.8675 - accuracy: 0.6863\n",
            "625/625 [==============================] - 1s 2ms/step - loss: 0.4469 - accuracy: 0.8318\n",
            "1250/1250 [==============================] - 3s 2ms/step - loss: 0.8534 - accuracy: 0.6947\n",
            "625/625 [==============================] - 1s 2ms/step - loss: 0.4314 - accuracy: 0.8497\n",
            "1250/1250 [==============================] - 3s 2ms/step - loss: 0.8619 - accuracy: 0.6863\n",
            "625/625 [==============================] - 1s 2ms/step - loss: 0.4522 - accuracy: 0.8337\n",
            "1250/1250 [==============================] - 3s 2ms/step - loss: 0.8603 - accuracy: 0.6873\n",
            "625/625 [==============================] - 1s 2ms/step - loss: 0.4254 - accuracy: 0.8446\n",
            "1250/1250 [==============================] - 4s 2ms/step - loss: 0.8598 - accuracy: 0.6872\n",
            "625/625 [==============================] - 1s 2ms/step - loss: 0.4460 - accuracy: 0.8359\n",
            "1250/1250 [==============================] - 3s 2ms/step - loss: 0.8472 - accuracy: 0.6907\n",
            "625/625 [==============================] - 1s 2ms/step - loss: 0.4592 - accuracy: 0.8285\n",
            "1250/1250 [==============================] - 3s 2ms/step - loss: 0.8716 - accuracy: 0.6872\n",
            "625/625 [==============================] - 1s 2ms/step - loss: 0.4470 - accuracy: 0.8363\n",
            "1250/1250 [==============================] - 3s 2ms/step - loss: 0.8600 - accuracy: 0.6879\n",
            "625/625 [==============================] - 1s 2ms/step - loss: 0.4464 - accuracy: 0.8420\n",
            "1250/1250 [==============================] - 3s 2ms/step - loss: 0.8729 - accuracy: 0.6823\n",
            "625/625 [==============================] - 1s 2ms/step - loss: 0.4584 - accuracy: 0.8370\n",
            "1250/1250 [==============================] - 3s 2ms/step - loss: 0.9661 - accuracy: 0.6380\n",
            "625/625 [==============================] - 1s 2ms/step - loss: 0.5442 - accuracy: 0.8001\n",
            "1250/1250 [==============================] - 3s 2ms/step - loss: 0.9762 - accuracy: 0.6315\n",
            "625/625 [==============================] - 1s 2ms/step - loss: 0.6124 - accuracy: 0.7717\n",
            "1250/1250 [==============================] - 3s 2ms/step - loss: 1.0059 - accuracy: 0.6262\n",
            "625/625 [==============================] - 1s 2ms/step - loss: 0.5143 - accuracy: 0.8108\n",
            "1250/1250 [==============================] - 3s 2ms/step - loss: 0.9581 - accuracy: 0.6480\n",
            "625/625 [==============================] - 1s 2ms/step - loss: 0.4614 - accuracy: 0.8270\n",
            "1250/1250 [==============================] - 3s 2ms/step - loss: 0.9707 - accuracy: 0.6449\n",
            "625/625 [==============================] - 1s 2ms/step - loss: 0.4702 - accuracy: 0.8323\n",
            "1250/1250 [==============================] - 3s 2ms/step - loss: 0.9445 - accuracy: 0.6571\n",
            "625/625 [==============================] - 1s 2ms/step - loss: 0.5057 - accuracy: 0.8149\n",
            "1250/1250 [==============================] - 3s 2ms/step - loss: 0.9969 - accuracy: 0.6364\n",
            "625/625 [==============================] - 1s 2ms/step - loss: 0.4596 - accuracy: 0.8340\n",
            "1250/1250 [==============================] - 4s 2ms/step - loss: 0.9946 - accuracy: 0.6410\n",
            "625/625 [==============================] - 1s 2ms/step - loss: 0.4718 - accuracy: 0.8256\n",
            "1250/1250 [==============================] - 3s 2ms/step - loss: 0.9932 - accuracy: 0.6448\n",
            "625/625 [==============================] - 1s 2ms/step - loss: 0.4457 - accuracy: 0.8386\n",
            "1250/1250 [==============================] - 3s 2ms/step - loss: 0.9753 - accuracy: 0.6430\n",
            "625/625 [==============================] - 1s 2ms/step - loss: 0.4718 - accuracy: 0.8268\n",
            "1250/1250 [==============================] - 3s 2ms/step - loss: 0.9739 - accuracy: 0.6457\n",
            "625/625 [==============================] - 1s 2ms/step - loss: 0.4649 - accuracy: 0.8357\n",
            "1250/1250 [==============================] - 3s 2ms/step - loss: 0.9642 - accuracy: 0.6465\n",
            "625/625 [==============================] - 1s 2ms/step - loss: 0.4903 - accuracy: 0.8301\n",
            "1250/1250 [==============================] - 3s 2ms/step - loss: 0.9939 - accuracy: 0.6392\n",
            "625/625 [==============================] - 1s 2ms/step - loss: 0.4740 - accuracy: 0.8256\n",
            "1250/1250 [==============================] - 3s 2ms/step - loss: 0.9707 - accuracy: 0.6484\n",
            "625/625 [==============================] - 1s 2ms/step - loss: 0.4431 - accuracy: 0.8335\n",
            "1250/1250 [==============================] - 3s 2ms/step - loss: 0.9727 - accuracy: 0.6519\n",
            "625/625 [==============================] - 1s 2ms/step - loss: 0.4600 - accuracy: 0.8408\n",
            "1250/1250 [==============================] - 4s 2ms/step - loss: 0.9698 - accuracy: 0.6473\n",
            "625/625 [==============================] - 1s 2ms/step - loss: 0.4553 - accuracy: 0.8299\n",
            "1250/1250 [==============================] - 3s 2ms/step - loss: 0.9661 - accuracy: 0.6497\n",
            "625/625 [==============================] - 1s 2ms/step - loss: 0.4549 - accuracy: 0.8362\n",
            "1250/1250 [==============================] - 3s 2ms/step - loss: 0.9786 - accuracy: 0.6415\n",
            "625/625 [==============================] - 1s 2ms/step - loss: 0.4759 - accuracy: 0.8331\n",
            "1250/1250 [==============================] - 3s 2ms/step - loss: 0.9770 - accuracy: 0.6476\n",
            "625/625 [==============================] - 1s 2ms/step - loss: 0.4518 - accuracy: 0.8375\n",
            "1250/1250 [==============================] - 3s 2ms/step - loss: 0.9677 - accuracy: 0.6455\n",
            "625/625 [==============================] - 1s 2ms/step - loss: 0.4410 - accuracy: 0.8428\n",
            "1250/1250 [==============================] - 3s 2ms/step - loss: 0.9887 - accuracy: 0.6425\n",
            "625/625 [==============================] - 1s 2ms/step - loss: 0.4731 - accuracy: 0.8322\n",
            "1250/1250 [==============================] - 3s 2ms/step - loss: 0.9705 - accuracy: 0.6484\n",
            "625/625 [==============================] - 1s 2ms/step - loss: 0.5166 - accuracy: 0.7999\n",
            "1250/1250 [==============================] - 3s 2ms/step - loss: 0.9748 - accuracy: 0.6486\n",
            "625/625 [==============================] - 1s 2ms/step - loss: 0.4521 - accuracy: 0.8410\n",
            "1250/1250 [==============================] - 4s 2ms/step - loss: 0.9824 - accuracy: 0.6464\n",
            "625/625 [==============================] - 1s 2ms/step - loss: 0.4617 - accuracy: 0.8342\n",
            "1250/1250 [==============================] - 3s 2ms/step - loss: 0.9706 - accuracy: 0.6470\n",
            "625/625 [==============================] - 1s 2ms/step - loss: 0.4860 - accuracy: 0.8235\n",
            "1250/1250 [==============================] - 3s 2ms/step - loss: 0.9861 - accuracy: 0.6396\n",
            "625/625 [==============================] - 1s 2ms/step - loss: 0.4717 - accuracy: 0.8264\n",
            "1250/1250 [==============================] - 3s 2ms/step - loss: 0.9883 - accuracy: 0.6430\n",
            "625/625 [==============================] - 1s 2ms/step - loss: 0.4805 - accuracy: 0.8270\n",
            "1250/1250 [==============================] - 4s 2ms/step - loss: 0.9609 - accuracy: 0.6492\n",
            "625/625 [==============================] - 1s 2ms/step - loss: 0.4589 - accuracy: 0.8299\n",
            "1250/1250 [==============================] - 4s 3ms/step - loss: 0.9914 - accuracy: 0.6344\n",
            "625/625 [==============================] - 1s 2ms/step - loss: 0.4732 - accuracy: 0.8242\n",
            "1250/1250 [==============================] - 4s 3ms/step - loss: 0.9849 - accuracy: 0.6454\n",
            "625/625 [==============================] - 1s 2ms/step - loss: 0.4768 - accuracy: 0.8271\n",
            "1250/1250 [==============================] - 4s 3ms/step - loss: 1.1048 - accuracy: 0.5942\n",
            "625/625 [==============================] - 1s 2ms/step - loss: 0.5450 - accuracy: 0.7879\n",
            "1250/1250 [==============================] - 3s 2ms/step - loss: 1.0880 - accuracy: 0.5856\n",
            "625/625 [==============================] - 1s 2ms/step - loss: 0.6083 - accuracy: 0.7743\n",
            "1250/1250 [==============================] - 4s 3ms/step - loss: 1.0803 - accuracy: 0.5890\n",
            "625/625 [==============================] - 1s 2ms/step - loss: 0.5358 - accuracy: 0.7996\n",
            "1250/1250 [==============================] - 4s 3ms/step - loss: 1.1110 - accuracy: 0.5895\n",
            "625/625 [==============================] - 1s 2ms/step - loss: 0.5373 - accuracy: 0.7985\n",
            "1250/1250 [==============================] - 4s 3ms/step - loss: 1.0922 - accuracy: 0.5987\n",
            "625/625 [==============================] - 1s 2ms/step - loss: 0.5314 - accuracy: 0.7951\n",
            "1250/1250 [==============================] - 4s 3ms/step - loss: 1.1056 - accuracy: 0.5961\n",
            "625/625 [==============================] - 1s 2ms/step - loss: 0.5046 - accuracy: 0.8253\n",
            "1250/1250 [==============================] - 4s 2ms/step - loss: 1.1289 - accuracy: 0.5944\n",
            "625/625 [==============================] - 1s 2ms/step - loss: 0.5038 - accuracy: 0.8134\n",
            "1250/1250 [==============================] - 4s 2ms/step - loss: 1.1728 - accuracy: 0.5784\n",
            "625/625 [==============================] - 1s 2ms/step - loss: 0.5229 - accuracy: 0.8076\n",
            "1250/1250 [==============================] - 4s 2ms/step - loss: 1.1549 - accuracy: 0.5843\n",
            "625/625 [==============================] - 1s 2ms/step - loss: 0.5104 - accuracy: 0.8159\n",
            "1250/1250 [==============================] - 4s 3ms/step - loss: 1.1453 - accuracy: 0.5840\n",
            "625/625 [==============================] - 1s 2ms/step - loss: 0.5204 - accuracy: 0.8105\n",
            "1250/1250 [==============================] - 4s 2ms/step - loss: 1.1550 - accuracy: 0.5805\n",
            "625/625 [==============================] - 1s 2ms/step - loss: 0.5026 - accuracy: 0.8096\n",
            "1250/1250 [==============================] - 4s 2ms/step - loss: 1.1504 - accuracy: 0.5855\n",
            "625/625 [==============================] - 1s 2ms/step - loss: 0.5007 - accuracy: 0.8106\n",
            "1250/1250 [==============================] - 4s 3ms/step - loss: 1.1387 - accuracy: 0.5889\n",
            "625/625 [==============================] - 1s 2ms/step - loss: 0.4926 - accuracy: 0.8141\n",
            "1250/1250 [==============================] - 4s 3ms/step - loss: 1.1329 - accuracy: 0.5846\n",
            "625/625 [==============================] - 1s 2ms/step - loss: 0.5233 - accuracy: 0.8011\n",
            "1250/1250 [==============================] - 4s 3ms/step - loss: 1.1460 - accuracy: 0.5886\n",
            "625/625 [==============================] - 1s 2ms/step - loss: 0.5043 - accuracy: 0.8135\n",
            "1250/1250 [==============================] - 4s 2ms/step - loss: 1.1155 - accuracy: 0.5934\n",
            "625/625 [==============================] - 1s 2ms/step - loss: 0.5311 - accuracy: 0.7873\n",
            "1250/1250 [==============================] - 4s 2ms/step - loss: 1.1460 - accuracy: 0.5799\n",
            "625/625 [==============================] - 1s 2ms/step - loss: 0.5035 - accuracy: 0.8178\n",
            "1250/1250 [==============================] - 3s 2ms/step - loss: 1.1460 - accuracy: 0.5829\n",
            "625/625 [==============================] - 1s 2ms/step - loss: 0.5022 - accuracy: 0.8111\n",
            "1250/1250 [==============================] - 4s 2ms/step - loss: 1.1574 - accuracy: 0.5771\n",
            "625/625 [==============================] - 1s 2ms/step - loss: 0.5146 - accuracy: 0.8170\n",
            "1250/1250 [==============================] - 4s 2ms/step - loss: 1.1323 - accuracy: 0.5871\n",
            "625/625 [==============================] - 1s 2ms/step - loss: 0.5122 - accuracy: 0.8046\n",
            "1250/1250 [==============================] - 3s 2ms/step - loss: 1.1508 - accuracy: 0.5780\n",
            "625/625 [==============================] - 1s 2ms/step - loss: 0.5030 - accuracy: 0.8103\n",
            "1250/1250 [==============================] - 4s 2ms/step - loss: 1.1302 - accuracy: 0.5910\n",
            "625/625 [==============================] - 1s 2ms/step - loss: 0.5359 - accuracy: 0.8061\n",
            "1250/1250 [==============================] - 4s 2ms/step - loss: 1.1368 - accuracy: 0.5882\n",
            "625/625 [==============================] - 1s 2ms/step - loss: 0.4876 - accuracy: 0.8278\n",
            "1250/1250 [==============================] - 3s 2ms/step - loss: 1.1340 - accuracy: 0.5874\n",
            "625/625 [==============================] - 1s 2ms/step - loss: 0.5055 - accuracy: 0.8049\n",
            "1250/1250 [==============================] - 3s 2ms/step - loss: 1.1248 - accuracy: 0.5877\n",
            "625/625 [==============================] - 1s 2ms/step - loss: 0.5008 - accuracy: 0.8123\n",
            "1250/1250 [==============================] - 4s 2ms/step - loss: 1.1473 - accuracy: 0.5832\n",
            "625/625 [==============================] - 1s 2ms/step - loss: 0.5220 - accuracy: 0.7915\n",
            "1250/1250 [==============================] - 4s 2ms/step - loss: 1.1286 - accuracy: 0.5850\n",
            "625/625 [==============================] - 1s 2ms/step - loss: 0.5029 - accuracy: 0.8223\n",
            "1250/1250 [==============================] - 3s 2ms/step - loss: 1.1184 - accuracy: 0.5989\n",
            "625/625 [==============================] - 1s 2ms/step - loss: 0.5278 - accuracy: 0.7931\n",
            "1250/1250 [==============================] - 3s 2ms/step - loss: 1.1289 - accuracy: 0.5929\n",
            "625/625 [==============================] - 1s 2ms/step - loss: 0.5342 - accuracy: 0.8043\n",
            "1250/1250 [==============================] - 3s 2ms/step - loss: 1.1282 - accuracy: 0.5847\n",
            "625/625 [==============================] - 1s 2ms/step - loss: 0.5060 - accuracy: 0.8138\n",
            "1250/1250 [==============================] - 3s 2ms/step - loss: 1.2363 - accuracy: 0.5363\n",
            "625/625 [==============================] - 1s 2ms/step - loss: 0.5969 - accuracy: 0.7738\n",
            "1250/1250 [==============================] - 4s 3ms/step - loss: 1.2658 - accuracy: 0.5257\n",
            "625/625 [==============================] - 1s 2ms/step - loss: 0.5812 - accuracy: 0.7750\n",
            "1250/1250 [==============================] - 4s 2ms/step - loss: 1.2722 - accuracy: 0.5194\n",
            "625/625 [==============================] - 1s 2ms/step - loss: 0.5945 - accuracy: 0.7807\n",
            "1250/1250 [==============================] - 3s 2ms/step - loss: 1.3394 - accuracy: 0.5079\n",
            "625/625 [==============================] - 1s 2ms/step - loss: 0.5682 - accuracy: 0.7746\n",
            "1250/1250 [==============================] - 4s 2ms/step - loss: 1.3449 - accuracy: 0.5040\n",
            "625/625 [==============================] - 1s 2ms/step - loss: 0.5711 - accuracy: 0.7871\n",
            "1250/1250 [==============================] - 4s 2ms/step - loss: 1.3113 - accuracy: 0.5124\n",
            "625/625 [==============================] - 1s 2ms/step - loss: 0.5865 - accuracy: 0.7781\n",
            "1250/1250 [==============================] - 3s 2ms/step - loss: 1.3717 - accuracy: 0.4927\n",
            "625/625 [==============================] - 1s 2ms/step - loss: 0.5818 - accuracy: 0.7871\n",
            "1250/1250 [==============================] - 3s 2ms/step - loss: 1.3841 - accuracy: 0.4955\n",
            "625/625 [==============================] - 1s 2ms/step - loss: 0.5663 - accuracy: 0.7907\n",
            "1250/1250 [==============================] - 4s 2ms/step - loss: 1.3766 - accuracy: 0.4993\n",
            "625/625 [==============================] - 1s 2ms/step - loss: 0.5503 - accuracy: 0.7862\n",
            "1250/1250 [==============================] - 3s 2ms/step - loss: 1.3717 - accuracy: 0.5022\n",
            "625/625 [==============================] - 1s 2ms/step - loss: 0.5944 - accuracy: 0.7863\n",
            "1250/1250 [==============================] - 3s 2ms/step - loss: 1.3908 - accuracy: 0.4956\n",
            "625/625 [==============================] - 1s 2ms/step - loss: 0.5676 - accuracy: 0.7919\n",
            "1250/1250 [==============================] - 3s 2ms/step - loss: 1.3835 - accuracy: 0.4994\n",
            "625/625 [==============================] - 1s 2ms/step - loss: 0.5514 - accuracy: 0.7901\n",
            "1250/1250 [==============================] - 4s 2ms/step - loss: 1.3830 - accuracy: 0.5020\n",
            "625/625 [==============================] - 1s 2ms/step - loss: 0.5496 - accuracy: 0.7893\n",
            "1250/1250 [==============================] - 3s 2ms/step - loss: 1.3776 - accuracy: 0.5014\n",
            "625/625 [==============================] - 1s 2ms/step - loss: 0.5669 - accuracy: 0.7862\n",
            "1250/1250 [==============================] - 3s 2ms/step - loss: 1.3836 - accuracy: 0.4943\n",
            "625/625 [==============================] - 1s 2ms/step - loss: 0.5686 - accuracy: 0.7875\n",
            "1250/1250 [==============================] - 3s 2ms/step - loss: 1.3803 - accuracy: 0.4886\n",
            "625/625 [==============================] - 1s 2ms/step - loss: 0.5595 - accuracy: 0.7824\n",
            "1250/1250 [==============================] - 3s 2ms/step - loss: 1.3933 - accuracy: 0.4972\n",
            "625/625 [==============================] - 1s 2ms/step - loss: 0.5748 - accuracy: 0.7822\n",
            "1250/1250 [==============================] - 3s 2ms/step - loss: 1.3638 - accuracy: 0.5029\n",
            "625/625 [==============================] - 1s 2ms/step - loss: 0.5810 - accuracy: 0.7714\n",
            "1250/1250 [==============================] - 3s 2ms/step - loss: 1.3866 - accuracy: 0.4911\n",
            "625/625 [==============================] - 1s 2ms/step - loss: 0.5598 - accuracy: 0.7803\n",
            "1250/1250 [==============================] - 3s 2ms/step - loss: 1.3987 - accuracy: 0.4921\n",
            "625/625 [==============================] - 1s 2ms/step - loss: 0.5548 - accuracy: 0.7882\n",
            "1250/1250 [==============================] - 3s 2ms/step - loss: 1.3972 - accuracy: 0.5004\n",
            "625/625 [==============================] - 1s 2ms/step - loss: 0.5557 - accuracy: 0.7955\n",
            "1250/1250 [==============================] - 3s 2ms/step - loss: 1.4054 - accuracy: 0.4920\n",
            "625/625 [==============================] - 1s 2ms/step - loss: 0.5365 - accuracy: 0.7919\n",
            "1250/1250 [==============================] - 4s 2ms/step - loss: 1.3778 - accuracy: 0.4983\n",
            "625/625 [==============================] - 1s 2ms/step - loss: 0.5680 - accuracy: 0.7772\n",
            "1250/1250 [==============================] - 3s 2ms/step - loss: 1.3958 - accuracy: 0.5023\n",
            "625/625 [==============================] - 1s 2ms/step - loss: 0.5638 - accuracy: 0.7906\n",
            "1250/1250 [==============================] - 3s 2ms/step - loss: 1.3837 - accuracy: 0.4898\n",
            "625/625 [==============================] - 1s 2ms/step - loss: 0.5735 - accuracy: 0.7786\n",
            "1250/1250 [==============================] - 4s 2ms/step - loss: 1.3703 - accuracy: 0.5031\n",
            "625/625 [==============================] - 1s 2ms/step - loss: 0.5663 - accuracy: 0.7847\n",
            "1250/1250 [==============================] - 3s 2ms/step - loss: 1.3853 - accuracy: 0.4977\n",
            "625/625 [==============================] - 1s 2ms/step - loss: 0.5701 - accuracy: 0.7828\n",
            "1250/1250 [==============================] - 3s 2ms/step - loss: 1.3818 - accuracy: 0.4961\n",
            "625/625 [==============================] - 1s 2ms/step - loss: 0.5711 - accuracy: 0.7678\n",
            "1250/1250 [==============================] - 4s 2ms/step - loss: 1.3712 - accuracy: 0.4947\n",
            "625/625 [==============================] - 1s 2ms/step - loss: 0.5649 - accuracy: 0.7920\n",
            "1250/1250 [==============================] - 4s 3ms/step - loss: 1.3902 - accuracy: 0.4923\n",
            "625/625 [==============================] - 1s 2ms/step - loss: 0.5549 - accuracy: 0.7933\n"
          ],
          "name": "stdout"
        },
        {
          "output_type": "stream",
          "text": [
            "[Parallel(n_jobs=-2)]: Done 210 out of 210 | elapsed: 17.0min finished\n"
          ],
          "name": "stderr"
        },
        {
          "output_type": "stream",
          "text": [
            "1875/1875 [==============================] - 5s 2ms/step - loss: 0.5991 - accuracy: 0.7846\n"
          ],
          "name": "stdout"
        }
      ]
    },
    {
      "cell_type": "code",
      "metadata": {
        "colab": {
          "base_uri": "https://localhost:8080/"
        },
        "id": "tkFlOsM9Pe9p",
        "outputId": "01d18ec5-9d7d-44a1-abef-cdaebe9c41b1"
      },
      "source": [
        "print(\"Gridsearch runtime {0:.3} mins\".format( (end-start)/60 ))"
      ],
      "execution_count": 80,
      "outputs": [
        {
          "output_type": "stream",
          "text": [
            "Gridsearch runtime 17.1 mins\n"
          ],
          "name": "stdout"
        }
      ]
    },
    {
      "cell_type": "code",
      "metadata": {
        "id": "IDtHfkADPe9q"
      },
      "source": [
        "# use the mean accuracy from the CV splits for determining best model score \n",
        "means = grid.cv_results_['mean_test_score']\n",
        "stds = grid.cv_results_['std_test_score']\n",
        "params = grid.cv_results_['params']\n",
        "\n",
        "# move l2 penalty values outside of dictionary and into a list\n",
        "param_values = [dic[\"dropout_prob\"] for dic in params]"
      ],
      "execution_count": 81,
      "outputs": []
    },
    {
      "cell_type": "markdown",
      "metadata": {
        "id": "80SyrDF2Pe9q"
      },
      "source": [
        "Since there are 2 indepdent variables this time around (dropout_prob and maxnorm_wc) which affect the validation accuracy, it's best to use a different plot. A heat map will work. "
      ]
    },
    {
      "cell_type": "code",
      "metadata": {
        "id": "ZCzXM0BuPe9q"
      },
      "source": [
        "dropout_prob_list = [  dic[\"dropout_prob\"]  for dic in params]\n",
        "maxnorm_wc_list = [  dic[\"maxnorm_wc\"]  for dic in params]\n",
        "data = [means, dropout_prob_list, maxnorm_wc_list ]\n",
        "\n",
        "cols = [\"val_acc\", \"dropout_prob\", \"maxnorm_wc\"]\n",
        "df_exp3 =pd.DataFrame(data=data).T\n",
        "df_exp3.columns = cols\n",
        "df_exp3.dropout_prob = df_exp3.dropout_prob.round(2)\n",
        "\n",
        "# pivot dataframe in preperation for heat map\n",
        "df_exp3 = df_exp3.pivot(\"maxnorm_wc\", \"dropout_prob\", \"val_acc\")"
      ],
      "execution_count": 82,
      "outputs": []
    },
    {
      "cell_type": "code",
      "metadata": {
        "colab": {
          "base_uri": "https://localhost:8080/",
          "height": 498
        },
        "id": "GXynYaoOPe9r",
        "outputId": "665d9774-bbdb-42dc-f587-c0bfc372e35d"
      },
      "source": [
        "# Draw a heatmap with the val_acc values in each cell\n",
        "f, ax = plt.subplots(figsize=(18, 8))\n",
        "sns.heatmap(df_exp3, annot=True,  linewidths=.5, ax=ax);"
      ],
      "execution_count": 83,
      "outputs": [
        {
          "output_type": "display_data",
          "data": {
            "image/png": "[encoded data removed]",
            "text/plain": [
              "<Figure size 1296x576 with 2 Axes>"
            ]
          },
          "metadata": {
            "tags": [],
            "needs_background": "light"
          }
        }
      ]
    },
    {
      "cell_type": "markdown",
      "metadata": {
        "id": "KAOUcOumPe-B"
      },
      "source": [
        "### Observations \n",
        "\n",
        "We can see the dropout probabilities in the horizontal axis and the maxnorm weight constraint values in the virtical axis. The values in the cells are the validation accuracy that corresponds to a pair of regularization values.\n",
        "\n",
        "Take a look at the heat map and answer the following questions. Note that depending on which model you used (the simple or complex one) your answers might be different from that of others. "
      ]
    },
    {
      "cell_type": "markdown",
      "metadata": {
        "id": "hUBKJjMDPe-B"
      },
      "source": [
        "**What range of dropout probability values tend to produce the highest validation accuracy?**"
      ]
    },
    {
      "cell_type": "markdown",
      "metadata": {
        "deletable": false,
        "nbgrader": {
          "cell_type": "markdown",
          "checksum": "0f0013d4e07104a03b4d51664a308f53",
          "grade": true,
          "grade_id": "cell-4e0cb7a9240b1531",
          "locked": false,
          "points": 0,
          "schema_version": 3,
          "solution": true,
          "task": false
        },
        "id": "-pMPF5NnPe-B"
      },
      "source": [
        "YOUR ANSWER HERE"
      ]
    },
    {
      "cell_type": "markdown",
      "metadata": {
        "id": "4eU0VZPYPe-E"
      },
      "source": [
        "**What range of maxnorm weight constraints tend to produce the highest validation accuracy?**"
      ]
    },
    {
      "cell_type": "markdown",
      "metadata": {
        "deletable": false,
        "nbgrader": {
          "cell_type": "markdown",
          "checksum": "9fd88f0bb870a910b925d60b38d17694",
          "grade": true,
          "grade_id": "cell-99539755d7d328f7",
          "locked": false,
          "points": 0,
          "schema_version": 3,
          "solution": true,
          "task": false
        },
        "id": "709P7d9lPe-M"
      },
      "source": [
        "YOUR ANSWER HERE"
      ]
    },
    {
      "cell_type": "markdown",
      "metadata": {
        "id": "-_JcfSefPe-N"
      },
      "source": [
        "**When taken together, what pair of dropout probability and maxnorm weight constraints tend to produce the highest validation accuracy?**"
      ]
    },
    {
      "cell_type": "markdown",
      "metadata": {
        "deletable": false,
        "nbgrader": {
          "cell_type": "markdown",
          "checksum": "fee1e09ed8f6d354bd7b6e2986c2b811",
          "grade": true,
          "grade_id": "cell-5e19a56b4a2d975d",
          "locked": false,
          "points": 0,
          "schema_version": 3,
          "solution": true,
          "task": false
        },
        "id": "zdTliYqjPe-N"
      },
      "source": [
        "YOUR ANSWER HERE"
      ]
    },
    {
      "cell_type": "markdown",
      "metadata": {
        "id": "kjz9Iu1TPe-N"
      },
      "source": [
        "**Do you think that using dropout was helpful in increasing model performance?**"
      ]
    },
    {
      "cell_type": "markdown",
      "metadata": {
        "deletable": false,
        "nbgrader": {
          "cell_type": "markdown",
          "checksum": "de9c1bcff3c5eb6266cc80632d0956f0",
          "grade": true,
          "grade_id": "cell-d2a2f7b284c801dc",
          "locked": false,
          "points": 0,
          "schema_version": 3,
          "solution": true,
          "task": false
        },
        "id": "2dcvQFTrPe-O"
      },
      "source": [
        "YOUR ANSWER HERE"
      ]
    },
    {
      "cell_type": "markdown",
      "metadata": {
        "id": "iNLKBSdaPe-O"
      },
      "source": [
        "-----\n",
        "# Stretch Goals for $L_p$ Space section\n",
        "\n",
        "Here are some ideas that you can explore using the custom distance metric class that you have built. Though if you think of something else, go for it!\n",
        "\n",
        "- Run a similar experiment but instead of comparing L2 between Keras and our custom class, compare L1 (Lasso) \n",
        "- Run a similar experiment but instead of comparing L2 between Keras and our custom class, compare L1_L2 (Elastic Net) \n",
        "- Run a gridsearch across several different Lp distance metrics and strengths and see which Lp distance leads to the best performing model\n",
        "    - Consider selecting a p range between **[1, 1.5, 2, 2.5, 3, 3.5, 4, 4.5, 5, ..., 10]** step size of 0.5\n",
        "    - Consider selecting a p range between **[1, 10, 100, 1000, 10000]** step size in powers of 10"
      ]
    },
    {
      "cell_type": "code",
      "metadata": {
        "id": "nRhp7fn4Pe-O"
      },
      "source": [
        ""
      ],
      "execution_count": 83,
      "outputs": []
    },
    {
      "cell_type": "code",
      "metadata": {
        "id": "LX74BAytPe-O"
      },
      "source": [
        ""
      ],
      "execution_count": 83,
      "outputs": []
    },
    {
      "cell_type": "markdown",
      "metadata": {
        "id": "HvoPw7KWPe-O"
      },
      "source": [
        "_____\n",
        "\n",
        "### Experiment 4: Train, Save, and Load a Keras model\n",
        "\n",
        "Let's get some practice with how to save and load trained Keras models \n",
        "\n",
        "For this experiment, review the section on Saving and Loading models from the guided project in order to help you to: \n",
        "\n",
        "- Build a model of your choosing\n",
        "- Gridsearch the model with a method of your choosing\n",
        "- Save the trained model to file\n",
        "- Load the trained model from file\n",
        "- Just as we did in the Guided Project, evalute the loaded model using a test set and make sure the results of the loaded model match that of the saved model "
      ]
    },
    {
      "cell_type": "code",
      "metadata": {
        "id": "sg8Tvdq1Pe-P"
      },
      "source": [
        ""
      ],
      "execution_count": 83,
      "outputs": []
    },
    {
      "cell_type": "code",
      "metadata": {
        "id": "_y7rt8W7Pe-P"
      },
      "source": [
        ""
      ],
      "execution_count": 83,
      "outputs": []
    },
    {
      "cell_type": "code",
      "metadata": {
        "id": "UbTqtrHZPe-P"
      },
      "source": [
        ""
      ],
      "execution_count": 83,
      "outputs": []
    }
  ]
}